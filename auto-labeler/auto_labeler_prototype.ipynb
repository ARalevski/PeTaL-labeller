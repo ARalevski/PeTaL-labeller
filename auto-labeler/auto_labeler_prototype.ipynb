{
  "nbformat": 4,
  "nbformat_minor": 0,
  "metadata": {
    "colab": {
      "name": "auto-labeler-prototype.ipynb",
      "provenance": [],
      "include_colab_link": true
    },
    "kernelspec": {
      "name": "python3",
      "display_name": "Python 3"
    },
    "accelerator": "GPU",
    "widgets": {
      "application/vnd.jupyter.widget-state+json": {
        "d63456f0c5c1446ebde4cf20f783ae3c": {
          "model_module": "@jupyter-widgets/controls",
          "model_name": "HBoxModel",
          "state": {
            "_view_name": "HBoxView",
            "_dom_classes": [],
            "_model_name": "HBoxModel",
            "_view_module": "@jupyter-widgets/controls",
            "_model_module_version": "1.5.0",
            "_view_count": null,
            "_view_module_version": "1.5.0",
            "box_style": "",
            "layout": "IPY_MODEL_97aefea2f8ba49e08537b264d09743e5",
            "_model_module": "@jupyter-widgets/controls",
            "children": [
              "IPY_MODEL_bca63259d95f41e2ba450de5b6525e1d",
              "IPY_MODEL_4eb87dfd518141979dba05cbd52b0312"
            ]
          }
        },
        "97aefea2f8ba49e08537b264d09743e5": {
          "model_module": "@jupyter-widgets/base",
          "model_name": "LayoutModel",
          "state": {
            "_view_name": "LayoutView",
            "grid_template_rows": null,
            "right": null,
            "justify_content": null,
            "_view_module": "@jupyter-widgets/base",
            "overflow": null,
            "_model_module_version": "1.2.0",
            "_view_count": null,
            "flex_flow": null,
            "width": null,
            "min_width": null,
            "border": null,
            "align_items": null,
            "bottom": null,
            "_model_module": "@jupyter-widgets/base",
            "top": null,
            "grid_column": null,
            "overflow_y": null,
            "overflow_x": null,
            "grid_auto_flow": null,
            "grid_area": null,
            "grid_template_columns": null,
            "flex": null,
            "_model_name": "LayoutModel",
            "justify_items": null,
            "grid_row": null,
            "max_height": null,
            "align_content": null,
            "visibility": null,
            "align_self": null,
            "height": null,
            "min_height": null,
            "padding": null,
            "grid_auto_rows": null,
            "grid_gap": null,
            "max_width": null,
            "order": null,
            "_view_module_version": "1.2.0",
            "grid_template_areas": null,
            "object_position": null,
            "object_fit": null,
            "grid_auto_columns": null,
            "margin": null,
            "display": null,
            "left": null
          }
        },
        "bca63259d95f41e2ba450de5b6525e1d": {
          "model_module": "@jupyter-widgets/controls",
          "model_name": "FloatProgressModel",
          "state": {
            "_view_name": "ProgressView",
            "style": "IPY_MODEL_8c16955666804683bba086db2bd51e9f",
            "_dom_classes": [],
            "description": "Downloading: 100%",
            "_model_name": "FloatProgressModel",
            "bar_style": "success",
            "max": 231508,
            "_view_module": "@jupyter-widgets/controls",
            "_model_module_version": "1.5.0",
            "value": 231508,
            "_view_count": null,
            "_view_module_version": "1.5.0",
            "orientation": "horizontal",
            "min": 0,
            "description_tooltip": null,
            "_model_module": "@jupyter-widgets/controls",
            "layout": "IPY_MODEL_56220ee8bd6946c3960422f4941b7ee8"
          }
        },
        "4eb87dfd518141979dba05cbd52b0312": {
          "model_module": "@jupyter-widgets/controls",
          "model_name": "HTMLModel",
          "state": {
            "_view_name": "HTMLView",
            "style": "IPY_MODEL_6320ba0468ee4fcf994436d2d5c248cc",
            "_dom_classes": [],
            "description": "",
            "_model_name": "HTMLModel",
            "placeholder": "​",
            "_view_module": "@jupyter-widgets/controls",
            "_model_module_version": "1.5.0",
            "value": " 232k/232k [00:00&lt;00:00, 727kB/s]",
            "_view_count": null,
            "_view_module_version": "1.5.0",
            "description_tooltip": null,
            "_model_module": "@jupyter-widgets/controls",
            "layout": "IPY_MODEL_3ff28789e0b14dfa9f81570f70307acd"
          }
        },
        "8c16955666804683bba086db2bd51e9f": {
          "model_module": "@jupyter-widgets/controls",
          "model_name": "ProgressStyleModel",
          "state": {
            "_view_name": "StyleView",
            "_model_name": "ProgressStyleModel",
            "description_width": "initial",
            "_view_module": "@jupyter-widgets/base",
            "_model_module_version": "1.5.0",
            "_view_count": null,
            "_view_module_version": "1.2.0",
            "bar_color": null,
            "_model_module": "@jupyter-widgets/controls"
          }
        },
        "56220ee8bd6946c3960422f4941b7ee8": {
          "model_module": "@jupyter-widgets/base",
          "model_name": "LayoutModel",
          "state": {
            "_view_name": "LayoutView",
            "grid_template_rows": null,
            "right": null,
            "justify_content": null,
            "_view_module": "@jupyter-widgets/base",
            "overflow": null,
            "_model_module_version": "1.2.0",
            "_view_count": null,
            "flex_flow": null,
            "width": null,
            "min_width": null,
            "border": null,
            "align_items": null,
            "bottom": null,
            "_model_module": "@jupyter-widgets/base",
            "top": null,
            "grid_column": null,
            "overflow_y": null,
            "overflow_x": null,
            "grid_auto_flow": null,
            "grid_area": null,
            "grid_template_columns": null,
            "flex": null,
            "_model_name": "LayoutModel",
            "justify_items": null,
            "grid_row": null,
            "max_height": null,
            "align_content": null,
            "visibility": null,
            "align_self": null,
            "height": null,
            "min_height": null,
            "padding": null,
            "grid_auto_rows": null,
            "grid_gap": null,
            "max_width": null,
            "order": null,
            "_view_module_version": "1.2.0",
            "grid_template_areas": null,
            "object_position": null,
            "object_fit": null,
            "grid_auto_columns": null,
            "margin": null,
            "display": null,
            "left": null
          }
        },
        "6320ba0468ee4fcf994436d2d5c248cc": {
          "model_module": "@jupyter-widgets/controls",
          "model_name": "DescriptionStyleModel",
          "state": {
            "_view_name": "StyleView",
            "_model_name": "DescriptionStyleModel",
            "description_width": "",
            "_view_module": "@jupyter-widgets/base",
            "_model_module_version": "1.5.0",
            "_view_count": null,
            "_view_module_version": "1.2.0",
            "_model_module": "@jupyter-widgets/controls"
          }
        },
        "3ff28789e0b14dfa9f81570f70307acd": {
          "model_module": "@jupyter-widgets/base",
          "model_name": "LayoutModel",
          "state": {
            "_view_name": "LayoutView",
            "grid_template_rows": null,
            "right": null,
            "justify_content": null,
            "_view_module": "@jupyter-widgets/base",
            "overflow": null,
            "_model_module_version": "1.2.0",
            "_view_count": null,
            "flex_flow": null,
            "width": null,
            "min_width": null,
            "border": null,
            "align_items": null,
            "bottom": null,
            "_model_module": "@jupyter-widgets/base",
            "top": null,
            "grid_column": null,
            "overflow_y": null,
            "overflow_x": null,
            "grid_auto_flow": null,
            "grid_area": null,
            "grid_template_columns": null,
            "flex": null,
            "_model_name": "LayoutModel",
            "justify_items": null,
            "grid_row": null,
            "max_height": null,
            "align_content": null,
            "visibility": null,
            "align_self": null,
            "height": null,
            "min_height": null,
            "padding": null,
            "grid_auto_rows": null,
            "grid_gap": null,
            "max_width": null,
            "order": null,
            "_view_module_version": "1.2.0",
            "grid_template_areas": null,
            "object_position": null,
            "object_fit": null,
            "grid_auto_columns": null,
            "margin": null,
            "display": null,
            "left": null
          }
        }
      }
    }
  },
  "cells": [
    {
      "cell_type": "markdown",
      "metadata": {
        "id": "view-in-github",
        "colab_type": "text"
      },
      "source": [
        "<a href=\"https://colab.research.google.com/github/nasa/PeTaL/blob/text-classification-JQ/auto-labeler/auto_labeler_prototype.ipynb\" target=\"_parent\"><img src=\"https://colab.research.google.com/assets/colab-badge.svg\" alt=\"Open In Colab\"/></a>"
      ]
    },
    {
      "cell_type": "code",
      "metadata": {
        "id": "ft-7aQbboP7f"
      },
      "source": [
        "!pip install transformers\n",
        "!pip install tensorboardX\n",
        "!pip install wikipedia\n",
        "!pip install swifter"
      ],
      "execution_count": null,
      "outputs": []
    },
    {
      "cell_type": "code",
      "metadata": {
        "id": "tpdAH3eLn9KA"
      },
      "source": [
        "import torch\n",
        "import tensorflow as tf\n",
        "import pandas as pd\n",
        "import wikipedia \n",
        "import swifter\n"
      ],
      "execution_count": 2,
      "outputs": []
    },
    {
      "cell_type": "markdown",
      "metadata": {
        "id": "Pe0Z6A0rNUgf"
      },
      "source": [
        "GPU Detection"
      ]
    },
    {
      "cell_type": "code",
      "metadata": {
        "id": "A9vxghfPocM5",
        "outputId": "35cb1c3e-3d9c-45a0-fc64-0cd646c8abe9",
        "colab": {
          "base_uri": "https://localhost:8080/",
          "height": 34
        }
      },
      "source": [
        "# GPU detection \n",
        "\n",
        "# Get GPU device name\n",
        "device_name = tf.test.gpu_device_name()\n",
        "\n",
        "if device_name == '/device:GPU:0':\n",
        "    print('Found GPU at: {}'.format(device_name))\n",
        "else:\n",
        "    raise SystemError('GPU device not found')"
      ],
      "execution_count": 3,
      "outputs": [
        {
          "output_type": "stream",
          "text": [
            "Found GPU at: /device:GPU:0\n"
          ],
          "name": "stdout"
        }
      ]
    },
    {
      "cell_type": "code",
      "metadata": {
        "id": "nGAOqbInomgX",
        "outputId": "e05113be-d6e1-4c6c-d54d-10c725925c89",
        "colab": {
          "base_uri": "https://localhost:8080/",
          "height": 51
        }
      },
      "source": [
        "# If there is a GPU available\n",
        "if torch.cuda.is_available():    \n",
        "\n",
        "    # Tell PyTorch to use GPU\n",
        "    device = torch.device(\"cuda\")\n",
        "\n",
        "    print('There are %d GPU(s) available.' % torch.cuda.device_count())\n",
        "\n",
        "    print('We will use the GPU:', torch.cuda.get_device_name(0))\n",
        "\n",
        "# If not\n",
        "else:\n",
        "    print('No GPU available, using the CPU instead.')\n",
        "    device = torch.device(\"cpu\")"
      ],
      "execution_count": 4,
      "outputs": [
        {
          "output_type": "stream",
          "text": [
            "There are 1 GPU(s) available.\n",
            "We will use the GPU: Tesla T4\n"
          ],
          "name": "stdout"
        }
      ]
    },
    {
      "cell_type": "code",
      "metadata": {
        "id": "wz8CT3qvovyy"
      },
      "source": [
        "#Creating PyDrive instance to load in data from PeTaL shared drive, follow the steps to authenticate\n",
        "!pip install -U -q PyDrive \n",
        "  \n",
        "from pydrive.auth import GoogleAuth \n",
        "from pydrive.drive import GoogleDrive \n",
        "from google.colab import auth \n",
        "from oauth2client.client import GoogleCredentials \n",
        "  \n",
        "  \n",
        "# Authenticate and create the PyDrive client. \n",
        "auth.authenticate_user() \n",
        "gauth = GoogleAuth() \n",
        "gauth.credentials = GoogleCredentials.get_application_default() \n",
        "drive = GoogleDrive(gauth)"
      ],
      "execution_count": 7,
      "outputs": []
    },
    {
      "cell_type": "code",
      "metadata": {
        "id": "z5MO_gJnov1A"
      },
      "source": [
        "\n",
        "\n",
        "#this is the un-parsed articles\n",
        "# link = 'https://drive.google.com/file/d/1iIZgKs1swHHJuumCU5xyW8tXSAnKAg18/view?usp=sharing'\n",
        "# id = link.split(\"/\")[-2] \n",
        "  \n",
        "# downloaded = drive.CreateFile({'id':id})  \n",
        "# downloaded.GetContentFile('articles.csv')   \n",
        "#df = pd.read_csv('articles.csv')\n"
      ],
      "execution_count": 8,
      "outputs": []
    },
    {
      "cell_type": "code",
      "metadata": {
        "id": "yveU_TvB7ZkD"
      },
      "source": [
        "#'https://petscan.wmflabs.org/' link to pull wikipedia articles"
      ],
      "execution_count": 17,
      "outputs": []
    },
    {
      "cell_type": "code",
      "metadata": {
        "id": "kCTYZEDsov41"
      },
      "source": [
        "#Scraping article content by ID\n",
        "def wiki_content(row):\n",
        "  id = row['pageid']\n",
        "  try:\n",
        "    content = wikipedia.page(pageid=id).content\n",
        "  except:\n",
        "    content = 'error'\n",
        "  return content\n",
        "\n",
        "df['Content'] = df.swifter.apply(wiki_content, axis=1)"
      ],
      "execution_count": null,
      "outputs": []
    },
    {
      "cell_type": "code",
      "metadata": {
        "id": "ryadSHM_GdAO"
      },
      "source": [
        "#Scraping article summary by ID\n",
        "\n",
        "def wiki_summary(row):\n",
        "  id = row['pageid']\n",
        "  try:\n",
        "    summary = wikipedia.page(pageid=id).summary\n",
        "  except:\n",
        "    summary = 'error'\n",
        "  return summary\n",
        "\n",
        "df['Summary'] = df.swifter.apply(wiki_summary, axis=1)"
      ],
      "execution_count": 19,
      "outputs": []
    },
    {
      "cell_type": "code",
      "metadata": {
        "id": "zSf2JM6Ub7lI"
      },
      "source": [
        "#Saving parsed articles as csv, can be accessed in the \"Files\" folder on the left, then download if you want\n",
        "df.to_csv('parsed_articles.csv')"
      ],
      "execution_count": 9,
      "outputs": []
    },
    {
      "cell_type": "code",
      "metadata": {
        "id": "v-mVCjGb-nsw"
      },
      "source": [
        "#Google drive link to the parsed articles\n",
        "link = 'https://drive.google.com/file/d/1XRWsEsNUHjWOjPavwrfuUpaq3DwGGE4D/view?usp=sharing'\n",
        "id = link.split(\"/\")[-2] \n",
        " \n",
        "downloaded = drive.CreateFile({'id':id})  \n",
        "downloaded.GetContentFile('parsed_articles.csv') \n",
        "df = pd.read_csv('parsed_articles.csv')\n",
        "\n",
        "df = df[(df['Content'] != 'error') & df['Content'].notnull()]\n",
        "\n",
        "#Df 'Content' column into list\n",
        "docs = list(df['Content'].values)"
      ],
      "execution_count": 23,
      "outputs": []
    },
    {
      "cell_type": "code",
      "metadata": {
        "id": "GXiUqqPwBZfB"
      },
      "source": [
        "#Labels\n",
        "\n",
        "labels = ['Maintain homeostasis', 'Protect from temperature']"
      ],
      "execution_count": 25,
      "outputs": []
    },
    {
      "cell_type": "code",
      "metadata": {
        "id": "LnZWpxgW07DY"
      },
      "source": [
        "df['Content'].value_counts().to_frame()"
      ],
      "execution_count": null,
      "outputs": []
    },
    {
      "cell_type": "markdown",
      "metadata": {
        "id": "foqKWTvsNdaz"
      },
      "source": [
        "**BERT**"
      ]
    },
    {
      "cell_type": "code",
      "metadata": {
        "id": "PZ21pfQvgtNA",
        "outputId": "81a4990e-42ab-4340-feb0-2d16b97db23f",
        "colab": {
          "base_uri": "https://localhost:8080/",
          "height": 83,
          "referenced_widgets": [
            "d63456f0c5c1446ebde4cf20f783ae3c",
            "97aefea2f8ba49e08537b264d09743e5",
            "bca63259d95f41e2ba450de5b6525e1d",
            "4eb87dfd518141979dba05cbd52b0312",
            "8c16955666804683bba086db2bd51e9f",
            "56220ee8bd6946c3960422f4941b7ee8",
            "6320ba0468ee4fcf994436d2d5c248cc",
            "3ff28789e0b14dfa9f81570f70307acd"
          ]
        }
      },
      "source": [
        "from transformers import BertTokenizer\n",
        "\n",
        "# Load BERT tokenizer\n",
        "print('Loading BERT tokenizer')\n",
        "tokenizer = BertTokenizer.from_pretrained('bert-base-uncased', do_lower_case=True)"
      ],
      "execution_count": 11,
      "outputs": [
        {
          "output_type": "stream",
          "text": [
            "Loading BERT tokenizer\n"
          ],
          "name": "stdout"
        },
        {
          "output_type": "display_data",
          "data": {
            "application/vnd.jupyter.widget-view+json": {
              "model_id": "d63456f0c5c1446ebde4cf20f783ae3c",
              "version_minor": 0,
              "version_major": 2
            },
            "text/plain": [
              "HBox(children=(FloatProgress(value=0.0, description='Downloading', max=231508.0, style=ProgressStyle(descripti…"
            ]
          },
          "metadata": {
            "tags": []
          }
        },
        {
          "output_type": "stream",
          "text": [
            "\n"
          ],
          "name": "stdout"
        }
      ]
    },
    {
      "cell_type": "code",
      "metadata": {
        "id": "FTUSIIZAhcVT",
        "outputId": "67327afe-8b8a-4b85-cc41-fbe9bd376b94",
        "colab": {
          "base_uri": "https://localhost:8080/",
          "height": 1000
        }
      },
      "source": [
        "# Make sure it is tokenizing correctly:\n",
        "\n",
        "# Print original articles\n",
        "print(' Original: ', docs[0])\n",
        "\n",
        "# Print a doc split into tokens\n",
        "print('Tokenized: ', tokenizer.tokenize(docs[0]))\n",
        "\n",
        "# Print docs as mapped to ids\n",
        "print('Token IDs: ', tokenizer.convert_tokens_to_ids(tokenizer.tokenize(docs[0])))"
      ],
      "execution_count": 32,
      "outputs": [
        {
          "output_type": "stream",
          "text": [
            " Original:  Algae (; singular alga ) is an informal term for a large and diverse group of photosynthetic eukaryotic organisms. It is a polyphyletic grouping, including species from multiple distinct clades. Included organisms range from unicellular microalgae, such as Chlorella and the diatoms, to multicellular forms, such as the giant kelp, a large brown alga which may grow up to 50 m in length. Most are aquatic and autotrophic and lack many of the distinct cell and tissue types, such as stomata, xylem and phloem, which are found in land plants. The largest and most complex marine algae are called seaweeds, while the most complex freshwater forms are the Charophyta, a division of green algae which includes, for example, Spirogyra and stoneworts.\n",
            "No definition of algae is generally accepted. One definition is that algae \"have chlorophyll as their primary photosynthetic pigment and lack a sterile covering of cells around their reproductive cells\". Although cyanobacteria are often referred to as \"blue-green algae\", most authorities exclude all prokaryotes from the definition of algae.Algae constitute a polyphyletic group since they do not include a common ancestor, and although their plastids seem to have a single origin, from cyanobacteria, they were acquired in different ways. Green algae are examples of algae that have primary chloroplasts derived from endosymbiotic cyanobacteria. Diatoms and brown algae are examples of algae with secondary chloroplasts derived from an endosymbiotic red alga.Algae exhibit a wide range of reproductive strategies, from simple asexual cell division to complex forms of sexual reproduction.Algae lack the various structures that characterize land plants, such as the phyllids (leaf-like structures) of bryophytes, rhizoids in nonvascular plants, and the roots, leaves, and other organs found in tracheophytes (vascular plants). Most are phototrophic, although some are mixotrophic, deriving energy both from photosynthesis and uptake of organic carbon either by osmotrophy, myzotrophy, or phagotrophy. Some unicellular species of green algae, many golden algae, euglenids, dinoflagellates, and other algae have become heterotrophs (also called colorless or apochlorotic algae), sometimes parasitic, relying entirely on external energy sources and have limited or no photosynthetic apparatus. Some other heterotrophic organisms, such as the apicomplexans, are also derived from cells whose ancestors possessed plastids, but are not traditionally considered as algae. Algae have photosynthetic machinery ultimately derived from cyanobacteria that produce oxygen as a by-product of photosynthesis, unlike other photosynthetic bacteria such as purple and green sulfur bacteria. Fossilized filamentous algae from the Vindhya basin have been dated back to 1.6 to 1.7 billion years ago.\n",
            "\n",
            "\n",
            "== Etymology and study ==\n",
            "The singular alga is the Latin word for 'seaweed' and retains that meaning in English. The etymology is obscure. Although some speculate that it is related to Latin algēre, 'be cold', no reason is known to associate seaweed with temperature. A more likely source is alliga, 'binding, entwining'.The Ancient Greek word for 'seaweed' was φῦκος (phŷkos), which could mean either the seaweed (probably red algae) or a red dye derived from it. The Latinization, fūcus, meant primarily the cosmetic rouge. The etymology is uncertain, but a strong candidate has long been some word related to the Biblical פוך (pūk), 'paint' (if not that word itself), a cosmetic eye-shadow used by the ancient Egyptians and other inhabitants of the eastern Mediterranean. It could be any color: black, red, green, or blue.Accordingly, the modern study of marine and freshwater algae is called either phycology or algology, depending on whether the Greek or Latin root is used. The name fucus appears in a number of taxa.\n",
            "\n",
            "\n",
            "== Classification ==\n",
            "The committee on the International Code of Botanical Nomenclature has recommended certain suffixes for use in the classification of algae. These are -phyta for division, -phyceae for class, -phycideae for subclass, -ales for order, -inales for suborder, -aceae for family, -oidease for subfamily, a Greek-based name for genus, and a Latin-based name for species.\n",
            "\n",
            "\n",
            "=== Algal characteristics basic to primary classification ===\n",
            "The primary classification of algae is based on certain morphological features. The chief among these are (a) pigment constitution of the cell, (b) chemical nature of stored food materials, (c) kind, number, point of insertion and relative length of the flagella on the motile cell, (d) chemical composition of cell wall and (e) presence or absence of a definitely organized nucleus in the cell or any other significant details of cell structure.\n",
            "\n",
            "\n",
            "=== History of classification of algae ===\n",
            "Although Carolus Linnaeus (1754) included algae along with lichens in his 25th class Cryptogamia, he did not elaborate further on the classification of algae.\n",
            "Jean Pierre Étienne Vaucher (1803) was perhaps the first to propose a system of classification of algae, and he recognized three groups, Conferves, Ulves, and Tremelles. While Johann Heinrich Friedrich Link (1820) classified algae on the basis of the colour of the pigment and structure, William Henry Harvey (1836) proposed a system of classification on the basis of the habitat and the pigment. J. G. Agardh (1849–1898) divided algae into six orders: Diatomaceae, Nostochineae, Confervoideae, Ulvaceae, Floriadeae and Fucoideae. Around 1880, algae along with fungi were grouped under Thallophyta, a division created by Eichler (1836). Encouraged by this, Adolf Engler and Karl A. E. Prantl (1912) proposed a revised scheme of classification of algae and included fungi in algae as they were of opinion that fungi have been derived from algae. The scheme proposed by Engler and Prantl is summarised as follows:\n",
            "Schizophyta\n",
            "Phytosarcodina\n",
            "Flagellata\n",
            "Dinoflagellata\n",
            "Bacillariophyta\n",
            "Conjugatae\n",
            "Chlorophyceae\n",
            "Charophyta\n",
            "Phaeophyceae\n",
            "Rhodophyceae\n",
            "Eumycetes (Fungi)\n",
            "The algae contain chloroplasts that are similar in structure to cyanobacteria. Chloroplasts contain circular DNA like that in cyanobacteria and are interpreted as representing reduced endosymbiotic cyanobacteria. However, the exact origin of the chloroplasts is different among separate lineages of algae, reflecting their acquisition during different endosymbiotic events. The table below describes the composition of the three major groups of algae. Their lineage relationships are shown in the figure in the upper right. Many of these groups contain some members that are no longer photosynthetic. Some retain plastids, but not chloroplasts, while others have lost plastids entirely.\n",
            "Phylogeny based on plastid not nucleocytoplasmic genealogy:\n",
            "\n",
            "Linnaeus, in Species Plantarum (1753), the starting point for modern botanical nomenclature, recognized 14 genera of algae, of which only four are currently considered among algae. In Systema Naturae, Linnaeus described the genera Volvox and Corallina, and a species of Acetabularia (as Madrepora), among the animals.\n",
            "In 1768, Samuel Gottlieb Gmelin (1744–1774) published the Historia Fucorum, the first work dedicated to marine algae and the first book on marine biology to use the then new binomial nomenclature of Linnaeus. It included elaborate illustrations of seaweed and marine algae on folded leaves.W. H. Harvey (1811–1866) and Lamouroux (1813) were the first to divide macroscopic algae into four divisions based on their pigmentation. This is the first use of a biochemical criterion in plant systematics. Harvey's four divisions are: red algae (Rhodospermae), brown algae (Melanospermae), green algae (Chlorospermae), and Diatomaceae.At this time, microscopic algae were discovered and reported by a different group of workers (e.g., O. F. Müller and Ehrenberg) studying the Infusoria (microscopic organisms). Unlike macroalgae, which were clearly viewed as plants, microalgae were frequently considered animals because they are often motile. Even the nonmotile (coccoid) microalgae were sometimes merely seen as stages of the lifecycle of plants, macroalgae, or animals.Although used as a taxonomic category in some pre-Darwinian classifications, e.g., Linnaeus (1753), de Jussieu (1789), Horaninow (1843), Agassiz (1859), Wilson & Cassin (1864), in further classifications, the \"algae\" are seen as an artificial, polyphyletic group.\n",
            "Throughout the 20th century, most classifications treated the following groups as divisions or classes of algae: cyanophytes, rhodophytes, chrysophytes, xanthophytes, bacillariophytes, phaeophytes, pyrrhophytes (cryptophytes and dinophytes), euglenophytes, and chlorophytes. Later, many new groups were discovered (e.g., Bolidophyceae), and others were splintered from older groups: charophytes and glaucophytes (from chlorophytes), many heterokontophytes (e.g., synurophytes from chrysophytes, or eustigmatophytes from xanthophytes), haptophytes (from chrysophytes), and chlorarachniophytes (from xanthophytes).\n",
            "With the abandonment of plant-animal dichotomous classification, most groups of algae (sometimes all) were included in Protista, later also abandoned in favour of Eukaryota. However, as a legacy of the older plant life scheme, some groups that were also treated as protozoans in the past still have duplicated classifications (see ambiregnal protists).\n",
            "Some parasitic algae (e.g., the green algae Prototheca and Helicosporidium, parasites of metazoans, or Cephaleuros, parasites of plants) were originally classified as fungi, sporozoans, or protistans of incertae sedis, while others (e.g., the green algae Phyllosiphon and Rhodochytrium, parasites of plants, or the red algae Pterocladiophila and Gelidiocolax mammillatus, parasites of other red algae, or the dinoflagellates Oodinium, parasites of fish) had their relationship with algae conjectured early. In other cases, some groups were originally characterized as parasitic algae (e.g., Chlorochytrium), but later were seen as endophytic algae. Some filamentous bacteria (e.g., Beggiatoa) were originally seen as algae. Furthermore, groups like the apicomplexans are also parasites derived from ancestors that possessed plastids, but are not included in any group traditionally seen as algae.\n",
            "\n",
            "\n",
            "== Relationship to land plants ==\n",
            "The first land plants probably evolved from shallow freshwater charophyte algae much like Chara almost 500 million years ago. These probably had an isomorphic alternation of generations and were probably filamentous. Fossils of isolated land plant spores suggest land plants may have been around as long as 475 million years ago.\n",
            "\n",
            "\n",
            "== Morphology ==\n",
            "\n",
            "A range of algal morphologies is exhibited, and convergence of features in unrelated groups is common. The only groups to exhibit three-dimensional multicellular thalli are the reds and browns, and some chlorophytes. Apical growth is constrained to subsets of these groups: the florideophyte reds, various browns, and the charophytes. The form of charophytes is quite different from those of reds and browns, because they have distinct nodes, separated by internode 'stems'; whorls of branches reminiscent of the horsetails occur at the nodes. Conceptacles are another polyphyletic trait; they appear in the coralline algae and the Hildenbrandiales, as well as the browns.Most of the simpler algae are unicellular flagellates or amoeboids, but colonial and nonmotile forms have developed independently among several of the groups. Some of the more common organizational levels, more than one of which may occur in the lifecycle of a species, are\n",
            "\n",
            "Colonial: small, regular groups of motile cells\n",
            "Capsoid: individual non-motile cells embedded in mucilage\n",
            "Coccoid: individual non-motile cells with cell walls\n",
            "Palmelloid: nonmotile cells embedded in mucilage\n",
            "Filamentous: a string of nonmotile cells connected together, sometimes branching\n",
            "Parenchymatous: cells forming a thallus with partial differentiation of tissuesIn three lines, even higher levels of organization have been reached, with full tissue differentiation. These are the brown algae,—some of which may reach 50 m in length (kelps)—the red algae, and the green algae. The most complex forms are found among the charophyte algae (see Charales and Charophyta), in a lineage that eventually led to the higher land plants. The innovation that defines these nonalgal plants is the presence of female reproductive organs with protective cell layers that protect the zygote and developing embryo. Hence, the land plants are referred to as the Embryophytes.\n",
            "\n",
            "\n",
            "== Physiology ==\n",
            "Many algae, particularly members of the Characeae, have served as model experimental organisms to understand the mechanisms of the water permeability of membranes, osmoregulation, turgor regulation, salt tolerance, cytoplasmic streaming, and the generation of action potentials.\n",
            "Phytohormones are found not only in higher plants, but in algae, too.\n",
            "\n",
            "\n",
            "== Symbiotic algae ==\n",
            "Some species of algae form symbiotic relationships with other organisms. In these symbioses, the algae supply photosynthates (organic substances) to the host organism providing protection to the algal cells. The host organism derives some or all of its energy requirements from the algae. Examples are:\n",
            "\n",
            "\n",
            "=== Lichens ===\n",
            "\n",
            "Lichens are defined by the International Association for Lichenology to be \"an association of a fungus and a photosynthetic symbiont resulting in a stable vegetative body having a specific structure\". The fungi, or mycobionts, are mainly from the Ascomycota with a few from the Basidiomycota. In nature they do not occur separate from lichens. It is unknown when they began to associate. One mycobiont associates with the same phycobiont species, rarely two, from the green algae, except that alternatively, the mycobiont may associate with a species of cyanobacteria (hence \"photobiont\" is the more accurate term). A photobiont may be associated with many different mycobionts or may live independently; accordingly, lichens are named and classified as fungal species. The association is termed a morphogenesis because the lichen has a form and capabilities not possessed by the symbiont species alone (they can be experimentally isolated). The photobiont possibly triggers otherwise latent genes in the mycobiont.Trentepohlia is an example of a common green alga genus worldwide that can grow on its own or be lichenised. Lichen thus share some of the habitat and often similar appearance with specialized species of algae (aerophytes) growing on exposed surfaces such as tree trunks and rocks and sometimes discoloring them.\n",
            "\n",
            "\n",
            "=== Coral reefs ===\n",
            "\n",
            " Coral reefs are accumulated from the calcareous exoskeletons of marine invertebrates of the order Scleractinia (stony corals). These animals metabolize sugar and oxygen to obtain energy for their cell-building processes, including secretion of the exoskeleton, with water and carbon dioxide as byproducts. Dinoflagellates (algal protists) are often endosymbionts in the cells of the coral-forming marine invertebrates, where they accelerate host-cell metabolism by generating sugar and oxygen immediately available through photosynthesis using incident light and the carbon dioxide produced by the host. Reef-building stony corals (hermatypic corals) require endosymbiotic algae from the genus Symbiodinium to be in a healthy condition. The loss of Symbiodinium from the host is known as coral bleaching, a condition which leads to the deterioration of a reef.\n",
            "\n",
            "\n",
            "=== Sea sponges ===\n",
            "\n",
            "Endosymbiontic green algae live close to the surface of some sponges, for example, breadcrumb sponges (Halichondria panicea). The alga is thus protected from predators; the sponge is provided with oxygen and sugars which can account for 50 to 80% of sponge growth in some species.\n",
            "\n",
            "\n",
            "== Lifecycle ==\n",
            "Rhodophyta, Chlorophyta, and Heterokontophyta, the three main algal divisions, have lifecycles which show considerable variation and complexity. In general, an asexual phase exists where the seaweed's cells are diploid, a sexual phase where the cells are haploid, followed by fusion of the male and female gametes. Asexual reproduction permits efficient population increases, but less variation is possible. Commonly, in sexual reproduction of unicellular and colonial algae, two specialized, sexually compatible, haploid gametes make physical contact and fuse to form a zygote. To ensure a successful mating, the development and release of gametes is highly synchronized and regulated; pheromones may play a key role in these processes. Sexual reproduction allows for more variation and provides the benefit of efficient recombinational repair of DNA damages during meiosis, a key stage of the sexual cycle.  However, sexual reproduction is more costly than asexual reproduction. Meiosis has been shown to occur in many different species of algae.\n",
            "\n",
            "\n",
            "== Numbers ==\n",
            "\n",
            "The Algal Collection of the US National Herbarium (located in the National Museum of Natural History) consists of approximately 320,500 dried specimens, which, although not exhaustive (no exhaustive collection exists), gives an idea of the order of magnitude of the number of algal species (that number remains unknown). Estimates vary widely. For example, according to one standard textbook, in the British Isles the UK Biodiversity Steering Group Report estimated there to be 20,000 algal species in the UK. Another checklist reports only about 5,000 species. Regarding the difference of about 15,000 species, the text concludes: \"It will require many detailed field surveys before it is possible to provide a reliable estimate of the total number of species ...\"\n",
            "Regional and group estimates have been made, as well:\n",
            "\n",
            "5,000–5,500 species of red algae worldwide\n",
            "\"some 1,300 in Australian Seas\"\n",
            "400 seaweed species for the western coastline of South Africa, and 212 species from the coast of KwaZulu-Natal. Some of these are duplicates, as the range extends across both coasts, and the total recorded is probably about 500 species. Most of these are listed in List of seaweeds of South Africa. These exclude phytoplankton and crustose corallines.\n",
            "669 marine species from California (US)\n",
            "642 in the check-list of Britain and Irelandand so on, but lacking any scientific basis or reliable sources, these numbers have no more credibility than the British ones mentioned above. Most estimates also omit microscopic algae, such as phytoplankton.\n",
            "The most recent estimate suggests 72,500 algal species worldwide.\n",
            "\n",
            "\n",
            "== Distribution ==\n",
            "The distribution of algal species has been fairly well studied since the founding of phytogeography in the mid-19th century. Algae spread mainly by the dispersal of spores analogously to the dispersal of Plantae by seeds and spores. This dispersal can be accomplished by air, water, or other organisms. Due to this, spores can be found in a variety of environments: fresh and marine waters, air, soil, and in or on other organisms. Whether a spore is to grow into an organism depends on the combination of the species and the environmental conditions where the spore lands.\n",
            "The spores of freshwater algae are dispersed mainly by running water and wind, as well as by living carriers. However, not all bodies of water can carry all species of algae, as the chemical composition of certain water bodies limits the algae that can survive within them. Marine spores are often spread by ocean currents. Ocean water presents many vastly different habitats based on temperature and nutrient availability, resulting in phytogeographic zones, regions, and provinces.To some degree, the distribution of algae is subject to floristic discontinuities caused by geographical features, such as Antarctica, long distances of ocean or general land masses. It is, therefore, possible to identify species occurring by locality, such as \"Pacific algae\" or \"North Sea algae\". When they occur out of their localities, hypothesizing a transport mechanism is usually possible, such as the hulls of ships. For example, Ulva reticulata and U. fasciata travelled from the mainland to Hawaii in this manner.\n",
            "Mapping is possible for select species only: \"there are many valid examples of confined distribution patterns.\" For example, Clathromorphum is an arctic genus and is not mapped far south of there. However, scientists regard the overall data as insufficient due to the \"difficulties of undertaking such studies.\"\n",
            "\n",
            "\n",
            "== Ecology ==\n",
            "\n",
            "Algae are prominent in bodies of water, common in terrestrial environments, and are found in unusual environments, such as on snow and ice. Seaweeds grow mostly in shallow marine waters, under 100 m (330 ft) deep; however, some such as Navicula pennata have been recorded to a depth of 360 m (1,180 ft). A type of algae, Ancylonema nordenskioeldii, was found in Greenland in areas known as the 'Dark Zone', which caused an increase in the rate of melting ice sheet. Same algae was found in the Italian Alps, after pink ice appeared on parts of the Presena glacier.The various sorts of algae play significant roles in aquatic ecology. Microscopic forms that live suspended in the water column (phytoplankton) provide the food base for most marine food chains. In very high densities (algal blooms), these algae may discolor the water and outcompete, poison, or asphyxiate other life forms.\n",
            "Algae can be used as indicator organisms to monitor pollution in various aquatic systems. In many cases, algal metabolism is sensitive to various pollutants. Due to this, the species composition of algal populations may shift in the presence of chemical pollutants. To detect these changes, algae can be sampled from the environment and maintained in laboratories with relative ease.On the basis of their habitat, algae can be categorized as: aquatic (planktonic, benthic, marine, freshwater, lentic, lotic), terrestrial, aerial (subaerial), lithophytic, halophytic (or euryhaline), psammon, thermophilic, cryophilic, epibiont (epiphytic, epizoic), endosymbiont (endophytic, endozoic), parasitic, calcifilic or lichenic (phycobiont).\n",
            "\n",
            "\n",
            "== Cultural associations ==\n",
            "In classical Chinese, the word 藻 is used both for \"algae\" and (in the modest tradition of the imperial scholars) for \"literary talent\". The third island in Kunming Lake beside the Summer Palace in Beijing is known as the Zaojian Tang Dao, which thus simultaneously means \"Island of the Algae-Viewing Hall\" and \"Island of the Hall for Reflecting on Literary Talent\".\n",
            "\n",
            "\n",
            "== Uses ==\n",
            "\n",
            "\n",
            "=== Agar ===\n",
            "Agar, a gelatinous substance derived from red algae, has a number of commercial uses. It is a good medium on which to grow bacteria and fungi, as most microorganisms cannot digest agar.\n",
            "\n",
            "\n",
            "=== Alginates ===\n",
            "Alginic acid, or alginate, is extracted from brown algae. Its uses range from gelling agents in food, to medical dressings. Alginic acid also has been used in the field of biotechnology as a biocompatible medium for cell encapsulation and cell immobilization. Molecular cuisine is also a user of the substance for its gelling properties, by which it becomes a delivery vehicle for flavours.\n",
            "Between 100,000 and 170,000 wet tons of Macrocystis are harvested annually in New Mexico for alginate extraction and abalone feed.\n",
            "\n",
            "\n",
            "=== Energy source ===\n",
            "\n",
            "To be competitive and independent from fluctuating support from (local) policy on the long run, biofuels should equal or beat the cost level of fossil fuels. Here, algae-based fuels hold great promise, directly related to the potential to produce more biomass per unit area in a year than any other form of biomass. The break-even point for algae-based biofuels is estimated to occur by 2025.\n",
            "\n",
            "\n",
            "=== Fertilizer ===\n",
            "\n",
            "For centuries, seaweed has been used as a fertilizer; George Owen of Henllys writing in the 16th century referring to drift weed in South Wales:\n",
            "This kind of ore they often gather and lay on great heapes, where it heteth and rotteth, and will have a strong and loathsome smell; when being so rotten they cast on the land, as they do their muck, and thereof springeth good corn, especially barley ... After spring-tydes or great rigs of the sea, they fetch it in sacks on horse backes, and carie the same three, four, or five miles, and cast it on the lande, which doth very much better the ground for corn and grass.\n",
            "Today, algae are used by humans in many ways; for example, as fertilizers, soil conditioners, and livestock feed. Aquatic and microscopic species are cultured in clear tanks or ponds and are either harvested or used to treat effluents pumped through the ponds. Algaculture on a large scale is an important type of aquaculture in some places. Maerl is commonly used as a soil conditioner.\n",
            "\n",
            "\n",
            "=== Nutrition ===\n",
            "\n",
            "Naturally growing seaweeds are an important source of food, especially in Asia. They provide many vitamins including: A, B1, B2, B6, niacin, and C, and are rich in iodine, potassium, iron, magnesium, and calcium. In addition, commercially cultivated microalgae, including both algae and cyanobacteria, are marketed as nutritional supplements, such as spirulina, Chlorella and the vitamin-C supplement from Dunaliella, high in beta-carotene.\n",
            "Algae are national foods of many nations: China consumes more than 70 species, including fat choy, a cyanobacterium considered a vegetable; Japan, over 20 species such as nori and aonori; Ireland, dulse; Chile, cochayuyo. Laver is used to make laver bread in Wales, where it is known as bara lawr; in Korea, gim. It is also used along the west coast of North America from California to British Columbia, in Hawaii and by the Māori of New Zealand. Sea lettuce and badderlocks are salad ingredients in Scotland, Ireland, Greenland, and Iceland. Algae is being considered a potential solution for world hunger problem.The oils from some algae have high levels of unsaturated fatty acids. For example, Parietochloris incisa is very high in arachidonic acid, where it reaches up to 47% of the triglyceride pool. Some varieties of algae favored by vegetarianism and veganism contain the long-chain, essential omega-3 fatty acids, docosahexaenoic acid (DHA) and eicosapentaenoic acid (EPA). Fish oil contains the omega-3 fatty acids, but the original source is algae (microalgae in particular), which are eaten by marine life such as copepods and are passed up the food chain. Algae have emerged in recent years as a popular source of omega-3 fatty acids for vegetarians who cannot get long-chain EPA and DHA from other vegetarian sources such as flaxseed oil, which only contains the short-chain alpha-linolenic acid (ALA).\n",
            "\n",
            "\n",
            "=== Pollution control ===\n",
            "Sewage can be treated with algae, reducing the use of large amounts of toxic chemicals that would otherwise be needed.\n",
            "Algae can be used to capture fertilizers in runoff from farms. When subsequently harvested, the enriched algae can be used as fertilizer.\n",
            "Aquaria and ponds can be filtered using algae, which absorb nutrients from the water in a device called an algae scrubber, also known as an algae turf scrubber.Agricultural Research Service scientists found that 60–90% of nitrogen runoff and 70–100% of phosphorus runoff can be captured from manure effluents using a horizontal algae scrubber, also called an algal turf scrubber (ATS). Scientists developed the ATS, which consists of shallow, 100-foot raceways of nylon netting where algae colonies can form, and studied its efficacy for three years. They found that algae can readily be used to reduce the nutrient runoff from agricultural fields and increase the quality of water flowing into rivers, streams, and oceans. Researchers collected and dried the nutrient-rich algae from the ATS and studied its potential as an organic fertilizer. They found that cucumber and corn seedlings grew just as well using ATS organic fertilizer as they did with commercial fertilizers. Algae scrubbers, using bubbling upflow or vertical waterfall versions, are now also being used to filter aquaria and ponds.\n",
            "\n",
            "\n",
            "=== Polymers ===\n",
            "Various polymers can be created from algae, which can be especially useful in the creation of bioplastics.  These include hybrid plastics, cellulose based plastics, poly-lactic acid, and bio-polyethylene. Several companies have begun to produce algae polymers commercially, including for use in flip-flops and in surf boards.\n",
            "\n",
            "\n",
            "=== Bioremediation ===\n",
            "The alga Stichococcus bacillaris has been seen to colonize silicone resins used at archaeological sites; biodegrading the synthetic substance.\n",
            "\n",
            "\n",
            "=== Pigments ===\n",
            "The natural pigments (carotenoids and chlorophylls) produced by algae can be used as alternatives to chemical dyes and coloring agents.\n",
            "The presence of some individual algal pigments, together with specific pigment concentration ratios, are taxon-specific: analysis of their concentrations with various analytical methods, particularly high-performance liquid chromatography, can therefore offer deep insight into the taxonomic composition and relative abundance of natural algae populations in sea water samples.\n",
            "\n",
            "\n",
            "=== Stabilizing substances ===\n",
            "\n",
            "Carrageenan, from the red alga Chondrus crispus, is used as a stabilizer in milk products.\n",
            "\n",
            "\n",
            "== Additional images ==\n",
            "\n",
            "\n",
            "== See also ==\n",
            "AlgaeBase\n",
            "AlgaePARC\n",
            "Eutrophication\n",
            "Iron fertilization\n",
            "Marimo algae\n",
            "Microbiofuels\n",
            "Microphyte\n",
            "Photobioreactor\n",
            "Plant\n",
            "Toxoid – anatoxin\n",
            "\n",
            "\n",
            "== References ==\n",
            "\n",
            "\n",
            "== Bibliography ==\n",
            "\n",
            "\n",
            "== External links ==\n",
            "Guiry, Michael; Guiry, Wendy. \"AlgaeBase\". – a database of all algal names including images, nomenclature, taxonomy, distribution, bibliography, uses, extracts\n",
            "\"Algae – Cell Centered Database\". CCDb.UCSD.edu. San Diego: University of California.\n",
            "\"Algae Research\". National Museum of Natural History, Department of Botany. 2008. Archived from the original on 1 December 2008. Retrieved 19 December 2008.\n",
            "Anderson, Don; Keafer, Bruce; Kleindinst, Judy; Shaughnessy, Katie; Joyce, Katherine; Fino, Danielle; Shepherd, Adam (2007). \"Harmful Algae\". US National Office for Harmful Algal Blooms. Archived from the original on 5 December 2008. Retrieved 19 December 2008.\n",
            "\"Australian Freshwater Algae (AFA)\". Department of Environment / Climate Change NSW Botanic Gardens Trust. Archived from the original on 30 December 2008. Retrieved 19 December 2008.\n",
            "\"Freshwater Algae Research\". Phycology Section, Patrick Center for Environmental Research. 2011. Retrieved 17 December 2011.\n",
            "\"Monterey Bay Flora\". Monterey Bay Aquarium Research Institute (MBARI). 1996–2008. Archived from the original on 25 January 2009. Retrieved 20 December 2008.\n",
            "Silva, Paul (1997–2004). \"Index Nominum Algarum (INA)\". Berkeley: University Herbarium, University of California. Archived from the original on 23 December 2008. Retrieved 19 December 2008.\n",
            "\"Algae: Protists with Chloroplasts\". TolWeb.org.\n",
            "\"Research on microalgae\". Algae.WUR.nl. Wageningen UR. 2009. Archived from the original on 24 April 2009. Retrieved 18 May 2009.\n",
            "\"Algae glossary\". Australian Biological Resources Study. Archived from the original on 1 November 2012 – via Environment.gov.au.\n",
            "\"About Algae\". NMH.ac.uk. Natural History Museum, United Kingdom.\n",
            "EnAlgae\n",
            "Tokenized:  ['algae', '(', ';', 'singular', 'al', '##ga', ')', 'is', 'an', 'informal', 'term', 'for', 'a', 'large', 'and', 'diverse', 'group', 'of', 'photos', '##yn', '##the', '##tic', 'eu', '##kar', '##yo', '##tic', 'organisms', '.', 'it', 'is', 'a', 'poly', '##phy', '##let', '##ic', 'grouping', ',', 'including', 'species', 'from', 'multiple', 'distinct', 'clade', '##s', '.', 'included', 'organisms', 'range', 'from', 'un', '##ice', '##ll', '##ular', 'micro', '##al', '##ga', '##e', ',', 'such', 'as', 'ch', '##lore', '##lla', 'and', 'the', 'dia', '##tom', '##s', ',', 'to', 'multi', '##cellular', 'forms', ',', 'such', 'as', 'the', 'giant', 'ke', '##lp', ',', 'a', 'large', 'brown', 'al', '##ga', 'which', 'may', 'grow', 'up', 'to', '50', 'm', 'in', 'length', '.', 'most', 'are', 'aquatic', 'and', 'auto', '##tro', '##phic', 'and', 'lack', 'many', 'of', 'the', 'distinct', 'cell', 'and', 'tissue', 'types', ',', 'such', 'as', 'st', '##oma', '##ta', ',', 'x', '##yle', '##m', 'and', 'ph', '##loe', '##m', ',', 'which', 'are', 'found', 'in', 'land', 'plants', '.', 'the', 'largest', 'and', 'most', 'complex', 'marine', 'algae', 'are', 'called', 'sea', '##weed', '##s', ',', 'while', 'the', 'most', 'complex', 'freshwater', 'forms', 'are', 'the', 'char', '##op', '##hy', '##ta', ',', 'a', 'division', 'of', 'green', 'algae', 'which', 'includes', ',', 'for', 'example', ',', 'sp', '##iro', '##gy', '##ra', 'and', 'stone', '##wo', '##rts', '.', 'no', 'definition', 'of', 'algae', 'is', 'generally', 'accepted', '.', 'one', 'definition', 'is', 'that', 'algae', '\"', 'have', 'ch', '##lor', '##op', '##hyl', '##l', 'as', 'their', 'primary', 'photos', '##yn', '##the', '##tic', 'pigment', 'and', 'lack', 'a', 'sterile', 'covering', 'of', 'cells', 'around', 'their', 'reproductive', 'cells', '\"', '.', 'although', 'cy', '##ano', '##ba', '##cter', '##ia', 'are', 'often', 'referred', 'to', 'as', '\"', 'blue', '-', 'green', 'algae', '\"', ',', 'most', 'authorities', 'exclude', 'all', 'pro', '##kar', '##yo', '##tes', 'from', 'the', 'definition', 'of', 'algae', '.', 'algae', 'constitute', 'a', 'poly', '##phy', '##let', '##ic', 'group', 'since', 'they', 'do', 'not', 'include', 'a', 'common', 'ancestor', ',', 'and', 'although', 'their', 'pl', '##ast', '##ids', 'seem', 'to', 'have', 'a', 'single', 'origin', ',', 'from', 'cy', '##ano', '##ba', '##cter', '##ia', ',', 'they', 'were', 'acquired', 'in', 'different', 'ways', '.', 'green', 'algae', 'are', 'examples', 'of', 'algae', 'that', 'have', 'primary', 'ch', '##lor', '##op', '##las', '##ts', 'derived', 'from', 'end', '##os', '##ym', '##biotic', 'cy', '##ano', '##ba', '##cter', '##ia', '.', 'dia', '##tom', '##s', 'and', 'brown', 'algae', 'are', 'examples', 'of', 'algae', 'with', 'secondary', 'ch', '##lor', '##op', '##las', '##ts', 'derived', 'from', 'an', 'end', '##os', '##ym', '##biotic', 'red', 'al', '##ga', '.', 'algae', 'exhibit', 'a', 'wide', 'range', 'of', 'reproductive', 'strategies', ',', 'from', 'simple', 'as', '##ex', '##ual', 'cell', 'division', 'to', 'complex', 'forms', 'of', 'sexual', 'reproduction', '.', 'algae', 'lack', 'the', 'various', 'structures', 'that', 'character', '##ize', 'land', 'plants', ',', 'such', 'as', 'the', 'ph', '##yl', '##lid', '##s', '(', 'leaf', '-', 'like', 'structures', ')', 'of', 'br', '##yo', '##phy', '##tes', ',', 'r', '##hi', '##zo', '##ids', 'in', 'non', '##vas', '##cular', 'plants', ',', 'and', 'the', 'roots', ',', 'leaves', ',', 'and', 'other', 'organs', 'found', 'in', 'tr', '##ache', '##op', '##hy', '##tes', '(', 'vascular', 'plants', ')', '.', 'most', 'are', 'photo', '##tro', '##phic', ',', 'although', 'some', 'are', 'mix', '##ot', '##rop', '##hic', ',', 'der', '##iving', 'energy', 'both', 'from', 'photos', '##yn', '##thesis', 'and', 'up', '##take', 'of', 'organic', 'carbon', 'either', 'by', 'os', '##mot', '##rop', '##hy', ',', 'my', '##zo', '##tro', '##phy', ',', 'or', 'ph', '##ago', '##tro', '##phy', '.', 'some', 'un', '##ice', '##ll', '##ular', 'species', 'of', 'green', 'algae', ',', 'many', 'golden', 'algae', ',', 'eu', '##gle', '##ni', '##ds', ',', 'dino', '##fl', '##age', '##lla', '##tes', ',', 'and', 'other', 'algae', 'have', 'become', 'het', '##ero', '##tro', '##phs', '(', 'also', 'called', 'color', '##less', 'or', 'ap', '##och', '##lor', '##otic', 'algae', ')', ',', 'sometimes', 'parasitic', ',', 'relying', 'entirely', 'on', 'external', 'energy', 'sources', 'and', 'have', 'limited', 'or', 'no', 'photos', '##yn', '##the', '##tic', 'apparatus', '.', 'some', 'other', 'het', '##ero', '##tro', '##phic', 'organisms', ',', 'such', 'as', 'the', 'api', '##com', '##plex', '##ans', ',', 'are', 'also', 'derived', 'from', 'cells', 'whose', 'ancestors', 'possessed', 'pl', '##ast', '##ids', ',', 'but', 'are', 'not', 'traditionally', 'considered', 'as', 'algae', '.', 'algae', 'have', 'photos', '##yn', '##the', '##tic', 'machinery', 'ultimately', 'derived', 'from', 'cy', '##ano', '##ba', '##cter', '##ia', 'that', 'produce', 'oxygen', 'as', 'a', 'by', '-', 'product', 'of', 'photos', '##yn', '##thesis', ',', 'unlike', 'other', 'photos', '##yn', '##the', '##tic', 'bacteria', 'such', 'as', 'purple', 'and', 'green', 'sulfur', 'bacteria', '.', 'fossil', '##ized', 'fi', '##lam', '##ent', '##ous', 'algae', 'from', 'the', 'vin', '##dh', '##ya', 'basin', 'have', 'been', 'dated', 'back', 'to', '1', '.', '6', 'to', '1', '.', '7', 'billion', 'years', 'ago', '.', '=', '=', 'etymology', 'and', 'study', '=', '=', 'the', 'singular', 'al', '##ga', 'is', 'the', 'latin', 'word', 'for', \"'\", 'sea', '##weed', \"'\", 'and', 'retains', 'that', 'meaning', 'in', 'english', '.', 'the', 'etymology', 'is', 'obscure', '.', 'although', 'some', 'spec', '##ulate', 'that', 'it', 'is', 'related', 'to', 'latin', 'al', '##ger', '##e', ',', \"'\", 'be', 'cold', \"'\", ',', 'no', 'reason', 'is', 'known', 'to', 'associate', 'sea', '##weed', 'with', 'temperature', '.', 'a', 'more', 'likely', 'source', 'is', 'all', '##iga', ',', \"'\", 'binding', ',', 'en', '##t', '##win', '##ing', \"'\", '.', 'the', 'ancient', 'greek', 'word', 'for', \"'\", 'sea', '##weed', \"'\", 'was', 'φ', '##υ', '##κ', '##ος', '(', 'ph', '##yk', '##os', ')', ',', 'which', 'could', 'mean', 'either', 'the', 'sea', '##weed', '(', 'probably', 'red', 'algae', ')', 'or', 'a', 'red', 'dye', 'derived', 'from', 'it', '.', 'the', 'latin', '##ization', ',', 'fu', '##cus', ',', 'meant', 'primarily', 'the', 'cosmetic', 'rouge', '.', 'the', 'etymology', 'is', 'uncertain', ',', 'but', 'a', 'strong', 'candidate', 'has', 'long', 'been', 'some', 'word', 'related', 'to', 'the', 'biblical', 'פ', '##ו', '##ך', '(', 'pu', '##k', ')', ',', \"'\", 'paint', \"'\", '(', 'if', 'not', 'that', 'word', 'itself', ')', ',', 'a', 'cosmetic', 'eye', '-', 'shadow', 'used', 'by', 'the', 'ancient', 'egyptians', 'and', 'other', 'inhabitants', 'of', 'the', 'eastern', 'mediterranean', '.', 'it', 'could', 'be', 'any', 'color', ':', 'black', ',', 'red', ',', 'green', ',', 'or', 'blue', '.', 'accordingly', ',', 'the', 'modern', 'study', 'of', 'marine', 'and', 'freshwater', 'algae', 'is', 'called', 'either', 'ph', '##y', '##cology', 'or', 'al', '##gol', '##ogy', ',', 'depending', 'on', 'whether', 'the', 'greek', 'or', 'latin', 'root', 'is', 'used', '.', 'the', 'name', 'fu', '##cus', 'appears', 'in', 'a', 'number', 'of', 'taxa', '.', '=', '=', 'classification', '=', '=', 'the', 'committee', 'on', 'the', 'international', 'code', 'of', 'botanical', 'nomenclature', 'has', 'recommended', 'certain', 'suffix', '##es', 'for', 'use', 'in', 'the', 'classification', 'of', 'algae', '.', 'these', 'are', '-', 'ph', '##yt', '##a', 'for', 'division', ',', '-', 'ph', '##yce', '##ae', 'for', 'class', ',', '-', 'ph', '##y', '##cide', '##ae', 'for', 'sub', '##class', ',', '-', 'ale', '##s', 'for', 'order', ',', '-', 'ina', '##les', 'for', 'sub', '##ord', '##er', ',', '-', 'ace', '##ae', 'for', 'family', ',', '-', 'o', '##ide', '##ase', 'for', 'subfamily', ',', 'a', 'greek', '-', 'based', 'name', 'for', 'genus', ',', 'and', 'a', 'latin', '-', 'based', 'name', 'for', 'species', '.', '=', '=', '=', 'al', '##gal', 'characteristics', 'basic', 'to', 'primary', 'classification', '=', '=', '=', 'the', 'primary', 'classification', 'of', 'algae', 'is', 'based', 'on', 'certain', 'morphological', 'features', '.', 'the', 'chief', 'among', 'these', 'are', '(', 'a', ')', 'pigment', 'constitution', 'of', 'the', 'cell', ',', '(', 'b', ')', 'chemical', 'nature', 'of', 'stored', 'food', 'materials', ',', '(', 'c', ')', 'kind', ',', 'number', ',', 'point', 'of', 'insertion', 'and', 'relative', 'length', 'of', 'the', 'flag', '##ella', 'on', 'the', 'mo', '##tile', 'cell', ',', '(', 'd', ')', 'chemical', 'composition', 'of', 'cell', 'wall', 'and', '(', 'e', ')', 'presence', 'or', 'absence', 'of', 'a', 'definitely', 'organized', 'nucleus', 'in', 'the', 'cell', 'or', 'any', 'other', 'significant', 'details', 'of', 'cell', 'structure', '.', '=', '=', '=', 'history', 'of', 'classification', 'of', 'algae', '=', '=', '=', 'although', 'carol', '##us', 'linnaeus', '(', '1754', ')', 'included', 'algae', 'along', 'with', 'li', '##chen', '##s', 'in', 'his', '25th', 'class', 'crypt', '##oga', '##mia', ',', 'he', 'did', 'not', 'elaborate', 'further', 'on', 'the', 'classification', 'of', 'algae', '.', 'jean', 'pierre', 'etienne', 'va', '##ucher', '(', '1803', ')', 'was', 'perhaps', 'the', 'first', 'to', 'propose', 'a', 'system', 'of', 'classification', 'of', 'algae', ',', 'and', 'he', 'recognized', 'three', 'groups', ',', 'con', '##fer', '##ves', ',', 'ul', '##ves', ',', 'and', 'tre', '##mel', '##les', '.', 'while', 'johann', 'heinrich', 'friedrich', 'link', '(', '1820', ')', 'classified', 'algae', 'on', 'the', 'basis', 'of', 'the', 'colour', 'of', 'the', 'pigment', 'and', 'structure', ',', 'william', 'henry', 'harvey', '(', '1836', ')', 'proposed', 'a', 'system', 'of', 'classification', 'on', 'the', 'basis', 'of', 'the', 'habitat', 'and', 'the', 'pigment', '.', 'j', '.', 'g', '.', 'ag', '##ard', '##h', '(', '1849', '–', '1898', ')', 'divided', 'algae', 'into', 'six', 'orders', ':', 'dia', '##tom', '##aceae', ',', 'nos', '##to', '##chin', '##ea', '##e', ',', 'con', '##fer', '##vo', '##ide', '##ae', ',', 'ul', '##vac', '##ea', '##e', ',', 'fl', '##oria', '##de', '##ae', 'and', 'fu', '##co', '##ide', '##ae', '.', 'around', '1880', ',', 'algae', 'along', 'with', 'fungi', 'were', 'grouped', 'under', 'tha', '##llo', '##phy', '##ta', ',', 'a', 'division', 'created', 'by', 'e', '##ich', '##ler', '(', '1836', ')', '.', 'encouraged', 'by', 'this', ',', 'adolf', 'eng', '##ler', 'and', 'karl', 'a', '.', 'e', '.', 'pr', '##ant', '##l', '(', '1912', ')', 'proposed', 'a', 'revised', 'scheme', 'of', 'classification', 'of', 'algae', 'and', 'included', 'fungi', 'in', 'algae', 'as', 'they', 'were', 'of', 'opinion', 'that', 'fungi', 'have', 'been', 'derived', 'from', 'algae', '.', 'the', 'scheme', 'proposed', 'by', 'eng', '##ler', 'and', 'pr', '##ant', '##l', 'is', 'sum', '##mar', '##ised', 'as', 'follows', ':', 'sc', '##hi', '##zo', '##phy', '##ta', 'ph', '##yt', '##osa', '##rco', '##dina', 'flag', '##ella', '##ta', 'dino', '##fl', '##age', '##lla', '##ta', 'ba', '##ci', '##llar', '##io', '##phy', '##ta', 'con', '##ju', '##gata', '##e', 'ch', '##lor', '##op', '##hy', '##ceae', 'char', '##op', '##hy', '##ta', 'ph', '##ae', '##op', '##hy', '##ceae', 'r', '##ho', '##do', '##phy', '##ceae', 'eu', '##my', '##ce', '##tes', '(', 'fungi', ')', 'the', 'algae', 'contain', 'ch', '##lor', '##op', '##las', '##ts', 'that', 'are', 'similar', 'in', 'structure', 'to', 'cy', '##ano', '##ba', '##cter', '##ia', '.', 'ch', '##lor', '##op', '##las', '##ts', 'contain', 'circular', 'dna', 'like', 'that', 'in', 'cy', '##ano', '##ba', '##cter', '##ia', 'and', 'are', 'interpreted', 'as', 'representing', 'reduced', 'end', '##os', '##ym', '##biotic', 'cy', '##ano', '##ba', '##cter', '##ia', '.', 'however', ',', 'the', 'exact', 'origin', 'of', 'the', 'ch', '##lor', '##op', '##las', '##ts', 'is', 'different', 'among', 'separate', 'lineage', '##s', 'of', 'algae', ',', 'reflecting', 'their', 'acquisition', 'during', 'different', 'end', '##os', '##ym', '##biotic', 'events', '.', 'the', 'table', 'below', 'describes', 'the', 'composition', 'of', 'the', 'three', 'major', 'groups', 'of', 'algae', '.', 'their', 'lineage', 'relationships', 'are', 'shown', 'in', 'the', 'figure', 'in', 'the', 'upper', 'right', '.', 'many', 'of', 'these', 'groups', 'contain', 'some', 'members', 'that', 'are', 'no', 'longer', 'photos', '##yn', '##the', '##tic', '.', 'some', 'retain', 'pl', '##ast', '##ids', ',', 'but', 'not', 'ch', '##lor', '##op', '##las', '##ts', ',', 'while', 'others', 'have', 'lost', 'pl', '##ast', '##ids', 'entirely', '.', 'ph', '##yl', '##ogen', '##y', 'based', 'on', 'pl', '##ast', '##id', 'not', 'nu', '##cle', '##oc', '##yt', '##op', '##las', '##mic', 'genealogy', ':', 'linnaeus', ',', 'in', 'species', 'plant', '##aru', '##m', '(', '1753', ')', ',', 'the', 'starting', 'point', 'for', 'modern', 'botanical', 'nomenclature', ',', 'recognized', '14', 'genera', 'of', 'algae', ',', 'of', 'which', 'only', 'four', 'are', 'currently', 'considered', 'among', 'algae', '.', 'in', 'system', '##a', 'nat', '##ura', '##e', ',', 'linnaeus', 'described', 'the', 'genera', 'volvo', '##x', 'and', 'coral', '##lina', ',', 'and', 'a', 'species', 'of', 'ace', '##ta', '##bular', '##ia', '(', 'as', 'mad', '##re', '##por', '##a', ')', ',', 'among', 'the', 'animals', '.', 'in', '1768', ',', 'samuel', 'got', '##tl', '##ie', '##b', 'gm', '##elin', '(', '1744', '–', '1774', ')', 'published', 'the', 'historia', 'fu', '##cor', '##um', ',', 'the', 'first', 'work', 'dedicated', 'to', 'marine', 'algae', 'and', 'the', 'first', 'book', 'on', 'marine', 'biology', 'to', 'use', 'the', 'then', 'new', 'bin', '##omi', '##al', 'nomenclature', 'of', 'linnaeus', '.', 'it', 'included', 'elaborate', 'illustrations', 'of', 'sea', '##weed', 'and', 'marine', 'algae', 'on', 'folded', 'leaves', '.', 'w', '.', 'h', '.', 'harvey', '(', '1811', '–', '1866', ')', 'and', 'lam', '##our', '##oux', '(', '1813', ')', 'were', 'the', 'first', 'to', 'divide', 'macro', '##scopic', 'algae', 'into', 'four', 'divisions', 'based', 'on', 'their', 'pigment', '##ation', '.', 'this', 'is', 'the', 'first', 'use', 'of', 'a', 'bio', '##chemical', 'criterion', 'in', 'plant', 'systematic', '##s', '.', 'harvey', \"'\", 's', 'four', 'divisions', 'are', ':', 'red', 'algae', '(', 'r', '##ho', '##dos', '##per', '##ma', '##e', ')', ',', 'brown', 'algae', '(', 'mel', '##ano', '##sper', '##ma', '##e', ')', ',', 'green', 'algae', '(', 'ch', '##lor', '##os', '##per', '##ma', '##e', ')', ',', 'and', 'dia', '##tom', '##aceae', '.', 'at', 'this', 'time', ',', 'microscopic', 'algae', 'were', 'discovered', 'and', 'reported', 'by', 'a', 'different', 'group', 'of', 'workers', '(', 'e', '.', 'g', '.', ',', 'o', '.', 'f', '.', 'muller', 'and', 'eh', '##ren', '##berg', ')', 'studying', 'the', 'in', '##fus', '##oria', '(', 'microscopic', 'organisms', ')', '.', 'unlike', 'macro', '##al', '##ga', '##e', ',', 'which', 'were', 'clearly', 'viewed', 'as', 'plants', ',', 'micro', '##al', '##ga', '##e', 'were', 'frequently', 'considered', 'animals', 'because', 'they', 'are', 'often', 'mo', '##tile', '.', 'even', 'the', 'non', '##mot', '##ile', '(', 'co', '##cco', '##id', ')', 'micro', '##al', '##ga', '##e', 'were', 'sometimes', 'merely', 'seen', 'as', 'stages', 'of', 'the', 'life', '##cycle', 'of', 'plants', ',', 'macro', '##al', '##ga', '##e', ',', 'or', 'animals', '.', 'although', 'used', 'as', 'a', 'taxonomic', 'category', 'in', 'some', 'pre', '-', 'darwin', '##ian', 'classifications', ',', 'e', '.', 'g', '.', ',', 'linnaeus', '(', '1753', ')', ',', 'de', 'ju', '##ssi', '##eu', '(', '1789', ')', ',', 'ho', '##rani', '##now', '(', '1843', ')', ',', 'ag', '##ass', '##iz', '(', '1859', ')', ',', 'wilson', '&', 'cass', '##in', '(', '1864', ')', ',', 'in', 'further', 'classifications', ',', 'the', '\"', 'algae', '\"', 'are', 'seen', 'as', 'an', 'artificial', ',', 'poly', '##phy', '##let', '##ic', 'group', '.', 'throughout', 'the', '20th', 'century', ',', 'most', 'classifications', 'treated', 'the', 'following', 'groups', 'as', 'divisions', 'or', 'classes', 'of', 'algae', ':', 'cy', '##ano', '##phy', '##tes', ',', 'r', '##ho', '##do', '##phy', '##tes', ',', 'ch', '##rys', '##op', '##hy', '##tes', ',', 'x', '##ant', '##hop', '##hy', '##tes', ',', 'ba', '##ci', '##llar', '##io', '##phy', '##tes', ',', 'ph', '##ae', '##op', '##hy', '##tes', ',', 'p', '##yr', '##rh', '##op', '##hy', '##tes', '(', 'crypt', '##op', '##hy', '##tes', 'and', 'dino', '##phy', '##tes', ')', ',', 'eu', '##gle', '##no', '##phy', '##tes', ',', 'and', 'ch', '##lor', '##op', '##hy', '##tes', '.', 'later', ',', 'many', 'new', 'groups', 'were', 'discovered', '(', 'e', '.', 'g', '.', ',', 'bo', '##lid', '##op', '##hy', '##ceae', ')', ',', 'and', 'others', 'were', 'splinter', '##ed', 'from', 'older', 'groups', ':', 'char', '##op', '##hy', '##tes', 'and', 'g', '##lau', '##co', '##phy', '##tes', '(', 'from', 'ch', '##lor', '##op', '##hy', '##tes', ')', ',', 'many', 'het', '##ero', '##kon', '##top', '##hy', '##tes', '(', 'e', '.', 'g', '.', ',', 'syn', '##uro', '##phy', '##tes', 'from', 'ch', '##rys', '##op', '##hy', '##tes', ',', 'or', 'eu', '##sti', '##gm', '##ato', '##phy', '##tes', 'from', 'x', '##ant', '##hop', '##hy', '##tes', ')', ',', 'ha', '##pt', '##op', '##hy', '##tes', '(', 'from', 'ch', '##rys', '##op', '##hy', '##tes', ')', ',', 'and', 'ch', '##lor', '##ara', '##ch', '##nio', '##phy', '##tes', '(', 'from', 'x', '##ant', '##hop', '##hy', '##tes', ')', '.', 'with', 'the', 'abandonment', 'of', 'plant', '-', 'animal', 'di', '##cho', '##tom', '##ous', 'classification', ',', 'most', 'groups', 'of', 'algae', '(', 'sometimes', 'all', ')', 'were', 'included', 'in', 'pro', '##tist', '##a', ',', 'later', 'also', 'abandoned', 'in', 'favour', 'of', 'eu', '##kar', '##yo', '##ta', '.', 'however', ',', 'as', 'a', 'legacy', 'of', 'the', 'older', 'plant', 'life', 'scheme', ',', 'some', 'groups', 'that', 'were', 'also', 'treated', 'as', 'proto', '##zo', '##ans', 'in', 'the', 'past', 'still', 'have', 'duplicate', '##d', 'classifications', '(', 'see', 'am', '##bir', '##eg', '##nal', 'pro', '##tist', '##s', ')', '.', 'some', 'parasitic', 'algae', '(', 'e', '.', 'g', '.', ',', 'the', 'green', 'algae', 'proto', '##the', '##ca', 'and', 'he', '##lic', '##os', '##por', '##idium', ',', 'parasites', 'of', 'meta', '##zo', '##ans', ',', 'or', 'ce', '##pha', '##le', '##uro', '##s', ',', 'parasites', 'of', 'plants', ')', 'were', 'originally', 'classified', 'as', 'fungi', ',', 'sp', '##oro', '##zo', '##ans', ',', 'or', 'pro', '##tist', '##ans', 'of', 'inc', '##ert', '##ae', 'se', '##dis', ',', 'while', 'others', '(', 'e', '.', 'g', '.', ',', 'the', 'green', 'algae', 'ph', '##yl', '##los', '##ip', '##hon', 'and', 'r', '##ho', '##do', '##chy', '##tri', '##um', ',', 'parasites', 'of', 'plants', ',', 'or', 'the', 'red', 'algae', 'pt', '##ero', '##cl', '##adi', '##op', '##hila', 'and', 'gel', '##idi', '##oco', '##la', '##x', 'ma', '##mm', '##illa', '##tus', ',', 'parasites', 'of', 'other', 'red', 'algae', ',', 'or', 'the', 'dino', '##fl', '##age', '##lla', '##tes', 'o', '##od', '##inium', ',', 'parasites', 'of', 'fish', ')', 'had', 'their', 'relationship', 'with', 'algae', 'conjecture', '##d', 'early', '.', 'in', 'other', 'cases', ',', 'some', 'groups', 'were', 'originally', 'characterized', 'as', 'parasitic', 'algae', '(', 'e', '.', 'g', '.', ',', 'ch', '##lor', '##och', '##yt', '##rium', ')', ',', 'but', 'later', 'were', 'seen', 'as', 'end', '##op', '##hy', '##tic', 'algae', '.', 'some', 'fi', '##lam', '##ent', '##ous', 'bacteria', '(', 'e', '.', 'g', '.', ',', 'beg', '##gia', '##to', '##a', ')', 'were', 'originally', 'seen', 'as', 'algae', '.', 'furthermore', ',', 'groups', 'like', 'the', 'api', '##com', '##plex', '##ans', 'are', 'also', 'parasites', 'derived', 'from', 'ancestors', 'that', 'possessed', 'pl', '##ast', '##ids', ',', 'but', 'are', 'not', 'included', 'in', 'any', 'group', 'traditionally', 'seen', 'as', 'algae', '.', '=', '=', 'relationship', 'to', 'land', 'plants', '=', '=', 'the', 'first', 'land', 'plants', 'probably', 'evolved', 'from', 'shallow', 'freshwater', 'char', '##op', '##hy', '##te', 'algae', 'much', 'like', 'char', '##a', 'almost', '500', 'million', 'years', 'ago', '.', 'these', 'probably', 'had', 'an', 'iso', '##morphic', 'alter', '##nation', 'of', 'generations', 'and', 'were', 'probably', 'fi', '##lam', '##ent', '##ous', '.', 'fossils', 'of', 'isolated', 'land', 'plant', 'spores', 'suggest', 'land', 'plants', 'may', 'have', 'been', 'around', 'as', 'long', 'as', '475', 'million', 'years', 'ago', '.', '=', '=', 'morphology', '=', '=', 'a', 'range', 'of', 'al', '##gal', 'mor', '##ph', '##ologies', 'is', 'exhibited', ',', 'and', 'convergence', 'of', 'features', 'in', 'unrelated', 'groups', 'is', 'common', '.', 'the', 'only', 'groups', 'to', 'exhibit', 'three', '-', 'dimensional', 'multi', '##cellular', 'tha', '##lli', 'are', 'the', 'reds', 'and', 'browns', ',', 'and', 'some', 'ch', '##lor', '##op', '##hy', '##tes', '.', 'apical', 'growth', 'is', 'constrained', 'to', 'subset', '##s', 'of', 'these', 'groups', ':', 'the', 'fl', '##ori', '##de', '##op', '##hy', '##te', 'reds', ',', 'various', 'browns', ',', 'and', 'the', 'char', '##op', '##hy', '##tes', '.', 'the', 'form', 'of', 'char', '##op', '##hy', '##tes', 'is', 'quite', 'different', 'from', 'those', 'of', 'reds', 'and', 'browns', ',', 'because', 'they', 'have', 'distinct', 'nodes', ',', 'separated', 'by', 'intern', '##ode', \"'\", 'stems', \"'\", ';', 'whorls', 'of', 'branches', 'reminiscent', 'of', 'the', 'horse', '##tails', 'occur', 'at', 'the', 'nodes', '.', 'concept', '##acle', '##s', 'are', 'another', 'poly', '##phy', '##let', '##ic', 'trait', ';', 'they', 'appear', 'in', 'the', 'coral', '##line', 'algae', 'and', 'the', 'hi', '##lden', '##brand', '##ial', '##es', ',', 'as', 'well', 'as', 'the', 'browns', '.', 'most', 'of', 'the', 'simpler', 'algae', 'are', 'un', '##ice', '##ll', '##ular', 'flag', '##ella', '##tes', 'or', 'am', '##oe', '##bo', '##ids', ',', 'but', 'colonial', 'and', 'non', '##mot', '##ile', 'forms', 'have', 'developed', 'independently', 'among', 'several', 'of', 'the', 'groups', '.', 'some', 'of', 'the', 'more', 'common', 'organizational', 'levels', ',', 'more', 'than', 'one', 'of', 'which', 'may', 'occur', 'in', 'the', 'life', '##cycle', 'of', 'a', 'species', ',', 'are', 'colonial', ':', 'small', ',', 'regular', 'groups', 'of', 'mo', '##tile', 'cells', 'caps', '##oid', ':', 'individual', 'non', '-', 'mo', '##tile', 'cells', 'embedded', 'in', 'mu', '##ci', '##lage', 'co', '##cco', '##id', ':', 'individual', 'non', '-', 'mo', '##tile', 'cells', 'with', 'cell', 'walls', 'palm', '##ello', '##id', ':', 'non', '##mot', '##ile', 'cells', 'embedded', 'in', 'mu', '##ci', '##lage', 'fi', '##lam', '##ent', '##ous', ':', 'a', 'string', 'of', 'non', '##mot', '##ile', 'cells', 'connected', 'together', ',', 'sometimes', 'branching', 'par', '##en', '##chy', '##mat', '##ous', ':', 'cells', 'forming', 'a', 'tha', '##llus', 'with', 'partial', 'differentiation', 'of', 'tissues', '##in', 'three', 'lines', ',', 'even', 'higher', 'levels', 'of', 'organization', 'have', 'been', 'reached', ',', 'with', 'full', 'tissue', 'differentiation', '.', 'these', 'are', 'the', 'brown', 'algae', ',', '—', 'some', 'of', 'which', 'may', 'reach', '50', 'm', 'in', 'length', '(', 'ke', '##lp', '##s', ')', '—', 'the', 'red', 'algae', ',', 'and', 'the', 'green', 'algae', '.', 'the', 'most', 'complex', 'forms', 'are', 'found', 'among', 'the', 'char', '##op', '##hy', '##te', 'algae', '(', 'see', 'char', '##ales', 'and', 'char', '##op', '##hy', '##ta', ')', ',', 'in', 'a', 'lineage', 'that', 'eventually', 'led', 'to', 'the', 'higher', 'land', 'plants', '.', 'the', 'innovation', 'that', 'defines', 'these', 'non', '##al', '##gal', 'plants', 'is', 'the', 'presence', 'of', 'female', 'reproductive', 'organs', 'with', 'protective', 'cell', 'layers', 'that', 'protect', 'the', 'z', '##y', '##go', '##te', 'and', 'developing', 'embryo', '.', 'hence', ',', 'the', 'land', 'plants', 'are', 'referred', 'to', 'as', 'the', 'embryo', '##phy', '##tes', '.', '=', '=', 'physiology', '=', '=', 'many', 'algae', ',', 'particularly', 'members', 'of', 'the', 'char', '##aceae', ',', 'have', 'served', 'as', 'model', 'experimental', 'organisms', 'to', 'understand', 'the', 'mechanisms', 'of', 'the', 'water', 'per', '##me', '##ability', 'of', 'membranes', ',', 'os', '##more', '##gul', '##ation', ',', 'tu', '##rgo', '##r', 'regulation', ',', 'salt', 'tolerance', ',', 'cy', '##top', '##las', '##mic', 'streaming', ',', 'and', 'the', 'generation', 'of', 'action', 'potential', '##s', '.', 'ph', '##yt', '##oh', '##or', '##mon', '##es', 'are', 'found', 'not', 'only', 'in', 'higher', 'plants', ',', 'but', 'in', 'algae', ',', 'too', '.', '=', '=', 'sy', '##mb', '##iot', '##ic', 'algae', '=', '=', 'some', 'species', 'of', 'algae', 'form', 'sy', '##mb', '##iot', '##ic', 'relationships', 'with', 'other', 'organisms', '.', 'in', 'these', 'sy', '##mb', '##ios', '##es', ',', 'the', 'algae', 'supply', 'photos', '##yn', '##tha', '##tes', '(', 'organic', 'substances', ')', 'to', 'the', 'host', 'organism', 'providing', 'protection', 'to', 'the', 'al', '##gal', 'cells', '.', 'the', 'host', 'organism', 'derives', 'some', 'or', 'all', 'of', 'its', 'energy', 'requirements', 'from', 'the', 'algae', '.', 'examples', 'are', ':', '=', '=', '=', 'li', '##chen', '##s', '=', '=', '=', 'li', '##chen', '##s', 'are', 'defined', 'by', 'the', 'international', 'association', 'for', 'li', '##chen', '##ology', 'to', 'be', '\"', 'an', 'association', 'of', 'a', 'fungus', 'and', 'a', 'photos', '##yn', '##the', '##tic', 'sy', '##mb', '##ion', '##t', 'resulting', 'in', 'a', 'stable', 've', '##get', '##ative', 'body', 'having', 'a', 'specific', 'structure', '\"', '.', 'the', 'fungi', ',', 'or', 'my', '##co', '##bio', '##nts', ',', 'are', 'mainly', 'from', 'the', 'as', '##com', '##y', '##cot', '##a', 'with', 'a', 'few', 'from', 'the', 'bas', '##idi', '##omy', '##cot', '##a', '.', 'in', 'nature', 'they', 'do', 'not', 'occur', 'separate', 'from', 'li', '##chen', '##s', '.', 'it', 'is', 'unknown', 'when', 'they', 'began', 'to', 'associate', '.', 'one', 'my', '##co', '##bio', '##nt', 'associates', 'with', 'the', 'same', 'ph', '##y', '##co', '##bio', '##nt', 'species', ',', 'rarely', 'two', ',', 'from', 'the', 'green', 'algae', ',', 'except', 'that', 'alternatively', ',', 'the', 'my', '##co', '##bio', '##nt', 'may', 'associate', 'with', 'a', 'species', 'of', 'cy', '##ano', '##ba', '##cter', '##ia', '(', 'hence', '\"', 'photo', '##bio', '##nt', '\"', 'is', 'the', 'more', 'accurate', 'term', ')', '.', 'a', 'photo', '##bio', '##nt', 'may', 'be', 'associated', 'with', 'many', 'different', 'my', '##co', '##bio', '##nts', 'or', 'may', 'live', 'independently', ';', 'accordingly', ',', 'li', '##chen', '##s', 'are', 'named', 'and', 'classified', 'as', 'fungal', 'species', '.', 'the', 'association', 'is', 'termed', 'a', 'mor', '##ph', '##ogen', '##esis', 'because', 'the', 'li', '##chen', 'has', 'a', 'form', 'and', 'capabilities', 'not', 'possessed', 'by', 'the', 'sy', '##mb', '##ion', '##t', 'species', 'alone', '(', 'they', 'can', 'be', 'experimental', '##ly', 'isolated', ')', '.', 'the', 'photo', '##bio', '##nt', 'possibly', 'triggers', 'otherwise', 'late', '##nt', 'genes', 'in', 'the', 'my', '##co', '##bio', '##nt', '.', 'trent', '##ep', '##oh', '##lia', 'is', 'an', 'example', 'of', 'a', 'common', 'green', 'al', '##ga', 'genus', 'worldwide', 'that', 'can', 'grow', 'on', 'its', 'own', 'or', 'be', 'li', '##chen', '##ised', '.', 'li', '##chen', 'thus', 'share', 'some', 'of', 'the', 'habitat', 'and', 'often', 'similar', 'appearance', 'with', 'specialized', 'species', 'of', 'algae', '(', 'aero', '##phy', '##tes', ')', 'growing', 'on', 'exposed', 'surfaces', 'such', 'as', 'tree', 'trunks', 'and', 'rocks', 'and', 'sometimes', 'disco', '##lor', '##ing', 'them', '.', '=', '=', '=', 'coral', 'reefs', '=', '=', '=', 'coral', 'reefs', 'are', 'accumulated', 'from', 'the', 'cal', '##care', '##ous', 'ex', '##os', '##kel', '##eto', '##ns', 'of', 'marine', 'invertebrates', 'of', 'the', 'order', 'sc', '##ler', '##act', '##inia', '(', 'stony', 'coral', '##s', ')', '.', 'these', 'animals', 'meta', '##bol', '##ize', 'sugar', 'and', 'oxygen', 'to', 'obtain', 'energy', 'for', 'their', 'cell', '-', 'building', 'processes', ',', 'including', 'secret', '##ion', 'of', 'the', 'ex', '##os', '##kel', '##eto', '##n', ',', 'with', 'water', 'and', 'carbon', 'dioxide', 'as', 'by', '##pro', '##du', '##cts', '.', 'dino', '##fl', '##age', '##lla', '##tes', '(', 'al', '##gal', 'pro', '##tist', '##s', ')', 'are', 'often', 'end', '##os', '##ym', '##bio', '##nts', 'in', 'the', 'cells', 'of', 'the', 'coral', '-', 'forming', 'marine', 'invertebrates', ',', 'where', 'they', 'accelerate', 'host', '-', 'cell', 'metabolism', 'by', 'generating', 'sugar', 'and', 'oxygen', 'immediately', 'available', 'through', 'photos', '##yn', '##thesis', 'using', 'incident', 'light', 'and', 'the', 'carbon', 'dioxide', 'produced', 'by', 'the', 'host', '.', 'reef', '-', 'building', 'stony', 'coral', '##s', '(', 'her', '##mat', '##yp', '##ic', 'coral', '##s', ')', 'require', 'end', '##os', '##ym', '##biotic', 'algae', 'from', 'the', 'genus', 'sy', '##mb', '##io', '##dini', '##um', 'to', 'be', 'in', 'a', 'healthy', 'condition', '.', 'the', 'loss', 'of', 'sy', '##mb', '##io', '##dini', '##um', 'from', 'the', 'host', 'is', 'known', 'as', 'coral', 'b', '##lea', '##ching', ',', 'a', 'condition', 'which', 'leads', 'to', 'the', 'deterioration', 'of', 'a', 'reef', '.', '=', '=', '=', 'sea', 'sponge', '##s', '=', '=', '=', 'end', '##os', '##ym', '##bio', '##nti', '##c', 'green', 'algae', 'live', 'close', 'to', 'the', 'surface', 'of', 'some', 'sponge', '##s', ',', 'for', 'example', ',', 'bread', '##cr', '##umb', 'sponge', '##s', '(', 'hal', '##ich', '##ond', '##ria', 'panic', '##ea', ')', '.', 'the', 'al', '##ga', 'is', 'thus', 'protected', 'from', 'predators', ';', 'the', 'sponge', 'is', 'provided', 'with', 'oxygen', 'and', 'sugar', '##s', 'which', 'can', 'account', 'for', '50', 'to', '80', '%', 'of', 'sponge', 'growth', 'in', 'some', 'species', '.', '=', '=', 'life', '##cycle', '=', '=', 'r', '##ho', '##do', '##phy', '##ta', ',', 'ch', '##lor', '##op', '##hy', '##ta', ',', 'and', 'het', '##ero', '##kon', '##top', '##hy', '##ta', ',', 'the', 'three', 'main', 'al', '##gal', 'divisions', ',', 'have', 'life', '##cycle', '##s', 'which', 'show', 'considerable', 'variation', 'and', 'complexity', '.', 'in', 'general', ',', 'an', 'as', '##ex', '##ual', 'phase', 'exists', 'where', 'the', 'sea', '##weed', \"'\", 's', 'cells', 'are', 'dip', '##loid', ',', 'a', 'sexual', 'phase', 'where', 'the', 'cells', 'are', 'ha', '##pl', '##oid', ',', 'followed', 'by', 'fusion', 'of', 'the', 'male', 'and', 'female', 'game', '##tes', '.', 'as', '##ex', '##ual', 'reproduction', 'permits', 'efficient', 'population', 'increases', ',', 'but', 'less', 'variation', 'is', 'possible', '.', 'commonly', ',', 'in', 'sexual', 'reproduction', 'of', 'un', '##ice', '##ll', '##ular', 'and', 'colonial', 'algae', ',', 'two', 'specialized', ',', 'sexually', 'compatible', ',', 'ha', '##pl', '##oid', 'game', '##tes', 'make', 'physical', 'contact', 'and', 'fuse', 'to', 'form', 'a', 'z', '##y', '##go', '##te', '.', 'to', 'ensure', 'a', 'successful', 'mating', ',', 'the', 'development', 'and', 'release', 'of', 'game', '##tes', 'is', 'highly', 'synchronized', 'and', 'regulated', ';', 'ph', '##ero', '##mon', '##es', 'may', 'play', 'a', 'key', 'role', 'in', 'these', 'processes', '.', 'sexual', 'reproduction', 'allows', 'for', 'more', 'variation', 'and', 'provides', 'the', 'benefit', 'of', 'efficient', 'rec', '##om', '##bina', '##tion', '##al', 'repair', 'of', 'dna', 'damages', 'during', 'mei', '##osis', ',', 'a', 'key', 'stage', 'of', 'the', 'sexual', 'cycle', '.', 'however', ',', 'sexual', 'reproduction', 'is', 'more', 'costly', 'than', 'as', '##ex', '##ual', 'reproduction', '.', 'mei', '##osis', 'has', 'been', 'shown', 'to', 'occur', 'in', 'many', 'different', 'species', 'of', 'algae', '.', '=', '=', 'numbers', '=', '=', 'the', 'al', '##gal', 'collection', 'of', 'the', 'us', 'national', 'herb', '##arium', '(', 'located', 'in', 'the', 'national', 'museum', 'of', 'natural', 'history', ')', 'consists', 'of', 'approximately', '320', ',', '500', 'dried', 'specimens', ',', 'which', ',', 'although', 'not', 'exhaust', '##ive', '(', 'no', 'exhaust', '##ive', 'collection', 'exists', ')', ',', 'gives', 'an', 'idea', 'of', 'the', 'order', 'of', 'magnitude', 'of', 'the', 'number', 'of', 'al', '##gal', 'species', '(', 'that', 'number', 'remains', 'unknown', ')', '.', 'estimates', 'vary', 'widely', '.', 'for', 'example', ',', 'according', 'to', 'one', 'standard', 'textbook', ',', 'in', 'the', 'british', 'isles', 'the', 'uk', 'biodiversity', 'steering', 'group', 'report', 'estimated', 'there', 'to', 'be', '20', ',', '000', 'al', '##gal', 'species', 'in', 'the', 'uk', '.', 'another', 'check', '##list', 'reports', 'only', 'about', '5', ',', '000', 'species', '.', 'regarding', 'the', 'difference', 'of', 'about', '15', ',', '000', 'species', ',', 'the', 'text', 'concludes', ':', '\"', 'it', 'will', 'require', 'many', 'detailed', 'field', 'surveys', 'before', 'it', 'is', 'possible', 'to', 'provide', 'a', 'reliable', 'estimate', 'of', 'the', 'total', 'number', 'of', 'species', '.', '.', '.', '\"', 'regional', 'and', 'group', 'estimates', 'have', 'been', 'made', ',', 'as', 'well', ':', '5', ',', '000', '–', '5', ',', '500', 'species', 'of', 'red', 'algae', 'worldwide', '\"', 'some', '1', ',', '300', 'in', 'australian', 'seas', '\"', '400', 'sea', '##weed', 'species', 'for', 'the', 'western', 'coastline', 'of', 'south', 'africa', ',', 'and', '212', 'species', 'from', 'the', 'coast', 'of', 'kw', '##az', '##ulu', '-', 'natal', '.', 'some', 'of', 'these', 'are', 'duplicate', '##s', ',', 'as', 'the', 'range', 'extends', 'across', 'both', 'coasts', ',', 'and', 'the', 'total', 'recorded', 'is', 'probably', 'about', '500', 'species', '.', 'most', 'of', 'these', 'are', 'listed', 'in', 'list', 'of', 'sea', '##weed', '##s', 'of', 'south', 'africa', '.', 'these', 'exclude', 'ph', '##yt', '##op', '##lan', '##kt', '##on', 'and', 'crust', '##ose', 'coral', '##lines', '.', '66', '##9', 'marine', 'species', 'from', 'california', '(', 'us', ')', '64', '##2', 'in', 'the', 'check', '-', 'list', 'of', 'britain', 'and', 'ireland', '##and', 'so', 'on', ',', 'but', 'lacking', 'any', 'scientific', 'basis', 'or', 'reliable', 'sources', ',', 'these', 'numbers', 'have', 'no', 'more', 'credibility', 'than', 'the', 'british', 'ones', 'mentioned', 'above', '.', 'most', 'estimates', 'also', 'om', '##it', 'microscopic', 'algae', ',', 'such', 'as', 'ph', '##yt', '##op', '##lan', '##kt', '##on', '.', 'the', 'most', 'recent', 'estimate', 'suggests', '72', ',', '500', 'al', '##gal', 'species', 'worldwide', '.', '=', '=', 'distribution', '=', '=', 'the', 'distribution', 'of', 'al', '##gal', 'species', 'has', 'been', 'fairly', 'well', 'studied', 'since', 'the', 'founding', 'of', 'ph', '##yt', '##oge', '##ography', 'in', 'the', 'mid', '-', '19th', 'century', '.', 'algae', 'spread', 'mainly', 'by', 'the', 'dispersal', 'of', 'spores', 'analogous', '##ly', 'to', 'the', 'dispersal', 'of', 'plant', '##ae', 'by', 'seeds', 'and', 'spores', '.', 'this', 'dispersal', 'can', 'be', 'accomplished', 'by', 'air', ',', 'water', ',', 'or', 'other', 'organisms', '.', 'due', 'to', 'this', ',', 'spores', 'can', 'be', 'found', 'in', 'a', 'variety', 'of', 'environments', ':', 'fresh', 'and', 'marine', 'waters', ',', 'air', ',', 'soil', ',', 'and', 'in', 'or', 'on', 'other', 'organisms', '.', 'whether', 'a', 'sp', '##ore', 'is', 'to', 'grow', 'into', 'an', 'organism', 'depends', 'on', 'the', 'combination', 'of', 'the', 'species', 'and', 'the', 'environmental', 'conditions', 'where', 'the', 'sp', '##ore', 'lands', '.', 'the', 'spores', 'of', 'freshwater', 'algae', 'are', 'dispersed', 'mainly', 'by', 'running', 'water', 'and', 'wind', ',', 'as', 'well', 'as', 'by', 'living', 'carriers', '.', 'however', ',', 'not', 'all', 'bodies', 'of', 'water', 'can', 'carry', 'all', 'species', 'of', 'algae', ',', 'as', 'the', 'chemical', 'composition', 'of', 'certain', 'water', 'bodies', 'limits', 'the', 'algae', 'that', 'can', 'survive', 'within', 'them', '.', 'marine', 'spores', 'are', 'often', 'spread', 'by', 'ocean', 'currents', '.', 'ocean', 'water', 'presents', 'many', 'vastly', 'different', 'habitats', 'based', 'on', 'temperature', 'and', 'nutrient', 'availability', ',', 'resulting', 'in', 'ph', '##yt', '##oge', '##ographic', 'zones', ',', 'regions', ',', 'and', 'provinces', '.', 'to', 'some', 'degree', ',', 'the', 'distribution', 'of', 'algae', 'is', 'subject', 'to', 'fl', '##oris', '##tic', 'disco', '##nti', '##nu', '##ities', 'caused', 'by', 'geographical', 'features', ',', 'such', 'as', 'antarctica', ',', 'long', 'distances', 'of', 'ocean', 'or', 'general', 'land', 'masses', '.', 'it', 'is', ',', 'therefore', ',', 'possible', 'to', 'identify', 'species', 'occurring', 'by', 'locality', ',', 'such', 'as', '\"', 'pacific', 'algae', '\"', 'or', '\"', 'north', 'sea', 'algae', '\"', '.', 'when', 'they', 'occur', 'out', 'of', 'their', 'localities', ',', 'h', '##yp', '##oth', '##es', '##izing', 'a', 'transport', 'mechanism', 'is', 'usually', 'possible', ',', 'such', 'as', 'the', 'hull', '##s', 'of', 'ships', '.', 'for', 'example', ',', 'ul', '##va', 're', '##tic', '##ulata', 'and', 'u', '.', 'fa', '##scia', '##ta', 'travelled', 'from', 'the', 'mainland', 'to', 'hawaii', 'in', 'this', 'manner', '.', 'mapping', 'is', 'possible', 'for', 'select', 'species', 'only', ':', '\"', 'there', 'are', 'many', 'valid', 'examples', 'of', 'confined', 'distribution', 'patterns', '.', '\"', 'for', 'example', ',', 'cl', '##ath', '##rom', '##or', '##ph', '##um', 'is', 'an', 'arctic', 'genus', 'and', 'is', 'not', 'mapped', 'far', 'south', 'of', 'there', '.', 'however', ',', 'scientists', 'regard', 'the', 'overall', 'data', 'as', 'insufficient', 'due', 'to', 'the', '\"', 'difficulties', 'of', 'undertaking', 'such', 'studies', '.', '\"', '=', '=', 'ecology', '=', '=', 'algae', 'are', 'prominent', 'in', 'bodies', 'of', 'water', ',', 'common', 'in', 'terrestrial', 'environments', ',', 'and', 'are', 'found', 'in', 'unusual', 'environments', ',', 'such', 'as', 'on', 'snow', 'and', 'ice', '.', 'sea', '##weed', '##s', 'grow', 'mostly', 'in', 'shallow', 'marine', 'waters', ',', 'under', '100', 'm', '(', '330', 'ft', ')', 'deep', ';', 'however', ',', 'some', 'such', 'as', 'na', '##vic', '##ula', 'penn', '##ata', 'have', 'been', 'recorded', 'to', 'a', 'depth', 'of', '360', 'm', '(', '1', ',', '180', 'ft', ')', '.', 'a', 'type', 'of', 'algae', ',', 'an', '##cy', '##lone', '##ma', 'nord', '##ens', '##ki', '##oe', '##ld', '##ii', ',', 'was', 'found', 'in', 'greenland', 'in', 'areas', 'known', 'as', 'the', \"'\", 'dark', 'zone', \"'\", ',', 'which', 'caused', 'an', 'increase', 'in', 'the', 'rate', 'of', 'melting', 'ice', 'sheet', '.', 'same', 'algae', 'was', 'found', 'in', 'the', 'italian', 'alps', ',', 'after', 'pink', 'ice', 'appeared', 'on', 'parts', 'of', 'the', 'pre', '##sen', '##a', 'glacier', '.', 'the', 'various', 'sorts', 'of', 'algae', 'play', 'significant', 'roles', 'in', 'aquatic', 'ecology', '.', 'microscopic', 'forms', 'that', 'live', 'suspended', 'in', 'the', 'water', 'column', '(', 'ph', '##yt', '##op', '##lan', '##kt', '##on', ')', 'provide', 'the', 'food', 'base', 'for', 'most', 'marine', 'food', 'chains', '.', 'in', 'very', 'high', 'den', '##sities', '(', 'al', '##gal', 'blooms', ')', ',', 'these', 'algae', 'may', 'disco', '##lor', 'the', 'water', 'and', 'out', '##com', '##pet', '##e', ',', 'poison', ',', 'or', 'as', '##phy', '##xia', '##te', 'other', 'life', 'forms', '.', 'algae', 'can', 'be', 'used', 'as', 'indicator', 'organisms', 'to', 'monitor', 'pollution', 'in', 'various', 'aquatic', 'systems', '.', 'in', 'many', 'cases', ',', 'al', '##gal', 'metabolism', 'is', 'sensitive', 'to', 'various', 'poll', '##uta', '##nts', '.', 'due', 'to', 'this', ',', 'the', 'species', 'composition', 'of', 'al', '##gal', 'populations', 'may', 'shift', 'in', 'the', 'presence', 'of', 'chemical', 'poll', '##uta', '##nts', '.', 'to', 'detect', 'these', 'changes', ',', 'algae', 'can', 'be', 'sampled', 'from', 'the', 'environment', 'and', 'maintained', 'in', 'laboratories', 'with', 'relative', 'ease', '.', 'on', 'the', 'basis', 'of', 'their', 'habitat', ',', 'algae', 'can', 'be', 'categorized', 'as', ':', 'aquatic', '(', 'plank', '##tonic', ',', 'bent', '##hic', ',', 'marine', ',', 'freshwater', ',', 'lent', '##ic', ',', 'lot', '##ic', ')', ',', 'terrestrial', ',', 'aerial', '(', 'sub', '##aer', '##ial', ')', ',', 'lit', '##hop', '##hy', '##tic', ',', 'halo', '##phy', '##tic', '(', 'or', 'eu', '##ry', '##hal', '##ine', ')', ',', 'ps', '##am', '##mon', ',', 'the', '##rm', '##op', '##hil', '##ic', ',', 'cry', '##op', '##hil', '##ic', ',', 'ep', '##ib', '##ion', '##t', '(', 'ep', '##ip', '##hy', '##tic', ',', 'ep', '##iz', '##oic', ')', ',', 'end', '##os', '##ym', '##bio', '##nt', '(', 'end', '##op', '##hy', '##tic', ',', 'end', '##oz', '##oic', ')', ',', 'parasitic', ',', 'cal', '##ci', '##fi', '##lic', 'or', 'li', '##chen', '##ic', '(', 'ph', '##y', '##co', '##bio', '##nt', ')', '.', '=', '=', 'cultural', 'associations', '=', '=', 'in', 'classical', 'chinese', ',', 'the', 'word', '[UNK]', 'is', 'used', 'both', 'for', '\"', 'algae', '\"', 'and', '(', 'in', 'the', 'modest', 'tradition', 'of', 'the', 'imperial', 'scholars', ')', 'for', '\"', 'literary', 'talent', '\"', '.', 'the', 'third', 'island', 'in', 'kun', '##ming', 'lake', 'beside', 'the', 'summer', 'palace', 'in', 'beijing', 'is', 'known', 'as', 'the', 'za', '##oj', '##ian', 'tang', 'da', '##o', ',', 'which', 'thus', 'simultaneously', 'means', '\"', 'island', 'of', 'the', 'algae', '-', 'viewing', 'hall', '\"', 'and', '\"', 'island', 'of', 'the', 'hall', 'for', 'reflecting', 'on', 'literary', 'talent', '\"', '.', '=', '=', 'uses', '=', '=', '=', '=', '=', 'ag', '##ar', '=', '=', '=', 'ag', '##ar', ',', 'a', 'gel', '##atin', '##ous', 'substance', 'derived', 'from', 'red', 'algae', ',', 'has', 'a', 'number', 'of', 'commercial', 'uses', '.', 'it', 'is', 'a', 'good', 'medium', 'on', 'which', 'to', 'grow', 'bacteria', 'and', 'fungi', ',', 'as', 'most', 'micro', '##org', '##ani', '##sms', 'cannot', 'digest', 'ag', '##ar', '.', '=', '=', '=', 'al', '##gina', '##tes', '=', '=', '=', 'al', '##gin', '##ic', 'acid', ',', 'or', 'al', '##gina', '##te', ',', 'is', 'extracted', 'from', 'brown', 'algae', '.', 'its', 'uses', 'range', 'from', 'gel', '##ling', 'agents', 'in', 'food', ',', 'to', 'medical', 'dressing', '##s', '.', 'al', '##gin', '##ic', 'acid', 'also', 'has', 'been', 'used', 'in', 'the', 'field', 'of', 'biotechnology', 'as', 'a', 'bio', '##com', '##pati', '##ble', 'medium', 'for', 'cell', 'en', '##cap', '##sul', '##ation', 'and', 'cell', 'im', '##mo', '##bil', '##ization', '.', 'molecular', 'cuisine', 'is', 'also', 'a', 'user', 'of', 'the', 'substance', 'for', 'its', 'gel', '##ling', 'properties', ',', 'by', 'which', 'it', 'becomes', 'a', 'delivery', 'vehicle', 'for', 'flavour', '##s', '.', 'between', '100', ',', '000', 'and', '170', ',', '000', 'wet', 'tons', 'of', 'macro', '##cy', '##stis', 'are', 'harvested', 'annually', 'in', 'new', 'mexico', 'for', 'al', '##gina', '##te', 'extraction', 'and', 'aba', '##lone', 'feed', '.', '=', '=', '=', 'energy', 'source', '=', '=', '=', 'to', 'be', 'competitive', 'and', 'independent', 'from', 'flu', '##ct', '##uating', 'support', 'from', '(', 'local', ')', 'policy', 'on', 'the', 'long', 'run', ',', 'bio', '##fu', '##els', 'should', 'equal', 'or', 'beat', 'the', 'cost', 'level', 'of', 'fossil', 'fuels', '.', 'here', ',', 'algae', '-', 'based', 'fuels', 'hold', 'great', 'promise', ',', 'directly', 'related', 'to', 'the', 'potential', 'to', 'produce', 'more', 'biomass', 'per', 'unit', 'area', 'in', 'a', 'year', 'than', 'any', 'other', 'form', 'of', 'biomass', '.', 'the', 'break', '-', 'even', 'point', 'for', 'algae', '-', 'based', 'bio', '##fu', '##els', 'is', 'estimated', 'to', 'occur', 'by', '202', '##5', '.', '=', '=', '=', 'fe', '##rti', '##lizer', '=', '=', '=', 'for', 'centuries', ',', 'sea', '##weed', 'has', 'been', 'used', 'as', 'a', 'fe', '##rti', '##lizer', ';', 'george', 'owen', 'of', 'hen', '##lly', '##s', 'writing', 'in', 'the', '16th', 'century', 'referring', 'to', 'drift', 'weed', 'in', 'south', 'wales', ':', 'this', 'kind', 'of', 'ore', 'they', 'often', 'gather', 'and', 'lay', 'on', 'great', 'heap', '##es', ',', 'where', 'it', 'het', '##eth', 'and', 'rot', '##tet', '##h', ',', 'and', 'will', 'have', 'a', 'strong', 'and', 'lo', '##ath', '##some', 'smell', ';', 'when', 'being', 'so', 'rotten', 'they', 'cast', 'on', 'the', 'land', ',', 'as', 'they', 'do', 'their', 'mu', '##ck', ',', 'and', 'thereof', 'spring', '##eth', 'good', 'corn', ',', 'especially', 'barley', '.', '.', '.', 'after', 'spring', '-', 'ty', '##des', 'or', 'great', 'rig', '##s', 'of', 'the', 'sea', ',', 'they', 'fetch', 'it', 'in', 'sacks', 'on', 'horse', 'back', '##es', ',', 'and', 'car', '##ie', 'the', 'same', 'three', ',', 'four', ',', 'or', 'five', 'miles', ',', 'and', 'cast', 'it', 'on', 'the', 'land', '##e', ',', 'which', 'dot', '##h', 'very', 'much', 'better', 'the', 'ground', 'for', 'corn', 'and', 'grass', '.', 'today', ',', 'algae', 'are', 'used', 'by', 'humans', 'in', 'many', 'ways', ';', 'for', 'example', ',', 'as', 'fe', '##rti', '##lizer', '##s', ',', 'soil', 'condition', '##ers', ',', 'and', 'livestock', 'feed', '.', 'aquatic', 'and', 'microscopic', 'species', 'are', 'culture', '##d', 'in', 'clear', 'tanks', 'or', 'ponds', 'and', 'are', 'either', 'harvested', 'or', 'used', 'to', 'treat', 'e', '##ff', '##lu', '##ents', 'pumped', 'through', 'the', 'ponds', '.', 'al', '##ga', '##culture', 'on', 'a', 'large', 'scale', 'is', 'an', 'important', 'type', 'of', 'aqua', '##culture', 'in', 'some', 'places', '.', 'mae', '##rl', 'is', 'commonly', 'used', 'as', 'a', 'soil', 'condition', '##er', '.', '=', '=', '=', 'nutrition', '=', '=', '=', 'naturally', 'growing', 'sea', '##weed', '##s', 'are', 'an', 'important', 'source', 'of', 'food', ',', 'especially', 'in', 'asia', '.', 'they', 'provide', 'many', 'vitamin', '##s', 'including', ':', 'a', ',', 'b1', ',', 'b', '##2', ',', 'b', '##6', ',', 'ni', '##ac', '##in', ',', 'and', 'c', ',', 'and', 'are', 'rich', 'in', 'io', '##dine', ',', 'potassium', ',', 'iron', ',', 'magnesium', ',', 'and', 'calcium', '.', 'in', 'addition', ',', 'commercially', 'cultivated', 'micro', '##al', '##ga', '##e', ',', 'including', 'both', 'algae', 'and', 'cy', '##ano', '##ba', '##cter', '##ia', ',', 'are', 'marketed', 'as', 'nutritional', 'supplements', ',', 'such', 'as', 'sp', '##ir', '##ulin', '##a', ',', 'ch', '##lore', '##lla', 'and', 'the', 'vitamin', '-', 'c', 'supplement', 'from', 'dun', '##ali', '##ella', ',', 'high', 'in', 'beta', '-', 'car', '##ote', '##ne', '.', 'algae', 'are', 'national', 'foods', 'of', 'many', 'nations', ':', 'china', 'consume', '##s', 'more', 'than', '70', 'species', ',', 'including', 'fat', 'cho', '##y', ',', 'a', 'cy', '##ano', '##ba', '##cter', '##ium', 'considered', 'a', 'vegetable', ';', 'japan', ',', 'over', '20', 'species', 'such', 'as', 'nor', '##i', 'and', 'ao', '##nor', '##i', ';', 'ireland', ',', 'du', '##ls', '##e', ';', 'chile', ',', 'co', '##cha', '##yu', '##yo', '.', 'la', '##ver', 'is', 'used', 'to', 'make', 'la', '##ver', 'bread', 'in', 'wales', ',', 'where', 'it', 'is', 'known', 'as', 'bar', '##a', 'law', '##r', ';', 'in', 'korea', ',', 'gi', '##m', '.', 'it', 'is', 'also', 'used', 'along', 'the', 'west', 'coast', 'of', 'north', 'america', 'from', 'california', 'to', 'british', 'columbia', ',', 'in', 'hawaii', 'and', 'by', 'the', 'maori', 'of', 'new', 'zealand', '.', 'sea', 'let', '##tu', '##ce', 'and', 'bad', '##der', '##lock', '##s', 'are', 'salad', 'ingredients', 'in', 'scotland', ',', 'ireland', ',', 'greenland', ',', 'and', 'iceland', '.', 'algae', 'is', 'being', 'considered', 'a', 'potential', 'solution', 'for', 'world', 'hunger', 'problem', '.', 'the', 'oils', 'from', 'some', 'algae', 'have', 'high', 'levels', 'of', 'un', '##sat', '##ura', '##ted', 'fatty', 'acids', '.', 'for', 'example', ',', 'par', '##ie', '##to', '##ch', '##lor', '##is', 'inc', '##isa', 'is', 'very', 'high', 'in', 'ara', '##chi', '##don', '##ic', 'acid', ',', 'where', 'it', 'reaches', 'up', 'to', '47', '%', 'of', 'the', 'tri', '##gly', '##cer', '##ide', 'pool', '.', 'some', 'varieties', 'of', 'algae', 'favored', 'by', 'vegetarian', '##ism', 'and', 'vega', '##nism', 'contain', 'the', 'long', '-', 'chain', ',', 'essential', 'omega', '-', '3', 'fatty', 'acids', ',', 'doc', '##osa', '##he', '##xa', '##eno', '##ic', 'acid', '(', 'dh', '##a', ')', 'and', 'e', '##ico', '##sa', '##pen', '##ta', '##eno', '##ic', 'acid', '(', 'epa', ')', '.', 'fish', 'oil', 'contains', 'the', 'omega', '-', '3', 'fatty', 'acids', ',', 'but', 'the', 'original', 'source', 'is', 'algae', '(', 'micro', '##al', '##ga', '##e', 'in', 'particular', ')', ',', 'which', 'are', 'eaten', 'by', 'marine', 'life', 'such', 'as', 'cope', '##pods', 'and', 'are', 'passed', 'up', 'the', 'food', 'chain', '.', 'algae', 'have', 'emerged', 'in', 'recent', 'years', 'as', 'a', 'popular', 'source', 'of', 'omega', '-', '3', 'fatty', 'acids', 'for', 'vegetarian', '##s', 'who', 'cannot', 'get', 'long', '-', 'chain', 'epa', 'and', 'dh', '##a', 'from', 'other', 'vegetarian', 'sources', 'such', 'as', 'fl', '##ax', '##see', '##d', 'oil', ',', 'which', 'only', 'contains', 'the', 'short', '-', 'chain', 'alpha', '-', 'lin', '##ole', '##nic', 'acid', '(', 'ala', ')', '.', '=', '=', '=', 'pollution', 'control', '=', '=', '=', 'sewage', 'can', 'be', 'treated', 'with', 'algae', ',', 'reducing', 'the', 'use', 'of', 'large', 'amounts', 'of', 'toxic', 'chemicals', 'that', 'would', 'otherwise', 'be', 'needed', '.', 'algae', 'can', 'be', 'used', 'to', 'capture', 'fe', '##rti', '##lizer', '##s', 'in', 'runoff', 'from', 'farms', '.', 'when', 'subsequently', 'harvested', ',', 'the', 'enriched', 'algae', 'can', 'be', 'used', 'as', 'fe', '##rti', '##lizer', '.', 'aqua', '##ria', 'and', 'ponds', 'can', 'be', 'filtered', 'using', 'algae', ',', 'which', 'absorb', 'nutrients', 'from', 'the', 'water', 'in', 'a', 'device', 'called', 'an', 'algae', 'scrub', '##ber', ',', 'also', 'known', 'as', 'an', 'algae', 'turf', 'scrub', '##ber', '.', 'agricultural', 'research', 'service', 'scientists', 'found', 'that', '60', '–', '90', '%', 'of', 'nitrogen', 'runoff', 'and', '70', '–', '100', '%', 'of', 'phosphorus', 'runoff', 'can', 'be', 'captured', 'from', 'man', '##ure', 'e', '##ff', '##lu', '##ents', 'using', 'a', 'horizontal', 'algae', 'scrub', '##ber', ',', 'also', 'called', 'an', 'al', '##gal', 'turf', 'scrub', '##ber', '(', 'at', '##s', ')', '.', 'scientists', 'developed', 'the', 'at', '##s', ',', 'which', 'consists', 'of', 'shallow', ',', '100', '-', 'foot', 'raceway', '##s', 'of', 'nylon', 'netting', 'where', 'algae', 'colonies', 'can', 'form', ',', 'and', 'studied', 'its', 'efficacy', 'for', 'three', 'years', '.', 'they', 'found', 'that', 'algae', 'can', 'readily', 'be', 'used', 'to', 'reduce', 'the', 'nutrient', 'runoff', 'from', 'agricultural', 'fields', 'and', 'increase', 'the', 'quality', 'of', 'water', 'flowing', 'into', 'rivers', ',', 'streams', ',', 'and', 'oceans', '.', 'researchers', 'collected', 'and', 'dried', 'the', 'nutrient', '-', 'rich', 'algae', 'from', 'the', 'at', '##s', 'and', 'studied', 'its', 'potential', 'as', 'an', 'organic', 'fe', '##rti', '##lizer', '.', 'they', 'found', 'that', 'cu', '##cum', '##ber', 'and', 'corn', 'seed', '##lings', 'grew', 'just', 'as', 'well', 'using', 'at', '##s', 'organic', 'fe', '##rti', '##lizer', 'as', 'they', 'did', 'with', 'commercial', 'fe', '##rti', '##lizer', '##s', '.', 'algae', 'scrub', '##bers', ',', 'using', 'bubbling', 'up', '##flow', 'or', 'vertical', 'waterfall', 'versions', ',', 'are', 'now', 'also', 'being', 'used', 'to', 'filter', 'aqua', '##ria', 'and', 'ponds', '.', '=', '=', '=', 'polymers', '=', '=', '=', 'various', 'polymers', 'can', 'be', 'created', 'from', 'algae', ',', 'which', 'can', 'be', 'especially', 'useful', 'in', 'the', 'creation', 'of', 'bio', '##pl', '##astic', '##s', '.', 'these', 'include', 'hybrid', 'plastics', ',', 'cell', '##ulo', '##se', 'based', 'plastics', ',', 'poly', '-', 'lac', '##tic', 'acid', ',', 'and', 'bio', '-', 'poly', '##eth', '##yle', '##ne', '.', 'several', 'companies', 'have', 'begun', 'to', 'produce', 'algae', 'polymers', 'commercially', ',', 'including', 'for', 'use', 'in', 'flip', '-', 'flop', '##s', 'and', 'in', 'surf', 'boards', '.', '=', '=', '=', 'bio', '##rem', '##ed', '##iation', '=', '=', '=', 'the', 'al', '##ga', 'st', '##ich', '##oco', '##ccus', 'ba', '##ci', '##llar', '##is', 'has', 'been', 'seen', 'to', 'colon', '##ize', 'silicon', '##e', 'resin', '##s', 'used', 'at', 'archaeological', 'sites', ';', 'bio', '##de', '##grad', '##ing', 'the', 'synthetic', 'substance', '.', '=', '=', '=', 'pigment', '##s', '=', '=', '=', 'the', 'natural', 'pigment', '##s', '(', 'car', '##ote', '##no', '##ids', 'and', 'ch', '##lor', '##op', '##hyl', '##ls', ')', 'produced', 'by', 'algae', 'can', 'be', 'used', 'as', 'alternatives', 'to', 'chemical', 'dye', '##s', 'and', 'coloring', 'agents', '.', 'the', 'presence', 'of', 'some', 'individual', 'al', '##gal', 'pigment', '##s', ',', 'together', 'with', 'specific', 'pigment', 'concentration', 'ratios', ',', 'are', 'taxon', '-', 'specific', ':', 'analysis', 'of', 'their', 'concentrations', 'with', 'various', 'analytical', 'methods', ',', 'particularly', 'high', '-', 'performance', 'liquid', 'ch', '##rom', '##ato', '##graphy', ',', 'can', 'therefore', 'offer', 'deep', 'insight', 'into', 'the', 'taxonomic', 'composition', 'and', 'relative', 'abundance', 'of', 'natural', 'algae', 'populations', 'in', 'sea', 'water', 'samples', '.', '=', '=', '=', 'stab', '##ili', '##zing', 'substances', '=', '=', '=', 'carr', '##age', '##ena', '##n', ',', 'from', 'the', 'red', 'al', '##ga', 'cho', '##nd', '##rus', 'crisp', '##us', ',', 'is', 'used', 'as', 'a', 'stabilize', '##r', 'in', 'milk', 'products', '.', '=', '=', 'additional', 'images', '=', '=', '=', '=', 'see', 'also', '=', '=', 'algae', '##base', 'algae', '##par', '##c', 'eu', '##tro', '##phic', '##ation', 'iron', 'fe', '##rti', '##lization', 'mari', '##mo', 'algae', 'micro', '##bio', '##fu', '##els', 'micro', '##phy', '##te', 'photo', '##bio', '##rea', '##ctor', 'plant', 'to', '##x', '##oid', '–', 'ana', '##to', '##xin', '=', '=', 'references', '=', '=', '=', '=', 'bibliography', '=', '=', '=', '=', 'external', 'links', '=', '=', 'gui', '##ry', ',', 'michael', ';', 'gui', '##ry', ',', 'wendy', '.', '\"', 'algae', '##base', '\"', '.', '–', 'a', 'database', 'of', 'all', 'al', '##gal', 'names', 'including', 'images', ',', 'nomenclature', ',', 'taxonomy', ',', 'distribution', ',', 'bibliography', ',', 'uses', ',', 'extracts', '\"', 'algae', '–', 'cell', 'centered', 'database', '\"', '.', 'cc', '##db', '.', 'uc', '##sd', '.', 'ed', '##u', '.', 'san', 'diego', ':', 'university', 'of', 'california', '.', '\"', 'algae', 'research', '\"', '.', 'national', 'museum', 'of', 'natural', 'history', ',', 'department', 'of', 'botany', '.', '2008', '.', 'archived', 'from', 'the', 'original', 'on', '1', 'december', '2008', '.', 'retrieved', '19', 'december', '2008', '.', 'anderson', ',', 'don', ';', 'ke', '##af', '##er', ',', 'bruce', ';', 'klein', '##din', '##st', ',', 'judy', ';', 'sha', '##ugh', '##nessy', ',', 'katie', ';', 'joyce', ',', 'katherine', ';', 'fin', '##o', ',', 'danielle', ';', 'shepherd', ',', 'adam', '(', '2007', ')', '.', '\"', 'harmful', 'algae', '\"', '.', 'us', 'national', 'office', 'for', 'harmful', 'al', '##gal', 'blooms', '.', 'archived', 'from', 'the', 'original', 'on', '5', 'december', '2008', '.', 'retrieved', '19', 'december', '2008', '.', '\"', 'australian', 'freshwater', 'algae', '(', 'af', '##a', ')', '\"', '.', 'department', 'of', 'environment', '/', 'climate', 'change', 'nsw', 'botanic', 'gardens', 'trust', '.', 'archived', 'from', 'the', 'original', 'on', '30', 'december', '2008', '.', 'retrieved', '19', 'december', '2008', '.', '\"', 'freshwater', 'algae', 'research', '\"', '.', 'ph', '##y', '##cology', 'section', ',', 'patrick', 'center', 'for', 'environmental', 'research', '.', '2011', '.', 'retrieved', '17', 'december', '2011', '.', '\"', 'monterey', 'bay', 'flora', '\"', '.', 'monterey', 'bay', 'aquarium', 'research', 'institute', '(', 'mba', '##ri', ')', '.', '1996', '–', '2008', '.', 'archived', 'from', 'the', 'original', 'on', '25', 'january', '2009', '.', 'retrieved', '20', 'december', '2008', '.', 'silva', ',', 'paul', '(', '1997', '–', '2004', ')', '.', '\"', 'index', 'no', '##min', '##um', 'al', '##gar', '##um', '(', 'ina', ')', '\"', '.', 'berkeley', ':', 'university', 'herb', '##arium', ',', 'university', 'of', 'california', '.', 'archived', 'from', 'the', 'original', 'on', '23', 'december', '2008', '.', 'retrieved', '19', 'december', '2008', '.', '\"', 'algae', ':', 'pro', '##tist', '##s', 'with', 'ch', '##lor', '##op', '##las', '##ts', '\"', '.', 'to', '##l', '##we', '##b', '.', 'org', '.', '\"', 'research', 'on', 'micro', '##al', '##ga', '##e', '\"', '.', 'algae', '.', 'wu', '##r', '.', 'nl', '.', 'wage', '##ning', '##en', 'ur', '.', '2009', '.', 'archived', 'from', 'the', 'original', 'on', '24', 'april', '2009', '.', 'retrieved', '18', 'may', '2009', '.', '\"', 'algae', 'gloss', '##ary', '\"', '.', 'australian', 'biological', 'resources', 'study', '.', 'archived', 'from', 'the', 'original', 'on', '1', 'november', '2012', '–', 'via', 'environment', '.', 'gov', '.', 'au', '.', '\"', 'about', 'algae', '\"', '.', 'nm', '##h', '.', 'ac', '.', 'uk', '.', 'natural', 'history', 'museum', ',', 'united', 'kingdom', '.', 'en', '##al', '##ga', '##e']\n",
            "Token IDs:  [18670, 1006, 1025, 13048, 2632, 3654, 1007, 2003, 2019, 11900, 2744, 2005, 1037, 2312, 1998, 7578, 2177, 1997, 7760, 6038, 10760, 4588, 7327, 6673, 7677, 4588, 11767, 1012, 2009, 2003, 1037, 26572, 21281, 7485, 2594, 19765, 1010, 2164, 2427, 2013, 3674, 5664, 21697, 2015, 1012, 2443, 11767, 2846, 2013, 4895, 6610, 3363, 7934, 12702, 2389, 3654, 2063, 1010, 2107, 2004, 10381, 20186, 4571, 1998, 1996, 22939, 20389, 2015, 1010, 2000, 4800, 16882, 3596, 1010, 2107, 2004, 1996, 5016, 17710, 14277, 1010, 1037, 2312, 2829, 2632, 3654, 2029, 2089, 4982, 2039, 2000, 2753, 1049, 1999, 3091, 1012, 2087, 2024, 13582, 1998, 8285, 13181, 17926, 1998, 3768, 2116, 1997, 1996, 5664, 3526, 1998, 8153, 4127, 1010, 2107, 2004, 2358, 9626, 2696, 1010, 1060, 12844, 2213, 1998, 6887, 26846, 2213, 1010, 2029, 2024, 2179, 1999, 2455, 4264, 1012, 1996, 2922, 1998, 2087, 3375, 3884, 18670, 2024, 2170, 2712, 18041, 2015, 1010, 2096, 1996, 2087, 3375, 12573, 3596, 2024, 1996, 25869, 7361, 10536, 2696, 1010, 1037, 2407, 1997, 2665, 18670, 2029, 2950, 1010, 2005, 2742, 1010, 11867, 9711, 6292, 2527, 1998, 2962, 12155, 21217, 1012, 2053, 6210, 1997, 18670, 2003, 3227, 3970, 1012, 2028, 6210, 2003, 2008, 18670, 1000, 2031, 10381, 10626, 7361, 29598, 2140, 2004, 2037, 3078, 7760, 6038, 10760, 4588, 28815, 1998, 3768, 1037, 25403, 5266, 1997, 4442, 2105, 2037, 15124, 4442, 1000, 1012, 2348, 22330, 6761, 3676, 21162, 2401, 2024, 2411, 3615, 2000, 2004, 1000, 2630, 1011, 2665, 18670, 1000, 1010, 2087, 4614, 23329, 2035, 4013, 6673, 7677, 4570, 2013, 1996, 6210, 1997, 18670, 1012, 18670, 12346, 1037, 26572, 21281, 7485, 2594, 2177, 2144, 2027, 2079, 2025, 2421, 1037, 2691, 13032, 1010, 1998, 2348, 2037, 20228, 14083, 9821, 4025, 2000, 2031, 1037, 2309, 4761, 1010, 2013, 22330, 6761, 3676, 21162, 2401, 1010, 2027, 2020, 3734, 1999, 2367, 3971, 1012, 2665, 18670, 2024, 4973, 1997, 18670, 2008, 2031, 3078, 10381, 10626, 7361, 8523, 3215, 5173, 2013, 2203, 2891, 24335, 26591, 22330, 6761, 3676, 21162, 2401, 1012, 22939, 20389, 2015, 1998, 2829, 18670, 2024, 4973, 1997, 18670, 2007, 3905, 10381, 10626, 7361, 8523, 3215, 5173, 2013, 2019, 2203, 2891, 24335, 26591, 2417, 2632, 3654, 1012, 18670, 8327, 1037, 2898, 2846, 1997, 15124, 9942, 1010, 2013, 3722, 2004, 10288, 8787, 3526, 2407, 2000, 3375, 3596, 1997, 4424, 14627, 1012, 18670, 3768, 1996, 2536, 5090, 2008, 2839, 4697, 2455, 4264, 1010, 2107, 2004, 1996, 6887, 8516, 21273, 2015, 1006, 7053, 1011, 2066, 5090, 1007, 1997, 7987, 7677, 21281, 4570, 1010, 1054, 4048, 6844, 9821, 1999, 2512, 12044, 15431, 4264, 1010, 1998, 1996, 6147, 1010, 3727, 1010, 1998, 2060, 11595, 2179, 1999, 19817, 15395, 7361, 10536, 4570, 1006, 21449, 4264, 1007, 1012, 2087, 2024, 6302, 13181, 17926, 1010, 2348, 2070, 2024, 4666, 4140, 18981, 16066, 1010, 4315, 14966, 2943, 2119, 2013, 7760, 6038, 25078, 1998, 2039, 15166, 1997, 7554, 6351, 2593, 2011, 9808, 18938, 18981, 10536, 1010, 2026, 6844, 13181, 21281, 1010, 2030, 6887, 23692, 13181, 21281, 1012, 2070, 4895, 6610, 3363, 7934, 2427, 1997, 2665, 18670, 1010, 2116, 3585, 18670, 1010, 7327, 9354, 3490, 5104, 1010, 22412, 10258, 4270, 4571, 4570, 1010, 1998, 2060, 18670, 2031, 2468, 21770, 10624, 13181, 18757, 1006, 2036, 2170, 3609, 3238, 2030, 9706, 11663, 10626, 20214, 18670, 1007, 1010, 2823, 26045, 1010, 18345, 4498, 2006, 6327, 2943, 4216, 1998, 2031, 3132, 2030, 2053, 7760, 6038, 10760, 4588, 14709, 1012, 2070, 2060, 21770, 10624, 13181, 17926, 11767, 1010, 2107, 2004, 1996, 17928, 9006, 19386, 6962, 1010, 2024, 2036, 5173, 2013, 4442, 3005, 10748, 8679, 20228, 14083, 9821, 1010, 2021, 2024, 2025, 6964, 2641, 2004, 18670, 1012, 18670, 2031, 7760, 6038, 10760, 4588, 10394, 4821, 5173, 2013, 22330, 6761, 3676, 21162, 2401, 2008, 3965, 7722, 2004, 1037, 2011, 1011, 4031, 1997, 7760, 6038, 25078, 1010, 4406, 2060, 7760, 6038, 10760, 4588, 10327, 2107, 2004, 6379, 1998, 2665, 17864, 10327, 1012, 10725, 3550, 10882, 10278, 4765, 3560, 18670, 2013, 1996, 19354, 16425, 3148, 6403, 2031, 2042, 6052, 2067, 2000, 1015, 1012, 1020, 2000, 1015, 1012, 1021, 4551, 2086, 3283, 1012, 1027, 1027, 26803, 1998, 2817, 1027, 1027, 1996, 13048, 2632, 3654, 2003, 1996, 3763, 2773, 2005, 1005, 2712, 18041, 1005, 1998, 14567, 2008, 3574, 1999, 2394, 1012, 1996, 26803, 2003, 14485, 1012, 2348, 2070, 28699, 9869, 2008, 2009, 2003, 3141, 2000, 3763, 2632, 4590, 2063, 1010, 1005, 2022, 3147, 1005, 1010, 2053, 3114, 2003, 2124, 2000, 5482, 2712, 18041, 2007, 4860, 1012, 1037, 2062, 3497, 3120, 2003, 2035, 13340, 1010, 1005, 8031, 1010, 4372, 2102, 10105, 2075, 1005, 1012, 1996, 3418, 3306, 2773, 2005, 1005, 2712, 18041, 1005, 2001, 1176, 29735, 29726, 15297, 1006, 6887, 15922, 2891, 1007, 1010, 2029, 2071, 2812, 2593, 1996, 2712, 18041, 1006, 2763, 2417, 18670, 1007, 2030, 1037, 2417, 18554, 5173, 2013, 2009, 1012, 1996, 3763, 3989, 1010, 11865, 7874, 1010, 3214, 3952, 1996, 25536, 12801, 1012, 1996, 26803, 2003, 9662, 1010, 2021, 1037, 2844, 4018, 2038, 2146, 2042, 2070, 2773, 3141, 2000, 1996, 10213, 1261, 29792, 29797, 1006, 16405, 2243, 1007, 1010, 1005, 6773, 1005, 1006, 2065, 2025, 2008, 2773, 2993, 1007, 1010, 1037, 25536, 3239, 1011, 5192, 2109, 2011, 1996, 3418, 23437, 1998, 2060, 4864, 1997, 1996, 2789, 7095, 1012, 2009, 2071, 2022, 2151, 3609, 1024, 2304, 1010, 2417, 1010, 2665, 1010, 2030, 2630, 1012, 11914, 1010, 1996, 2715, 2817, 1997, 3884, 1998, 12573, 18670, 2003, 2170, 2593, 6887, 2100, 19824, 2030, 2632, 24141, 15707, 1010, 5834, 2006, 3251, 1996, 3306, 2030, 3763, 7117, 2003, 2109, 1012, 1996, 2171, 11865, 7874, 3544, 1999, 1037, 2193, 1997, 23726, 1012, 1027, 1027, 5579, 1027, 1027, 1996, 2837, 2006, 1996, 2248, 3642, 1997, 13194, 23718, 2038, 6749, 3056, 16809, 2229, 2005, 2224, 1999, 1996, 5579, 1997, 18670, 1012, 2122, 2024, 1011, 6887, 22123, 2050, 2005, 2407, 1010, 1011, 6887, 29297, 6679, 2005, 2465, 1010, 1011, 6887, 2100, 27082, 6679, 2005, 4942, 26266, 1010, 1011, 15669, 2015, 2005, 2344, 1010, 1011, 27118, 4244, 2005, 4942, 8551, 2121, 1010, 1011, 9078, 6679, 2005, 2155, 1010, 1011, 1051, 5178, 11022, 2005, 10946, 1010, 1037, 3306, 1011, 2241, 2171, 2005, 3562, 1010, 1998, 1037, 3763, 1011, 2241, 2171, 2005, 2427, 1012, 1027, 1027, 1027, 2632, 9692, 6459, 3937, 2000, 3078, 5579, 1027, 1027, 1027, 1996, 3078, 5579, 1997, 18670, 2003, 2241, 2006, 3056, 24012, 2838, 1012, 1996, 2708, 2426, 2122, 2024, 1006, 1037, 1007, 28815, 4552, 1997, 1996, 3526, 1010, 1006, 1038, 1007, 5072, 3267, 1997, 8250, 2833, 4475, 1010, 1006, 1039, 1007, 2785, 1010, 2193, 1010, 2391, 1997, 23851, 1998, 5816, 3091, 1997, 1996, 5210, 8411, 2006, 1996, 9587, 15286, 3526, 1010, 1006, 1040, 1007, 5072, 5512, 1997, 3526, 2813, 1998, 1006, 1041, 1007, 3739, 2030, 6438, 1997, 1037, 5791, 4114, 13502, 1999, 1996, 3526, 2030, 2151, 2060, 3278, 4751, 1997, 3526, 3252, 1012, 1027, 1027, 1027, 2381, 1997, 5579, 1997, 18670, 1027, 1027, 1027, 2348, 8594, 2271, 21610, 1006, 22593, 1007, 2443, 18670, 2247, 2007, 5622, 8661, 2015, 1999, 2010, 10965, 2465, 19888, 18170, 10092, 1010, 2002, 2106, 2025, 9603, 2582, 2006, 1996, 5579, 1997, 18670, 1012, 3744, 5578, 16821, 12436, 22368, 1006, 12651, 1007, 2001, 3383, 1996, 2034, 2000, 16599, 1037, 2291, 1997, 5579, 1997, 18670, 1010, 1998, 2002, 3858, 2093, 2967, 1010, 9530, 7512, 6961, 1010, 17359, 6961, 1010, 1998, 29461, 10199, 4244, 1012, 2096, 8968, 10952, 8896, 4957, 1006, 11102, 1007, 6219, 18670, 2006, 1996, 3978, 1997, 1996, 6120, 1997, 1996, 28815, 1998, 3252, 1010, 2520, 2888, 7702, 1006, 10081, 1007, 3818, 1037, 2291, 1997, 5579, 2006, 1996, 3978, 1997, 1996, 6552, 1998, 1996, 28815, 1012, 1046, 1012, 1043, 1012, 12943, 4232, 2232, 1006, 9037, 1516, 6068, 1007, 4055, 18670, 2046, 2416, 4449, 1024, 22939, 20389, 18339, 1010, 16839, 3406, 17231, 5243, 2063, 1010, 9530, 7512, 6767, 5178, 6679, 1010, 17359, 24887, 5243, 2063, 1010, 13109, 11069, 3207, 6679, 1998, 11865, 3597, 5178, 6679, 1012, 2105, 6756, 1010, 18670, 2247, 2007, 15289, 2020, 15131, 2104, 22794, 7174, 21281, 2696, 1010, 1037, 2407, 2580, 2011, 1041, 7033, 3917, 1006, 10081, 1007, 1012, 6628, 2011, 2023, 1010, 12500, 25540, 3917, 1998, 6382, 1037, 1012, 1041, 1012, 10975, 4630, 2140, 1006, 4878, 1007, 3818, 1037, 8001, 5679, 1997, 5579, 1997, 18670, 1998, 2443, 15289, 1999, 18670, 2004, 2027, 2020, 1997, 5448, 2008, 15289, 2031, 2042, 5173, 2013, 18670, 1012, 1996, 5679, 3818, 2011, 25540, 3917, 1998, 10975, 4630, 2140, 2003, 7680, 7849, 5084, 2004, 4076, 1024, 8040, 4048, 6844, 21281, 2696, 6887, 22123, 8820, 29566, 18979, 5210, 8411, 2696, 22412, 10258, 4270, 4571, 2696, 8670, 6895, 17305, 3695, 21281, 2696, 9530, 9103, 26589, 2063, 10381, 10626, 7361, 10536, 9071, 25869, 7361, 10536, 2696, 6887, 6679, 7361, 10536, 9071, 1054, 6806, 3527, 21281, 9071, 7327, 8029, 3401, 4570, 1006, 15289, 1007, 1996, 18670, 5383, 10381, 10626, 7361, 8523, 3215, 2008, 2024, 2714, 1999, 3252, 2000, 22330, 6761, 3676, 21162, 2401, 1012, 10381, 10626, 7361, 8523, 3215, 5383, 8206, 6064, 2066, 2008, 1999, 22330, 6761, 3676, 21162, 2401, 1998, 2024, 10009, 2004, 5052, 4359, 2203, 2891, 24335, 26591, 22330, 6761, 3676, 21162, 2401, 1012, 2174, 1010, 1996, 6635, 4761, 1997, 1996, 10381, 10626, 7361, 8523, 3215, 2003, 2367, 2426, 3584, 13321, 2015, 1997, 18670, 1010, 10842, 2037, 7654, 2076, 2367, 2203, 2891, 24335, 26591, 2824, 1012, 1996, 2795, 2917, 5577, 1996, 5512, 1997, 1996, 2093, 2350, 2967, 1997, 18670, 1012, 2037, 13321, 6550, 2024, 3491, 1999, 1996, 3275, 1999, 1996, 3356, 2157, 1012, 2116, 1997, 2122, 2967, 5383, 2070, 2372, 2008, 2024, 2053, 2936, 7760, 6038, 10760, 4588, 1012, 2070, 9279, 20228, 14083, 9821, 1010, 2021, 2025, 10381, 10626, 7361, 8523, 3215, 1010, 2096, 2500, 2031, 2439, 20228, 14083, 9821, 4498, 1012, 6887, 8516, 23924, 2100, 2241, 2006, 20228, 14083, 3593, 2025, 16371, 14321, 10085, 22123, 7361, 8523, 7712, 26684, 1024, 21610, 1010, 1999, 2427, 3269, 15728, 2213, 1006, 23810, 1007, 1010, 1996, 3225, 2391, 2005, 2715, 13194, 23718, 1010, 3858, 2403, 11416, 1997, 18670, 1010, 1997, 2029, 2069, 2176, 2024, 2747, 2641, 2426, 18670, 1012, 1999, 2291, 2050, 14085, 4648, 2063, 1010, 21610, 2649, 1996, 11416, 21074, 2595, 1998, 11034, 13786, 1010, 1998, 1037, 2427, 1997, 9078, 2696, 28808, 2401, 1006, 2004, 5506, 2890, 17822, 2050, 1007, 1010, 2426, 1996, 4176, 1012, 1999, 19793, 1010, 5212, 2288, 19646, 2666, 2497, 13938, 18809, 1006, 25846, 1516, 17593, 1007, 2405, 1996, 19891, 11865, 27108, 2819, 1010, 1996, 2034, 2147, 4056, 2000, 3884, 18670, 1998, 1996, 2034, 2338, 2006, 3884, 7366, 2000, 2224, 1996, 2059, 2047, 8026, 20936, 2389, 23718, 1997, 21610, 1012, 2009, 2443, 9603, 11249, 1997, 2712, 18041, 1998, 3884, 18670, 2006, 6999, 3727, 1012, 1059, 1012, 1044, 1012, 7702, 1006, 13086, 1516, 7647, 1007, 1998, 16983, 8162, 28700, 1006, 12169, 1007, 2020, 1996, 2034, 2000, 11443, 26632, 24895, 18670, 2046, 2176, 5908, 2241, 2006, 2037, 28815, 3370, 1012, 2023, 2003, 1996, 2034, 2224, 1997, 1037, 16012, 15869, 19229, 1999, 3269, 11778, 2015, 1012, 7702, 1005, 1055, 2176, 5908, 2024, 1024, 2417, 18670, 1006, 1054, 6806, 12269, 4842, 2863, 2063, 1007, 1010, 2829, 18670, 1006, 11463, 6761, 17668, 2863, 2063, 1007, 1010, 2665, 18670, 1006, 10381, 10626, 2891, 4842, 2863, 2063, 1007, 1010, 1998, 22939, 20389, 18339, 1012, 2012, 2023, 2051, 1010, 26396, 18670, 2020, 3603, 1998, 2988, 2011, 1037, 2367, 2177, 1997, 3667, 1006, 1041, 1012, 1043, 1012, 1010, 1051, 1012, 1042, 1012, 12304, 1998, 15501, 7389, 4059, 1007, 5702, 1996, 1999, 25608, 11069, 1006, 26396, 11767, 1007, 1012, 4406, 26632, 2389, 3654, 2063, 1010, 2029, 2020, 4415, 7021, 2004, 4264, 1010, 12702, 2389, 3654, 2063, 2020, 4703, 2641, 4176, 2138, 2027, 2024, 2411, 9587, 15286, 1012, 2130, 1996, 2512, 18938, 9463, 1006, 2522, 21408, 3593, 1007, 12702, 2389, 3654, 2063, 2020, 2823, 6414, 2464, 2004, 5711, 1997, 1996, 2166, 23490, 1997, 4264, 1010, 26632, 2389, 3654, 2063, 1010, 2030, 4176, 1012, 2348, 2109, 2004, 1037, 27691, 4696, 1999, 2070, 3653, 1011, 11534, 2937, 26739, 1010, 1041, 1012, 1043, 1012, 1010, 21610, 1006, 23810, 1007, 1010, 2139, 18414, 18719, 13765, 1006, 13739, 1007, 1010, 7570, 21578, 19779, 1006, 10075, 1007, 1010, 12943, 12054, 10993, 1006, 8165, 1007, 1010, 4267, 1004, 16220, 2378, 1006, 6717, 1007, 1010, 1999, 2582, 26739, 1010, 1996, 1000, 18670, 1000, 2024, 2464, 2004, 2019, 7976, 1010, 26572, 21281, 7485, 2594, 2177, 1012, 2802, 1996, 3983, 2301, 1010, 2087, 26739, 5845, 1996, 2206, 2967, 2004, 5908, 2030, 4280, 1997, 18670, 1024, 22330, 6761, 21281, 4570, 1010, 1054, 6806, 3527, 21281, 4570, 1010, 10381, 24769, 7361, 10536, 4570, 1010, 1060, 4630, 18471, 10536, 4570, 1010, 8670, 6895, 17305, 3695, 21281, 4570, 1010, 6887, 6679, 7361, 10536, 4570, 1010, 1052, 12541, 25032, 7361, 10536, 4570, 1006, 19888, 7361, 10536, 4570, 1998, 22412, 21281, 4570, 1007, 1010, 7327, 9354, 3630, 21281, 4570, 1010, 1998, 10381, 10626, 7361, 10536, 4570, 1012, 2101, 1010, 2116, 2047, 2967, 2020, 3603, 1006, 1041, 1012, 1043, 1012, 1010, 8945, 21273, 7361, 10536, 9071, 1007, 1010, 1998, 2500, 2020, 27546, 2098, 2013, 3080, 2967, 1024, 25869, 7361, 10536, 4570, 1998, 1043, 17298, 3597, 21281, 4570, 1006, 2013, 10381, 10626, 7361, 10536, 4570, 1007, 1010, 2116, 21770, 10624, 19648, 14399, 10536, 4570, 1006, 1041, 1012, 1043, 1012, 1010, 19962, 10976, 21281, 4570, 2013, 10381, 24769, 7361, 10536, 4570, 1010, 2030, 7327, 16643, 21693, 10610, 21281, 4570, 2013, 1060, 4630, 18471, 10536, 4570, 1007, 1010, 5292, 13876, 7361, 10536, 4570, 1006, 2013, 10381, 24769, 7361, 10536, 4570, 1007, 1010, 1998, 10381, 10626, 5400, 2818, 27678, 21281, 4570, 1006, 2013, 1060, 4630, 18471, 10536, 4570, 1007, 1012, 2007, 1996, 22290, 1997, 3269, 1011, 4111, 4487, 9905, 20389, 3560, 5579, 1010, 2087, 2967, 1997, 18670, 1006, 2823, 2035, 1007, 2020, 2443, 1999, 4013, 16774, 2050, 1010, 2101, 2036, 4704, 1999, 7927, 1997, 7327, 6673, 7677, 2696, 1012, 2174, 1010, 2004, 1037, 8027, 1997, 1996, 3080, 3269, 2166, 5679, 1010, 2070, 2967, 2008, 2020, 2036, 5845, 2004, 15053, 6844, 6962, 1999, 1996, 2627, 2145, 2031, 24473, 2094, 26739, 1006, 2156, 2572, 17706, 13910, 12032, 4013, 16774, 2015, 1007, 1012, 2070, 26045, 18670, 1006, 1041, 1012, 1043, 1012, 1010, 1996, 2665, 18670, 15053, 10760, 3540, 1998, 2002, 10415, 2891, 17822, 28742, 1010, 23996, 1997, 18804, 6844, 6962, 1010, 2030, 8292, 21890, 2571, 10976, 2015, 1010, 23996, 1997, 4264, 1007, 2020, 2761, 6219, 2004, 15289, 1010, 11867, 14604, 6844, 6962, 1010, 2030, 4013, 16774, 6962, 1997, 4297, 8743, 6679, 7367, 10521, 1010, 2096, 2500, 1006, 1041, 1012, 1043, 1012, 1010, 1996, 2665, 18670, 6887, 8516, 10483, 11514, 8747, 1998, 1054, 6806, 3527, 11714, 18886, 2819, 1010, 23996, 1997, 4264, 1010, 2030, 1996, 2417, 18670, 13866, 10624, 20464, 17190, 7361, 26415, 1998, 21500, 28173, 24163, 2721, 2595, 5003, 7382, 9386, 5809, 1010, 23996, 1997, 2060, 2417, 18670, 1010, 2030, 1996, 22412, 10258, 4270, 4571, 4570, 1051, 7716, 27585, 1010, 23996, 1997, 3869, 1007, 2018, 2037, 3276, 2007, 18670, 22647, 2094, 2220, 1012, 1999, 2060, 3572, 1010, 2070, 2967, 2020, 2761, 7356, 2004, 26045, 18670, 1006, 1041, 1012, 1043, 1012, 1010, 10381, 10626, 11663, 22123, 18802, 1007, 1010, 2021, 2101, 2020, 2464, 2004, 2203, 7361, 10536, 4588, 18670, 1012, 2070, 10882, 10278, 4765, 3560, 10327, 1006, 1041, 1012, 1043, 1012, 1010, 11693, 10440, 3406, 2050, 1007, 2020, 2761, 2464, 2004, 18670, 1012, 7297, 1010, 2967, 2066, 1996, 17928, 9006, 19386, 6962, 2024, 2036, 23996, 5173, 2013, 10748, 2008, 8679, 20228, 14083, 9821, 1010, 2021, 2024, 2025, 2443, 1999, 2151, 2177, 6964, 2464, 2004, 18670, 1012, 1027, 1027, 3276, 2000, 2455, 4264, 1027, 1027, 1996, 2034, 2455, 4264, 2763, 7964, 2013, 8467, 12573, 25869, 7361, 10536, 2618, 18670, 2172, 2066, 25869, 2050, 2471, 3156, 2454, 2086, 3283, 1012, 2122, 2763, 2018, 2019, 11163, 18078, 11477, 9323, 1997, 8213, 1998, 2020, 2763, 10882, 10278, 4765, 3560, 1012, 11954, 1997, 7275, 2455, 3269, 23763, 6592, 2455, 4264, 2089, 2031, 2042, 2105, 2004, 2146, 2004, 28245, 2454, 2086, 3283, 1012, 1027, 1027, 19476, 1027, 1027, 1037, 2846, 1997, 2632, 9692, 22822, 8458, 20792, 2003, 8176, 1010, 1998, 19143, 1997, 2838, 1999, 15142, 2967, 2003, 2691, 1012, 1996, 2069, 2967, 2000, 8327, 2093, 1011, 8789, 4800, 16882, 22794, 6894, 2024, 1996, 12281, 1998, 13240, 1010, 1998, 2070, 10381, 10626, 7361, 10536, 4570, 1012, 29197, 3930, 2003, 27570, 2000, 16745, 2015, 1997, 2122, 2967, 1024, 1996, 13109, 10050, 3207, 7361, 10536, 2618, 12281, 1010, 2536, 13240, 1010, 1998, 1996, 25869, 7361, 10536, 4570, 1012, 1996, 2433, 1997, 25869, 7361, 10536, 4570, 2003, 3243, 2367, 2013, 2216, 1997, 12281, 1998, 13240, 1010, 2138, 2027, 2031, 5664, 14164, 1010, 5459, 2011, 25204, 10244, 1005, 12402, 1005, 1025, 25637, 1997, 5628, 14563, 1997, 1996, 3586, 22081, 5258, 2012, 1996, 14164, 1012, 4145, 18630, 2015, 2024, 2178, 26572, 21281, 7485, 2594, 18275, 1025, 2027, 3711, 1999, 1996, 11034, 4179, 18670, 1998, 1996, 7632, 28476, 23544, 4818, 2229, 1010, 2004, 2092, 2004, 1996, 13240, 1012, 2087, 1997, 1996, 16325, 18670, 2024, 4895, 6610, 3363, 7934, 5210, 8411, 4570, 2030, 2572, 8913, 5092, 9821, 1010, 2021, 5336, 1998, 2512, 18938, 9463, 3596, 2031, 2764, 9174, 2426, 2195, 1997, 1996, 2967, 1012, 2070, 1997, 1996, 2062, 2691, 13296, 3798, 1010, 2062, 2084, 2028, 1997, 2029, 2089, 5258, 1999, 1996, 2166, 23490, 1997, 1037, 2427, 1010, 2024, 5336, 1024, 2235, 1010, 3180, 2967, 1997, 9587, 15286, 4442, 9700, 9314, 1024, 3265, 2512, 1011, 9587, 15286, 4442, 11157, 1999, 14163, 6895, 20679, 2522, 21408, 3593, 1024, 3265, 2512, 1011, 9587, 15286, 4442, 2007, 3526, 3681, 5340, 15350, 3593, 1024, 2512, 18938, 9463, 4442, 11157, 1999, 14163, 6895, 20679, 10882, 10278, 4765, 3560, 1024, 1037, 5164, 1997, 2512, 18938, 9463, 4442, 4198, 2362, 1010, 2823, 23346, 11968, 2368, 11714, 18900, 3560, 1024, 4442, 5716, 1037, 22794, 20159, 2007, 7704, 20582, 1997, 14095, 2378, 2093, 3210, 1010, 2130, 3020, 3798, 1997, 3029, 2031, 2042, 2584, 1010, 2007, 2440, 8153, 20582, 1012, 2122, 2024, 1996, 2829, 18670, 1010, 1517, 2070, 1997, 2029, 2089, 3362, 2753, 1049, 1999, 3091, 1006, 17710, 14277, 2015, 1007, 1517, 1996, 2417, 18670, 1010, 1998, 1996, 2665, 18670, 1012, 1996, 2087, 3375, 3596, 2024, 2179, 2426, 1996, 25869, 7361, 10536, 2618, 18670, 1006, 2156, 25869, 23266, 1998, 25869, 7361, 10536, 2696, 1007, 1010, 1999, 1037, 13321, 2008, 2776, 2419, 2000, 1996, 3020, 2455, 4264, 1012, 1996, 8144, 2008, 11859, 2122, 2512, 2389, 9692, 4264, 2003, 1996, 3739, 1997, 2931, 15124, 11595, 2007, 9474, 3526, 9014, 2008, 4047, 1996, 1062, 2100, 3995, 2618, 1998, 4975, 28086, 1012, 6516, 1010, 1996, 2455, 4264, 2024, 3615, 2000, 2004, 1996, 28086, 21281, 4570, 1012, 1027, 1027, 16127, 1027, 1027, 2116, 18670, 1010, 3391, 2372, 1997, 1996, 25869, 18339, 1010, 2031, 2366, 2004, 2944, 6388, 11767, 2000, 3305, 1996, 10595, 1997, 1996, 2300, 2566, 4168, 8010, 1997, 24972, 1010, 9808, 5974, 24848, 3370, 1010, 10722, 18581, 2099, 7816, 1010, 5474, 13986, 1010, 22330, 14399, 8523, 7712, 11058, 1010, 1998, 1996, 4245, 1997, 2895, 4022, 2015, 1012, 6887, 22123, 11631, 2953, 8202, 2229, 2024, 2179, 2025, 2069, 1999, 3020, 4264, 1010, 2021, 1999, 18670, 1010, 2205, 1012, 1027, 1027, 25353, 14905, 25185, 2594, 18670, 1027, 1027, 2070, 2427, 1997, 18670, 2433, 25353, 14905, 25185, 2594, 6550, 2007, 2060, 11767, 1012, 1999, 2122, 25353, 14905, 10735, 2229, 1010, 1996, 18670, 4425, 7760, 6038, 8322, 4570, 1006, 7554, 13978, 1007, 2000, 1996, 3677, 15923, 4346, 3860, 2000, 1996, 2632, 9692, 4442, 1012, 1996, 3677, 15923, 12153, 2070, 2030, 2035, 1997, 2049, 2943, 5918, 2013, 1996, 18670, 1012, 4973, 2024, 1024, 1027, 1027, 1027, 5622, 8661, 2015, 1027, 1027, 1027, 5622, 8661, 2015, 2024, 4225, 2011, 1996, 2248, 2523, 2005, 5622, 8661, 6779, 2000, 2022, 1000, 2019, 2523, 1997, 1037, 16622, 1998, 1037, 7760, 6038, 10760, 4588, 25353, 14905, 3258, 2102, 4525, 1999, 1037, 6540, 2310, 18150, 8082, 2303, 2383, 1037, 3563, 3252, 1000, 1012, 1996, 15289, 1010, 2030, 2026, 3597, 26282, 7666, 1010, 2024, 3701, 2013, 1996, 2004, 9006, 2100, 24310, 2050, 2007, 1037, 2261, 2013, 1996, 19021, 28173, 16940, 24310, 2050, 1012, 1999, 3267, 2027, 2079, 2025, 5258, 3584, 2013, 5622, 8661, 2015, 1012, 2009, 2003, 4242, 2043, 2027, 2211, 2000, 5482, 1012, 2028, 2026, 3597, 26282, 3372, 9228, 2007, 1996, 2168, 6887, 2100, 3597, 26282, 3372, 2427, 1010, 6524, 2048, 1010, 2013, 1996, 2665, 18670, 1010, 3272, 2008, 14084, 1010, 1996, 2026, 3597, 26282, 3372, 2089, 5482, 2007, 1037, 2427, 1997, 22330, 6761, 3676, 21162, 2401, 1006, 6516, 1000, 6302, 26282, 3372, 1000, 2003, 1996, 2062, 8321, 2744, 1007, 1012, 1037, 6302, 26282, 3372, 2089, 2022, 3378, 2007, 2116, 2367, 2026, 3597, 26282, 7666, 2030, 2089, 2444, 9174, 1025, 11914, 1010, 5622, 8661, 2015, 2024, 2315, 1998, 6219, 2004, 28079, 2427, 1012, 1996, 2523, 2003, 12061, 1037, 22822, 8458, 23924, 19009, 2138, 1996, 5622, 8661, 2038, 1037, 2433, 1998, 9859, 2025, 8679, 2011, 1996, 25353, 14905, 3258, 2102, 2427, 2894, 1006, 2027, 2064, 2022, 6388, 2135, 7275, 1007, 1012, 1996, 6302, 26282, 3372, 4298, 27099, 4728, 2397, 3372, 9165, 1999, 1996, 2026, 3597, 26282, 3372, 1012, 7990, 13699, 11631, 6632, 2003, 2019, 2742, 1997, 1037, 2691, 2665, 2632, 3654, 3562, 4969, 2008, 2064, 4982, 2006, 2049, 2219, 2030, 2022, 5622, 8661, 5084, 1012, 5622, 8661, 2947, 3745, 2070, 1997, 1996, 6552, 1998, 2411, 2714, 3311, 2007, 7772, 2427, 1997, 18670, 1006, 18440, 21281, 4570, 1007, 3652, 2006, 6086, 9972, 2107, 2004, 3392, 20509, 1998, 5749, 1998, 2823, 12532, 10626, 2075, 2068, 1012, 1027, 1027, 1027, 11034, 21484, 1027, 1027, 1027, 11034, 21484, 2024, 14830, 2013, 1996, 10250, 16302, 3560, 4654, 2891, 11705, 18903, 3619, 1997, 3884, 25700, 1997, 1996, 2344, 8040, 3917, 18908, 23309, 1006, 16104, 11034, 2015, 1007, 1012, 2122, 4176, 18804, 14956, 4697, 5699, 1998, 7722, 2000, 6855, 2943, 2005, 2037, 3526, 1011, 2311, 6194, 1010, 2164, 3595, 3258, 1997, 1996, 4654, 2891, 11705, 18903, 2078, 1010, 2007, 2300, 1998, 6351, 14384, 2004, 2011, 21572, 8566, 16649, 1012, 22412, 10258, 4270, 4571, 4570, 1006, 2632, 9692, 4013, 16774, 2015, 1007, 2024, 2411, 2203, 2891, 24335, 26282, 7666, 1999, 1996, 4442, 1997, 1996, 11034, 1011, 5716, 3884, 25700, 1010, 2073, 2027, 23306, 3677, 1011, 3526, 18089, 2011, 11717, 5699, 1998, 7722, 3202, 2800, 2083, 7760, 6038, 25078, 2478, 5043, 2422, 1998, 1996, 6351, 14384, 2550, 2011, 1996, 3677, 1012, 12664, 1011, 2311, 16104, 11034, 2015, 1006, 2014, 18900, 22571, 2594, 11034, 2015, 1007, 5478, 2203, 2891, 24335, 26591, 18670, 2013, 1996, 3562, 25353, 14905, 3695, 26039, 2819, 2000, 2022, 1999, 1037, 7965, 4650, 1012, 1996, 3279, 1997, 25353, 14905, 3695, 26039, 2819, 2013, 1996, 3677, 2003, 2124, 2004, 11034, 1038, 19738, 8450, 1010, 1037, 4650, 2029, 5260, 2000, 1996, 26118, 1997, 1037, 12664, 1012, 1027, 1027, 1027, 2712, 25742, 2015, 1027, 1027, 1027, 2203, 2891, 24335, 26282, 16778, 2278, 2665, 18670, 2444, 2485, 2000, 1996, 3302, 1997, 2070, 25742, 2015, 1010, 2005, 2742, 1010, 7852, 26775, 25438, 25742, 2015, 1006, 11085, 7033, 15422, 4360, 6634, 5243, 1007, 1012, 1996, 2632, 3654, 2003, 2947, 5123, 2013, 12630, 1025, 1996, 25742, 2003, 3024, 2007, 7722, 1998, 5699, 2015, 2029, 2064, 4070, 2005, 2753, 2000, 3770, 1003, 1997, 25742, 3930, 1999, 2070, 2427, 1012, 1027, 1027, 2166, 23490, 1027, 1027, 1054, 6806, 3527, 21281, 2696, 1010, 10381, 10626, 7361, 10536, 2696, 1010, 1998, 21770, 10624, 19648, 14399, 10536, 2696, 1010, 1996, 2093, 2364, 2632, 9692, 5908, 1010, 2031, 2166, 23490, 2015, 2029, 2265, 6196, 8386, 1998, 11619, 1012, 1999, 2236, 1010, 2019, 2004, 10288, 8787, 4403, 6526, 2073, 1996, 2712, 18041, 1005, 1055, 4442, 2024, 16510, 27710, 1010, 1037, 4424, 4403, 2073, 1996, 4442, 2024, 5292, 24759, 9314, 1010, 2628, 2011, 10077, 1997, 1996, 3287, 1998, 2931, 2208, 4570, 1012, 2004, 10288, 8787, 14627, 14245, 8114, 2313, 7457, 1010, 2021, 2625, 8386, 2003, 2825, 1012, 4141, 1010, 1999, 4424, 14627, 1997, 4895, 6610, 3363, 7934, 1998, 5336, 18670, 1010, 2048, 7772, 1010, 12581, 11892, 1010, 5292, 24759, 9314, 2208, 4570, 2191, 3558, 3967, 1998, 19976, 2000, 2433, 1037, 1062, 2100, 3995, 2618, 1012, 2000, 5676, 1037, 3144, 15100, 1010, 1996, 2458, 1998, 2713, 1997, 2208, 4570, 2003, 3811, 25549, 1998, 12222, 1025, 6887, 10624, 8202, 2229, 2089, 2377, 1037, 3145, 2535, 1999, 2122, 6194, 1012, 4424, 14627, 4473, 2005, 2062, 8386, 1998, 3640, 1996, 5770, 1997, 8114, 28667, 5358, 21114, 3508, 2389, 7192, 1997, 6064, 12394, 2076, 19734, 12650, 1010, 1037, 3145, 2754, 1997, 1996, 4424, 5402, 1012, 2174, 1010, 4424, 14627, 2003, 2062, 17047, 2084, 2004, 10288, 8787, 14627, 1012, 19734, 12650, 2038, 2042, 3491, 2000, 5258, 1999, 2116, 2367, 2427, 1997, 18670, 1012, 1027, 1027, 3616, 1027, 1027, 1996, 2632, 9692, 3074, 1997, 1996, 2149, 2120, 12810, 17285, 1006, 2284, 1999, 1996, 2120, 2688, 1997, 3019, 2381, 1007, 3774, 1997, 3155, 13710, 1010, 3156, 9550, 9908, 1010, 2029, 1010, 2348, 2025, 15095, 3512, 1006, 2053, 15095, 3512, 3074, 6526, 1007, 1010, 3957, 2019, 2801, 1997, 1996, 2344, 1997, 10194, 1997, 1996, 2193, 1997, 2632, 9692, 2427, 1006, 2008, 2193, 3464, 4242, 1007, 1012, 10035, 8137, 4235, 1012, 2005, 2742, 1010, 2429, 2000, 2028, 3115, 16432, 1010, 1999, 1996, 2329, 14195, 1996, 2866, 17194, 9602, 2177, 3189, 4358, 2045, 2000, 2022, 2322, 1010, 2199, 2632, 9692, 2427, 1999, 1996, 2866, 1012, 2178, 4638, 9863, 4311, 2069, 2055, 1019, 1010, 2199, 2427, 1012, 4953, 1996, 4489, 1997, 2055, 2321, 1010, 2199, 2427, 1010, 1996, 3793, 14730, 1024, 1000, 2009, 2097, 5478, 2116, 6851, 2492, 12265, 2077, 2009, 2003, 2825, 2000, 3073, 1037, 10539, 10197, 1997, 1996, 2561, 2193, 1997, 2427, 1012, 1012, 1012, 1000, 3164, 1998, 2177, 10035, 2031, 2042, 2081, 1010, 2004, 2092, 1024, 1019, 1010, 2199, 1516, 1019, 1010, 3156, 2427, 1997, 2417, 18670, 4969, 1000, 2070, 1015, 1010, 3998, 1999, 2827, 11915, 1000, 4278, 2712, 18041, 2427, 2005, 1996, 2530, 15458, 1997, 2148, 3088, 1010, 1998, 18164, 2427, 2013, 1996, 3023, 1997, 6448, 10936, 20391, 1011, 17489, 1012, 2070, 1997, 2122, 2024, 24473, 2015, 1010, 2004, 1996, 2846, 8908, 2408, 2119, 20266, 1010, 1998, 1996, 2561, 2680, 2003, 2763, 2055, 3156, 2427, 1012, 2087, 1997, 2122, 2024, 3205, 1999, 2862, 1997, 2712, 18041, 2015, 1997, 2148, 3088, 1012, 2122, 23329, 6887, 22123, 7361, 5802, 25509, 2239, 1998, 19116, 9232, 11034, 12735, 1012, 5764, 2683, 3884, 2427, 2013, 2662, 1006, 2149, 1007, 4185, 2475, 1999, 1996, 4638, 1011, 2862, 1997, 3725, 1998, 3163, 5685, 2061, 2006, 1010, 2021, 11158, 2151, 4045, 3978, 2030, 10539, 4216, 1010, 2122, 3616, 2031, 2053, 2062, 21553, 2084, 1996, 2329, 3924, 3855, 2682, 1012, 2087, 10035, 2036, 18168, 4183, 26396, 18670, 1010, 2107, 2004, 6887, 22123, 7361, 5802, 25509, 2239, 1012, 1996, 2087, 3522, 10197, 6083, 5824, 1010, 3156, 2632, 9692, 2427, 4969, 1012, 1027, 1027, 4353, 1027, 1027, 1996, 4353, 1997, 2632, 9692, 2427, 2038, 2042, 7199, 2092, 3273, 2144, 1996, 4889, 1997, 6887, 22123, 23884, 9888, 1999, 1996, 3054, 1011, 3708, 2301, 1012, 18670, 3659, 3701, 2011, 1996, 27602, 1997, 23763, 19639, 2135, 2000, 1996, 27602, 1997, 3269, 6679, 2011, 8079, 1998, 23763, 1012, 2023, 27602, 2064, 2022, 8885, 2011, 2250, 1010, 2300, 1010, 2030, 2060, 11767, 1012, 2349, 2000, 2023, 1010, 23763, 2064, 2022, 2179, 1999, 1037, 3528, 1997, 10058, 1024, 4840, 1998, 3884, 5380, 1010, 2250, 1010, 5800, 1010, 1998, 1999, 2030, 2006, 2060, 11767, 1012, 3251, 1037, 11867, 5686, 2003, 2000, 4982, 2046, 2019, 15923, 9041, 2006, 1996, 5257, 1997, 1996, 2427, 1998, 1996, 4483, 3785, 2073, 1996, 11867, 5686, 4915, 1012, 1996, 23763, 1997, 12573, 18670, 2024, 15484, 3701, 2011, 2770, 2300, 1998, 3612, 1010, 2004, 2092, 2004, 2011, 2542, 11363, 1012, 2174, 1010, 2025, 2035, 4230, 1997, 2300, 2064, 4287, 2035, 2427, 1997, 18670, 1010, 2004, 1996, 5072, 5512, 1997, 3056, 2300, 4230, 6537, 1996, 18670, 2008, 2064, 5788, 2306, 2068, 1012, 3884, 23763, 2024, 2411, 3659, 2011, 4153, 14731, 1012, 4153, 2300, 7534, 2116, 24821, 2367, 10746, 2241, 2006, 4860, 1998, 26780, 11343, 1010, 4525, 1999, 6887, 22123, 23884, 13705, 10019, 1010, 4655, 1010, 1998, 6941, 1012, 2000, 2070, 3014, 1010, 1996, 4353, 1997, 18670, 2003, 3395, 2000, 13109, 21239, 4588, 12532, 16778, 11231, 6447, 3303, 2011, 10056, 2838, 1010, 2107, 2004, 12615, 1010, 2146, 12103, 1997, 4153, 2030, 2236, 2455, 11678, 1012, 2009, 2003, 1010, 3568, 1010, 2825, 2000, 6709, 2427, 10066, 2011, 10246, 1010, 2107, 2004, 1000, 3534, 18670, 1000, 2030, 1000, 2167, 2712, 18670, 1000, 1012, 2043, 2027, 5258, 2041, 1997, 2037, 19664, 1010, 1044, 22571, 14573, 2229, 6026, 1037, 3665, 7337, 2003, 2788, 2825, 1010, 2107, 2004, 1996, 6738, 2015, 1997, 3719, 1012, 2005, 2742, 1010, 17359, 3567, 2128, 4588, 18060, 1998, 1057, 1012, 6904, 27210, 2696, 7837, 2013, 1996, 8240, 2000, 7359, 1999, 2023, 5450, 1012, 12375, 2003, 2825, 2005, 7276, 2427, 2069, 1024, 1000, 2045, 2024, 2116, 9398, 4973, 1997, 12302, 4353, 7060, 1012, 1000, 2005, 2742, 1010, 18856, 8988, 21716, 2953, 8458, 2819, 2003, 2019, 10162, 3562, 1998, 2003, 2025, 17715, 2521, 2148, 1997, 2045, 1012, 2174, 1010, 6529, 7634, 1996, 3452, 2951, 2004, 13990, 2349, 2000, 1996, 1000, 8190, 1997, 18457, 2107, 2913, 1012, 1000, 1027, 1027, 13517, 1027, 1027, 18670, 2024, 4069, 1999, 4230, 1997, 2300, 1010, 2691, 1999, 12350, 10058, 1010, 1998, 2024, 2179, 1999, 5866, 10058, 1010, 2107, 2004, 2006, 4586, 1998, 3256, 1012, 2712, 18041, 2015, 4982, 3262, 1999, 8467, 3884, 5380, 1010, 2104, 2531, 1049, 1006, 14210, 3027, 1007, 2784, 1025, 2174, 1010, 2070, 2107, 2004, 6583, 7903, 7068, 9502, 6790, 2031, 2042, 2680, 2000, 1037, 5995, 1997, 9475, 1049, 1006, 1015, 1010, 8380, 3027, 1007, 1012, 1037, 2828, 1997, 18670, 1010, 2019, 5666, 27165, 2863, 13926, 6132, 3211, 8913, 6392, 6137, 1010, 2001, 2179, 1999, 16128, 1999, 2752, 2124, 2004, 1996, 1005, 2601, 4224, 1005, 1010, 2029, 3303, 2019, 3623, 1999, 1996, 3446, 1997, 13721, 3256, 7123, 1012, 2168, 18670, 2001, 2179, 1999, 1996, 3059, 13698, 1010, 2044, 5061, 3256, 2596, 2006, 3033, 1997, 1996, 3653, 5054, 2050, 10046, 1012, 1996, 2536, 11901, 1997, 18670, 2377, 3278, 4395, 1999, 13582, 13517, 1012, 26396, 3596, 2008, 2444, 6731, 1999, 1996, 2300, 5930, 1006, 6887, 22123, 7361, 5802, 25509, 2239, 1007, 3073, 1996, 2833, 2918, 2005, 2087, 3884, 2833, 8859, 1012, 1999, 2200, 2152, 7939, 24279, 1006, 2632, 9692, 29037, 1007, 1010, 2122, 18670, 2089, 12532, 10626, 1996, 2300, 1998, 2041, 9006, 22327, 2063, 1010, 9947, 1010, 2030, 2004, 21281, 14787, 2618, 2060, 2166, 3596, 1012, 18670, 2064, 2022, 2109, 2004, 17245, 11767, 2000, 8080, 10796, 1999, 2536, 13582, 3001, 1012, 1999, 2116, 3572, 1010, 2632, 9692, 18089, 2003, 7591, 2000, 2536, 8554, 13210, 7666, 1012, 2349, 2000, 2023, 1010, 1996, 2427, 5512, 1997, 2632, 9692, 7080, 2089, 5670, 1999, 1996, 3739, 1997, 5072, 8554, 13210, 7666, 1012, 2000, 11487, 2122, 3431, 1010, 18670, 2064, 2022, 18925, 2013, 1996, 4044, 1998, 5224, 1999, 12030, 2007, 5816, 7496, 1012, 2006, 1996, 3978, 1997, 2037, 6552, 1010, 18670, 2064, 2022, 20427, 2004, 1024, 13582, 1006, 24000, 25009, 1010, 6260, 16066, 1010, 3884, 1010, 12573, 1010, 15307, 2594, 1010, 2843, 2594, 1007, 1010, 12350, 1010, 9682, 1006, 4942, 27867, 4818, 1007, 1010, 5507, 18471, 10536, 4588, 1010, 17201, 21281, 4588, 1006, 2030, 7327, 2854, 8865, 3170, 1007, 1010, 8827, 3286, 8202, 1010, 1996, 10867, 7361, 19466, 2594, 1010, 5390, 7361, 19466, 2594, 1010, 4958, 12322, 3258, 2102, 1006, 4958, 11514, 10536, 4588, 1010, 4958, 10993, 19419, 1007, 1010, 2203, 2891, 24335, 26282, 3372, 1006, 2203, 7361, 10536, 4588, 1010, 2203, 18153, 19419, 1007, 1010, 26045, 1010, 10250, 6895, 8873, 10415, 2030, 5622, 8661, 2594, 1006, 6887, 2100, 3597, 26282, 3372, 1007, 1012, 1027, 1027, 3451, 8924, 1027, 1027, 1999, 4556, 2822, 1010, 1996, 2773, 100, 2003, 2109, 2119, 2005, 1000, 18670, 1000, 1998, 1006, 1999, 1996, 10754, 4535, 1997, 1996, 4461, 5784, 1007, 2005, 1000, 4706, 5848, 1000, 1012, 1996, 2353, 2479, 1999, 28919, 6562, 2697, 3875, 1996, 2621, 4186, 1999, 7211, 2003, 2124, 2004, 1996, 23564, 29147, 2937, 9745, 4830, 2080, 1010, 2029, 2947, 7453, 2965, 1000, 2479, 1997, 1996, 18670, 1011, 10523, 2534, 1000, 1998, 1000, 2479, 1997, 1996, 2534, 2005, 10842, 2006, 4706, 5848, 1000, 1012, 1027, 1027, 3594, 1027, 1027, 1027, 1027, 1027, 12943, 2906, 1027, 1027, 1027, 12943, 2906, 1010, 1037, 21500, 20363, 3560, 9415, 5173, 2013, 2417, 18670, 1010, 2038, 1037, 2193, 1997, 3293, 3594, 1012, 2009, 2003, 1037, 2204, 5396, 2006, 2029, 2000, 4982, 10327, 1998, 15289, 1010, 2004, 2087, 12702, 21759, 7088, 19230, 3685, 17886, 12943, 2906, 1012, 1027, 1027, 1027, 2632, 20876, 4570, 1027, 1027, 1027, 2632, 11528, 2594, 5648, 1010, 2030, 2632, 20876, 2618, 1010, 2003, 15901, 2013, 2829, 18670, 1012, 2049, 3594, 2846, 2013, 21500, 2989, 6074, 1999, 2833, 1010, 2000, 2966, 11225, 2015, 1012, 2632, 11528, 2594, 5648, 2036, 2038, 2042, 2109, 1999, 1996, 2492, 1997, 20353, 2004, 1037, 16012, 9006, 24952, 3468, 5396, 2005, 3526, 4372, 17695, 23722, 3370, 1998, 3526, 10047, 5302, 14454, 3989, 1012, 8382, 12846, 2003, 2036, 1037, 5310, 1997, 1996, 9415, 2005, 2049, 21500, 2989, 5144, 1010, 2011, 2029, 2009, 4150, 1037, 6959, 4316, 2005, 28126, 2015, 1012, 2090, 2531, 1010, 2199, 1998, 10894, 1010, 2199, 4954, 6197, 1997, 26632, 5666, 29472, 2024, 22629, 6604, 1999, 2047, 3290, 2005, 2632, 20876, 2618, 14676, 1998, 19557, 27165, 5438, 1012, 1027, 1027, 1027, 2943, 3120, 1027, 1027, 1027, 2000, 2022, 6975, 1998, 2981, 2013, 19857, 6593, 24133, 2490, 2013, 1006, 2334, 1007, 3343, 2006, 1996, 2146, 2448, 1010, 16012, 11263, 9050, 2323, 5020, 2030, 3786, 1996, 3465, 2504, 1997, 10725, 20145, 1012, 2182, 1010, 18670, 1011, 2241, 20145, 2907, 2307, 4872, 1010, 3495, 3141, 2000, 1996, 4022, 2000, 3965, 2062, 28148, 2566, 3131, 2181, 1999, 1037, 2095, 2084, 2151, 2060, 2433, 1997, 28148, 1012, 1996, 3338, 1011, 2130, 2391, 2005, 18670, 1011, 2241, 16012, 11263, 9050, 2003, 4358, 2000, 5258, 2011, 16798, 2629, 1012, 1027, 1027, 1027, 10768, 28228, 28863, 1027, 1027, 1027, 2005, 4693, 1010, 2712, 18041, 2038, 2042, 2109, 2004, 1037, 10768, 28228, 28863, 1025, 2577, 7291, 1997, 21863, 9215, 2015, 3015, 1999, 1996, 5767, 2301, 7727, 2000, 11852, 17901, 1999, 2148, 3575, 1024, 2023, 2785, 1997, 10848, 2027, 2411, 8587, 1998, 3913, 2006, 2307, 16721, 2229, 1010, 2073, 2009, 21770, 11031, 1998, 18672, 22513, 2232, 1010, 1998, 2097, 2031, 1037, 2844, 1998, 8840, 8988, 14045, 5437, 1025, 2043, 2108, 2061, 11083, 2027, 3459, 2006, 1996, 2455, 1010, 2004, 2027, 2079, 2037, 14163, 3600, 1010, 1998, 21739, 3500, 11031, 2204, 9781, 1010, 2926, 21569, 1012, 1012, 1012, 2044, 3500, 1011, 5939, 6155, 2030, 2307, 19838, 2015, 1997, 1996, 2712, 1010, 2027, 18584, 2009, 1999, 14918, 2006, 3586, 2067, 2229, 1010, 1998, 2482, 2666, 1996, 2168, 2093, 1010, 2176, 1010, 2030, 2274, 2661, 1010, 1998, 3459, 2009, 2006, 1996, 2455, 2063, 1010, 2029, 11089, 2232, 2200, 2172, 2488, 1996, 2598, 2005, 9781, 1998, 5568, 1012, 2651, 1010, 18670, 2024, 2109, 2011, 4286, 1999, 2116, 3971, 1025, 2005, 2742, 1010, 2004, 10768, 28228, 28863, 2015, 1010, 5800, 4650, 2545, 1010, 1998, 11468, 5438, 1012, 13582, 1998, 26396, 2427, 2024, 3226, 2094, 1999, 3154, 7286, 2030, 16879, 1998, 2024, 2593, 22629, 2030, 2109, 2000, 7438, 1041, 4246, 7630, 11187, 16486, 2083, 1996, 16879, 1012, 2632, 3654, 14561, 2006, 1037, 2312, 4094, 2003, 2019, 2590, 2828, 1997, 28319, 14561, 1999, 2070, 3182, 1012, 11530, 12190, 2003, 4141, 2109, 2004, 1037, 5800, 4650, 2121, 1012, 1027, 1027, 1027, 14266, 1027, 1027, 1027, 8100, 3652, 2712, 18041, 2015, 2024, 2019, 2590, 3120, 1997, 2833, 1010, 2926, 1999, 4021, 1012, 2027, 3073, 2116, 17663, 2015, 2164, 1024, 1037, 1010, 29491, 1010, 1038, 2475, 1010, 1038, 2575, 1010, 9152, 6305, 2378, 1010, 1998, 1039, 1010, 1998, 2024, 4138, 1999, 22834, 10672, 1010, 18044, 1010, 3707, 1010, 24983, 1010, 1998, 13853, 1012, 1999, 2804, 1010, 11088, 13237, 12702, 2389, 3654, 2063, 1010, 2164, 2119, 18670, 1998, 22330, 6761, 3676, 21162, 2401, 1010, 2024, 11625, 2004, 28268, 25654, 1010, 2107, 2004, 11867, 4313, 18639, 2050, 1010, 10381, 20186, 4571, 1998, 1996, 17663, 1011, 1039, 12448, 2013, 24654, 11475, 8411, 1010, 2152, 1999, 8247, 1011, 2482, 12184, 2638, 1012, 18670, 2024, 2120, 9440, 1997, 2116, 3741, 1024, 2859, 16678, 2015, 2062, 2084, 3963, 2427, 1010, 2164, 6638, 16480, 2100, 1010, 1037, 22330, 6761, 3676, 21162, 5007, 2641, 1037, 15415, 1025, 2900, 1010, 2058, 2322, 2427, 2107, 2004, 4496, 2072, 1998, 20118, 12131, 2072, 1025, 3163, 1010, 4241, 4877, 2063, 1025, 7029, 1010, 2522, 7507, 10513, 7677, 1012, 2474, 6299, 2003, 2109, 2000, 2191, 2474, 6299, 7852, 1999, 3575, 1010, 2073, 2009, 2003, 2124, 2004, 3347, 2050, 2375, 2099, 1025, 1999, 4420, 1010, 21025, 2213, 1012, 2009, 2003, 2036, 2109, 2247, 1996, 2225, 3023, 1997, 2167, 2637, 2013, 2662, 2000, 2329, 3996, 1010, 1999, 7359, 1998, 2011, 1996, 12600, 1997, 2047, 3414, 1012, 2712, 2292, 8525, 3401, 1998, 2919, 4063, 7878, 2015, 2024, 16521, 12760, 1999, 3885, 1010, 3163, 1010, 16128, 1010, 1998, 10399, 1012, 18670, 2003, 2108, 2641, 1037, 4022, 5576, 2005, 2088, 9012, 3291, 1012, 1996, 20631, 2013, 2070, 18670, 2031, 2152, 3798, 1997, 4895, 16846, 4648, 3064, 19101, 12737, 1012, 2005, 2742, 1010, 11968, 2666, 3406, 2818, 10626, 2483, 4297, 14268, 2003, 2200, 2152, 1999, 19027, 5428, 5280, 2594, 5648, 1010, 2073, 2009, 6561, 2039, 2000, 4700, 1003, 1997, 1996, 13012, 25643, 17119, 5178, 4770, 1012, 2070, 9903, 1997, 18670, 12287, 2011, 23566, 2964, 1998, 15942, 28113, 5383, 1996, 2146, 1011, 4677, 1010, 6827, 14827, 1011, 1017, 19101, 12737, 1010, 9986, 8820, 5369, 18684, 16515, 2594, 5648, 1006, 28144, 2050, 1007, 1998, 1041, 11261, 3736, 11837, 2696, 16515, 2594, 5648, 1006, 19044, 1007, 1012, 3869, 3514, 3397, 1996, 14827, 1011, 1017, 19101, 12737, 1010, 2021, 1996, 2434, 3120, 2003, 18670, 1006, 12702, 2389, 3654, 2063, 1999, 3327, 1007, 1010, 2029, 2024, 8828, 2011, 3884, 2166, 2107, 2004, 11997, 22925, 1998, 2024, 2979, 2039, 1996, 2833, 4677, 1012, 18670, 2031, 6003, 1999, 3522, 2086, 2004, 1037, 2759, 3120, 1997, 14827, 1011, 1017, 19101, 12737, 2005, 23566, 2015, 2040, 3685, 2131, 2146, 1011, 4677, 19044, 1998, 28144, 2050, 2013, 2060, 23566, 4216, 2107, 2004, 13109, 8528, 19763, 2094, 3514, 1010, 2029, 2069, 3397, 1996, 2460, 1011, 4677, 6541, 1011, 11409, 9890, 8713, 5648, 1006, 21862, 1007, 1012, 1027, 1027, 1027, 10796, 2491, 1027, 1027, 1027, 19873, 2064, 2022, 5845, 2007, 18670, 1010, 8161, 1996, 2224, 1997, 2312, 8310, 1997, 11704, 12141, 2008, 2052, 4728, 2022, 2734, 1012, 18670, 2064, 2022, 2109, 2000, 5425, 10768, 28228, 28863, 2015, 1999, 19550, 2013, 8623, 1012, 2043, 3525, 22629, 1010, 1996, 25202, 18670, 2064, 2022, 2109, 2004, 10768, 28228, 28863, 1012, 28319, 4360, 1998, 16879, 2064, 2022, 21839, 2478, 18670, 1010, 2029, 16888, 20435, 2013, 1996, 2300, 1999, 1037, 5080, 2170, 2019, 18670, 18157, 5677, 1010, 2036, 2124, 2004, 2019, 18670, 14585, 18157, 5677, 1012, 4910, 2470, 2326, 6529, 2179, 2008, 3438, 1516, 3938, 1003, 1997, 14114, 19550, 1998, 3963, 1516, 2531, 1003, 1997, 25473, 19550, 2064, 2022, 4110, 2013, 2158, 5397, 1041, 4246, 7630, 11187, 2478, 1037, 9876, 18670, 18157, 5677, 1010, 2036, 2170, 2019, 2632, 9692, 14585, 18157, 5677, 1006, 2012, 2015, 1007, 1012, 6529, 2764, 1996, 2012, 2015, 1010, 2029, 3774, 1997, 8467, 1010, 2531, 1011, 3329, 23018, 2015, 1997, 27201, 26909, 2073, 18670, 8355, 2064, 2433, 1010, 1998, 3273, 2049, 21150, 2005, 2093, 2086, 1012, 2027, 2179, 2008, 18670, 2064, 12192, 2022, 2109, 2000, 5547, 1996, 26780, 19550, 2013, 4910, 4249, 1998, 3623, 1996, 3737, 1997, 2300, 8577, 2046, 5485, 1010, 9199, 1010, 1998, 17401, 1012, 6950, 5067, 1998, 9550, 1996, 26780, 1011, 4138, 18670, 2013, 1996, 2012, 2015, 1998, 3273, 2049, 4022, 2004, 2019, 7554, 10768, 28228, 28863, 1012, 2027, 2179, 2008, 12731, 24894, 5677, 1998, 9781, 6534, 11227, 3473, 2074, 2004, 2092, 2478, 2012, 2015, 7554, 10768, 28228, 28863, 2004, 2027, 2106, 2007, 3293, 10768, 28228, 28863, 2015, 1012, 18670, 18157, 17198, 1010, 2478, 25054, 2039, 12314, 2030, 7471, 14297, 4617, 1010, 2024, 2085, 2036, 2108, 2109, 2000, 11307, 28319, 4360, 1998, 16879, 1012, 1027, 1027, 1027, 27216, 1027, 1027, 1027, 2536, 27216, 2064, 2022, 2580, 2013, 18670, 1010, 2029, 2064, 2022, 2926, 6179, 1999, 1996, 4325, 1997, 16012, 24759, 20875, 2015, 1012, 2122, 2421, 8893, 26166, 1010, 3526, 18845, 3366, 2241, 26166, 1010, 26572, 1011, 18749, 4588, 5648, 1010, 1998, 16012, 1011, 26572, 11031, 12844, 2638, 1012, 2195, 3316, 2031, 5625, 2000, 3965, 18670, 27216, 11088, 1010, 2164, 2005, 2224, 1999, 11238, 1011, 28583, 2015, 1998, 1999, 14175, 7923, 1012, 1027, 1027, 1027, 16012, 28578, 2098, 18963, 1027, 1027, 1027, 1996, 2632, 3654, 2358, 7033, 24163, 27631, 8670, 6895, 17305, 2483, 2038, 2042, 2464, 2000, 16844, 4697, 13773, 2063, 24604, 2015, 2109, 2012, 7611, 4573, 1025, 16012, 3207, 16307, 2075, 1996, 12553, 9415, 1012, 1027, 1027, 1027, 28815, 2015, 1027, 1027, 1027, 1996, 3019, 28815, 2015, 1006, 2482, 12184, 3630, 9821, 1998, 10381, 10626, 7361, 29598, 4877, 1007, 2550, 2011, 18670, 2064, 2022, 2109, 2004, 15955, 2000, 5072, 18554, 2015, 1998, 22276, 6074, 1012, 1996, 3739, 1997, 2070, 3265, 2632, 9692, 28815, 2015, 1010, 2362, 2007, 3563, 28815, 6693, 21879, 1010, 2024, 28521, 1011, 3563, 1024, 4106, 1997, 2037, 14061, 2007, 2536, 17826, 4725, 1010, 3391, 2152, 1011, 2836, 6381, 10381, 21716, 10610, 12565, 1010, 2064, 3568, 3749, 2784, 12369, 2046, 1996, 27691, 5512, 1998, 5816, 14531, 1997, 3019, 18670, 7080, 1999, 2712, 2300, 8168, 1012, 1027, 1027, 1027, 17079, 18622, 6774, 13978, 1027, 1027, 1027, 12385, 4270, 8189, 2078, 1010, 2013, 1996, 2417, 2632, 3654, 16480, 4859, 7946, 15594, 2271, 1010, 2003, 2109, 2004, 1037, 27790, 2099, 1999, 6501, 3688, 1012, 1027, 1027, 3176, 4871, 1027, 1027, 1027, 1027, 2156, 2036, 1027, 1027, 18670, 15058, 18670, 19362, 2278, 7327, 13181, 17926, 3370, 3707, 10768, 28228, 22731, 16266, 5302, 18670, 12702, 26282, 11263, 9050, 12702, 21281, 2618, 6302, 26282, 16416, 16761, 3269, 2000, 2595, 9314, 1516, 9617, 3406, 20303, 1027, 1027, 7604, 1027, 1027, 1027, 1027, 24751, 1027, 1027, 1027, 1027, 6327, 6971, 1027, 1027, 26458, 2854, 1010, 2745, 1025, 26458, 2854, 1010, 12815, 1012, 1000, 18670, 15058, 1000, 1012, 1516, 1037, 7809, 1997, 2035, 2632, 9692, 3415, 2164, 4871, 1010, 23718, 1010, 25274, 1010, 4353, 1010, 24751, 1010, 3594, 1010, 27059, 1000, 18670, 1516, 3526, 8857, 7809, 1000, 1012, 10507, 18939, 1012, 15384, 16150, 1012, 3968, 2226, 1012, 2624, 5277, 1024, 2118, 1997, 2662, 1012, 1000, 18670, 2470, 1000, 1012, 2120, 2688, 1997, 3019, 2381, 1010, 2533, 1997, 17018, 1012, 2263, 1012, 9749, 2013, 1996, 2434, 2006, 1015, 2285, 2263, 1012, 5140, 2539, 2285, 2263, 1012, 5143, 1010, 2123, 1025, 17710, 10354, 2121, 1010, 5503, 1025, 12555, 8718, 3367, 1010, 12120, 1025, 21146, 8953, 25441, 1010, 9734, 1025, 11830, 1010, 9477, 1025, 10346, 2080, 1010, 18490, 1025, 11133, 1010, 4205, 1006, 2289, 1007, 1012, 1000, 17631, 18670, 1000, 1012, 2149, 2120, 2436, 2005, 17631, 2632, 9692, 29037, 1012, 9749, 2013, 1996, 2434, 2006, 1019, 2285, 2263, 1012, 5140, 2539, 2285, 2263, 1012, 1000, 2827, 12573, 18670, 1006, 21358, 2050, 1007, 1000, 1012, 2533, 1997, 4044, 1013, 4785, 2689, 11524, 27761, 5822, 3404, 1012, 9749, 2013, 1996, 2434, 2006, 2382, 2285, 2263, 1012, 5140, 2539, 2285, 2263, 1012, 1000, 12573, 18670, 2470, 1000, 1012, 6887, 2100, 19824, 2930, 1010, 4754, 2415, 2005, 4483, 2470, 1012, 2249, 1012, 5140, 2459, 2285, 2249, 1012, 1000, 19860, 3016, 10088, 1000, 1012, 19860, 3016, 18257, 2470, 2820, 1006, 15038, 3089, 1007, 1012, 2727, 1516, 2263, 1012, 9749, 2013, 1996, 2434, 2006, 2423, 2254, 2268, 1012, 5140, 2322, 2285, 2263, 1012, 11183, 1010, 2703, 1006, 2722, 1516, 2432, 1007, 1012, 1000, 5950, 2053, 10020, 2819, 2632, 6843, 2819, 1006, 27118, 1007, 1000, 1012, 8256, 1024, 2118, 12810, 17285, 1010, 2118, 1997, 2662, 1012, 9749, 2013, 1996, 2434, 2006, 2603, 2285, 2263, 1012, 5140, 2539, 2285, 2263, 1012, 1000, 18670, 1024, 4013, 16774, 2015, 2007, 10381, 10626, 7361, 8523, 3215, 1000, 1012, 2000, 2140, 8545, 2497, 1012, 8917, 1012, 1000, 2470, 2006, 12702, 2389, 3654, 2063, 1000, 1012, 18670, 1012, 8814, 2099, 1012, 17953, 1012, 11897, 5582, 2368, 24471, 1012, 2268, 1012, 9749, 2013, 1996, 2434, 2006, 2484, 2258, 2268, 1012, 5140, 2324, 2089, 2268, 1012, 1000, 18670, 27068, 5649, 1000, 1012, 2827, 6897, 4219, 2817, 1012, 9749, 2013, 1996, 2434, 2006, 1015, 2281, 2262, 1516, 3081, 4044, 1012, 18079, 1012, 8740, 1012, 1000, 2055, 18670, 1000, 1012, 13221, 2232, 1012, 9353, 1012, 2866, 1012, 3019, 2381, 2688, 1010, 2142, 2983, 1012, 4372, 2389, 3654, 2063]\n"
          ],
          "name": "stdout"
        }
      ]
    },
    {
      "cell_type": "code",
      "metadata": {
        "id": "b9mSOV7GhvdA"
      },
      "source": [
        "max_len = 0\n",
        "\n",
        "for d in docs:\n",
        "\n",
        "    # Tokenize text and add `[CLS]` and `[SEP]` tokens\n",
        "    input_ids = tokenizer.encode(d, add_special_tokens=True)\n",
        "\n",
        "    # Update max length\n",
        "    max_len = max(max_len, len(input_ids))\n",
        "\n",
        "print('Max sentence length: ', max_len)"
      ],
      "execution_count": null,
      "outputs": []
    },
    {
      "cell_type": "code",
      "metadata": {
        "id": "pgtsq-3s0jyF",
        "outputId": "2507bab8-f897-4d8b-def0-bdea74e66306",
        "colab": {
          "base_uri": "https://localhost:8080/",
          "height": 285
        }
      },
      "source": [
        "# Finishing tokenizing all docs and map tokens to thier word IDs\n",
        "input_ids = []\n",
        "attention_masks = []\n",
        "\n",
        "for d in docs:\n",
        "\n",
        "    encoded_dict = tokenizer.encode_plus(\n",
        "                        d,                      # Docs to encode.\n",
        "                        truncation=True,\n",
        "                        add_special_tokens = True, # Add '[CLS]' and '[SEP]'\n",
        "                        max_length = 256,           # Pad & truncate all docs\n",
        "                        pad_to_max_length = True,\n",
        "                        return_attention_mask = True,   # Attention masks\n",
        "                        return_tensors = 'pt',     # Return pytorch tensors.\n",
        "                   )\n",
        "    \n",
        "    input_ids.append(encoded_dict['input_ids'])\n",
        "    \n",
        "    attention_masks.append(encoded_dict['attention_mask'])\n",
        "\n",
        "# Convert the lists into tensors.\n",
        "input_ids = torch.cat(input_ids, dim=0)\n",
        "attention_masks = torch.cat(attention_masks, dim=0)\n",
        "\n",
        "\n",
        "labels = torch.tensor(labels)\n",
        "\n",
        "# Print sentence 0, now as a list of IDs.\n",
        "print('Original: ', docs[0])\n",
        "print('Token IDs:', input_ids[0])\n",
        "print('Reverse:', tokenizer.convert_ids_to_tokens(input_ids[0]))"
      ],
      "execution_count": 26,
      "outputs": [
        {
          "output_type": "stream",
          "text": [
            "/usr/local/lib/python3.6/dist-packages/transformers/tokenization_utils_base.py:1773: FutureWarning: The `pad_to_max_length` argument is deprecated and will be removed in a future version, use `padding=True` or `padding='longest'` to pad to the longest sequence in the batch, or use `padding='max_length'` to pad to a max length. In this case, you can give a specific length with `max_length` (e.g. `max_length=45`) or leave max_length to None to pad to the maximal input size of the model (e.g. 512 for Bert).\n",
            "  FutureWarning,\n"
          ],
          "name": "stderr"
        },
        {
          "output_type": "error",
          "ename": "ValueError",
          "evalue": "ignored",
          "traceback": [
            "\u001b[0;31m---------------------------------------------------------------------------\u001b[0m",
            "\u001b[0;31mValueError\u001b[0m                                Traceback (most recent call last)",
            "\u001b[0;32m<ipython-input-26-2b35847e5fae>\u001b[0m in \u001b[0;36m<module>\u001b[0;34m()\u001b[0m\n\u001b[1;32m     24\u001b[0m \u001b[0;34m\u001b[0m\u001b[0m\n\u001b[1;32m     25\u001b[0m \u001b[0;34m\u001b[0m\u001b[0m\n\u001b[0;32m---> 26\u001b[0;31m \u001b[0mlabels\u001b[0m \u001b[0;34m=\u001b[0m \u001b[0mtorch\u001b[0m\u001b[0;34m.\u001b[0m\u001b[0mtensor\u001b[0m\u001b[0;34m(\u001b[0m\u001b[0mlabels\u001b[0m\u001b[0;34m)\u001b[0m\u001b[0;34m\u001b[0m\u001b[0;34m\u001b[0m\u001b[0m\n\u001b[0m\u001b[1;32m     27\u001b[0m \u001b[0;34m\u001b[0m\u001b[0m\n\u001b[1;32m     28\u001b[0m \u001b[0;31m# Print sentence 0, now as a list of IDs.\u001b[0m\u001b[0;34m\u001b[0m\u001b[0;34m\u001b[0m\u001b[0;34m\u001b[0m\u001b[0m\n",
            "\u001b[0;31mValueError\u001b[0m: too many dimensions 'str'"
          ]
        }
      ]
    },
    {
      "cell_type": "code",
      "metadata": {
        "id": "gVofTi9U01pb"
      },
      "source": [
        "# Split up training & testing/validation\n",
        "\n",
        "from torch.utils.data import TensorDataset, random_split\n",
        "\n",
        "dataset = TensorDataset(input_ids, attention_masks, labels)\n",
        "\n",
        "# 90:10 split\n",
        "\n",
        "# Number of samples to include per set\n",
        "train_size = int(0.9 * len(dataset))\n",
        "val_size = len(dataset) - train_size\n",
        "\n",
        "#"
      ],
      "execution_count": null,
      "outputs": []
    },
    {
      "cell_type": "code",
      "metadata": {
        "id": "ceVT2Jmoph4x"
      },
      "source": [
        "## Ignore this cell for now\n",
        "# Trying out example BERT\n",
        "\n",
        "# Single training/test example for simple sequence classification\n",
        "class InputExample(object):\n",
        "\n",
        "    def __init__(self, guid, text_a, text_b=None, label=None):\n",
        "        \"\"\"Constructs a InputExample.\n",
        "\n",
        "        Args:\n",
        "            guid: Unique id for the example.\n",
        "            text_a: string. The untokenized text of the first sequence. For single\n",
        "            sequence tasks, only this sequence must be specified.\n",
        "            text_b: (Optional) string. The untokenized text of the second sequence.\n",
        "            Only must be specified for sequence pair tasks.\n",
        "            label: (Optional) string. The label of the example. This should be\n",
        "            specified for train and dev examples, but not for test examples.\n",
        "        \"\"\"\n",
        "        self.guid = guid\n",
        "        self.text_a = text_a\n",
        "        self.text_b = text_b\n",
        "        self.label = label\n",
        "\n",
        "\n",
        "class InputFeatures(object):\n",
        "    \"\"\"Single set of features of data.\"\"\"\n",
        "\n",
        "    def __init__(self, input_ids, input_mask, segment_ids, label_id):\n",
        "        self.input_ids = input_ids\n",
        "        self.input_mask = input_mask\n",
        "        self.segment_ids = segment_ids\n",
        "        self.label_id = label_id"
      ],
      "execution_count": null,
      "outputs": []
    },
    {
      "cell_type": "code",
      "metadata": {
        "id": "2Gp0ZzW6Taop"
      },
      "source": [
        ""
      ],
      "execution_count": null,
      "outputs": []
    },
    {
      "cell_type": "code",
      "metadata": {
        "id": "qr0ajbVbFL7y"
      },
      "source": [
        ""
      ],
      "execution_count": null,
      "outputs": []
    }
  ]
}