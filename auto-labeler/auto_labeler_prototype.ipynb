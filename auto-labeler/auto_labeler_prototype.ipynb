{
  "nbformat": 4,
  "nbformat_minor": 0,
  "metadata": {
    "colab": {
      "name": "auto-labeler-prototype.ipynb",
      "provenance": [],
      "include_colab_link": true
    },
    "kernelspec": {
      "name": "python3",
      "display_name": "Python 3"
    },
    "accelerator": "GPU"
  },
  "cells": [
    {
      "cell_type": "markdown",
      "metadata": {
        "id": "view-in-github",
        "colab_type": "text"
      },
      "source": [
        "<a href=\"https://colab.research.google.com/github/nasa/PeTaL/blob/text-classification-JQ/auto-labeler/auto_labeler_prototype.ipynb\" target=\"_parent\"><img src=\"https://colab.research.google.com/assets/colab-badge.svg\" alt=\"Open In Colab\"/></a>"
      ]
    },
    {
      "cell_type": "code",
      "metadata": {
        "id": "ft-7aQbboP7f"
      },
      "source": [
        "!pip install transformers\n",
        "!pip install tensorboardX\n",
        "!pip install wikipedia\n",
        "!pip install swifter"
      ],
      "execution_count": null,
      "outputs": []
    },
    {
      "cell_type": "code",
      "metadata": {
        "id": "tpdAH3eLn9KA"
      },
      "source": [
        "import torch\n",
        "import tensorflow as tf\n",
        "import pandas as pd"
      ],
      "execution_count": 3,
      "outputs": []
    },
    {
      "cell_type": "code",
      "metadata": {
        "id": "A9vxghfPocM5",
        "outputId": "37d1c801-5d9c-4d8b-ae9d-43a4b2af8494",
        "colab": {
          "base_uri": "https://localhost:8080/",
          "height": 34
        }
      },
      "source": [
        "# GPU detection \n",
        "\n",
        "# Get GPU device name\n",
        "device_name = tf.test.gpu_device_name()\n",
        "\n",
        "if device_name == '/device:GPU:0':\n",
        "    print('Found GPU at: {}'.format(device_name))\n",
        "else:\n",
        "    raise SystemError('GPU device not found')"
      ],
      "execution_count": 4,
      "outputs": [
        {
          "output_type": "stream",
          "text": [
            "Found GPU at: /device:GPU:0\n"
          ],
          "name": "stdout"
        }
      ]
    },
    {
      "cell_type": "code",
      "metadata": {
        "id": "nGAOqbInomgX",
        "outputId": "a1467b36-5058-4be8-bbc8-af522f7b1aae",
        "colab": {
          "base_uri": "https://localhost:8080/",
          "height": 51
        }
      },
      "source": [
        "# If there is a GPU available\n",
        "if torch.cuda.is_available():    \n",
        "\n",
        "    # Tell PyTorch to use GPU\n",
        "    device = torch.device(\"cuda\")\n",
        "\n",
        "    print('There are %d GPU(s) available.' % torch.cuda.device_count())\n",
        "\n",
        "    print('We will use the GPU:', torch.cuda.get_device_name(0))\n",
        "\n",
        "# If not\n",
        "else:\n",
        "    print('No GPU available, using the CPU instead.')\n",
        "    device = torch.device(\"cpu\")"
      ],
      "execution_count": 5,
      "outputs": [
        {
          "output_type": "stream",
          "text": [
            "There are 1 GPU(s) available.\n",
            "We will use the GPU: Tesla T4\n"
          ],
          "name": "stdout"
        }
      ]
    },
    {
      "cell_type": "code",
      "metadata": {
        "id": "A3kzChKspSad"
      },
      "source": [
        "# Import data (into Pandas dataframe?) and parse\n",
        "import wikipedia \n",
        "\n",
        "# Split into `docs` and `labels`"
      ],
      "execution_count": 8,
      "outputs": []
    },
    {
      "cell_type": "code",
      "metadata": {
        "id": "wz8CT3qvovyy"
      },
      "source": [
        "!pip install -U -q PyDrive \n",
        "  \n",
        "from pydrive.auth import GoogleAuth \n",
        "from pydrive.drive import GoogleDrive \n",
        "from google.colab import auth \n",
        "from oauth2client.client import GoogleCredentials \n",
        "  \n",
        "  \n",
        "# Authenticate and create the PyDrive client. \n",
        "auth.authenticate_user() \n",
        "gauth = GoogleAuth() \n",
        "gauth.credentials = GoogleCredentials.get_application_default() \n",
        "drive = GoogleDrive(gauth)"
      ],
      "execution_count": 9,
      "outputs": []
    },
    {
      "cell_type": "code",
      "metadata": {
        "id": "z5MO_gJnov1A"
      },
      "source": [
        "link = 'https://drive.google.com/file/d/1iIZgKs1swHHJuumCU5xyW8tXSAnKAg18/view?usp=sharing'\n",
        "id = link.split(\"/\")[-2] \n",
        "  \n",
        "downloaded = drive.CreateFile({'id':id})  \n",
        "downloaded.GetContentFile('articles.csv')   \n",
        "  \n",
        "df = pd.read_csv('articles.csv')"
      ],
      "execution_count": 17,
      "outputs": []
    },
    {
      "cell_type": "code",
      "metadata": {
        "id": "yveU_TvB7ZkD",
        "outputId": "b7edbc8b-11b8-487f-c55f-e855231678ac",
        "colab": {
          "base_uri": "https://localhost:8080/",
          "height": 34
        }
      },
      "source": [
        "'https://petscan.wmflabs.org/'"
      ],
      "execution_count": 18,
      "outputs": [
        {
          "output_type": "execute_result",
          "data": {
            "text/plain": [
              "4594"
            ]
          },
          "metadata": {
            "tags": []
          },
          "execution_count": 18
        }
      ]
    },
    {
      "cell_type": "code",
      "metadata": {
        "id": "kCTYZEDsov41"
      },
      "source": [
        "import swifter\n",
        "\n",
        "def wiki_content(row):\n",
        "  id = row['pageid']\n",
        "  try:\n",
        "    content = wikipedia.page(pageid=id).content\n",
        "  except:\n",
        "    content = 'error'\n",
        "    print(id)\n",
        "  return content\n",
        "\n",
        "df['Content'] = df.swifter.apply(wiki_content, axis=1)\n"
      ],
      "execution_count": null,
      "outputs": []
    },
    {
      "cell_type": "code",
      "metadata": {
        "id": "ryadSHM_GdAO"
      },
      "source": [
        "def wiki_summary(row):\n",
        "  id = row['pageid']\n",
        "  try:\n",
        "    summary = wikipedia.page(pageid=id).summary\n",
        "  except:\n",
        "    summary = 'error'\n",
        "  return summary\n",
        "\n",
        "df['Summary'] = df.swifter.apply(wiki_summary, axis=1)"
      ],
      "execution_count": null,
      "outputs": []
    },
    {
      "cell_type": "code",
      "metadata": {
        "id": "LnZWpxgW07DY",
        "outputId": "dfadbcc6-af7f-4661-9651-3a016b38775c",
        "colab": {
          "base_uri": "https://localhost:8080/",
          "height": 241
        }
      },
      "source": [
        "df['Content'].value_counts()"
      ],
      "execution_count": 23,
      "outputs": [
        {
          "output_type": "execute_result",
          "data": {
            "text/plain": [
              "error                                                                                                                                                                                                                                                                                                                                                                                                                                                                                                                                                                                                                                                                                                                                                                                                                                                                                                                                                                                                                                                                                                                                                                                                                                                                                                                                                                                                                                                                                                                                                                                                                                                                                                                                                                                                                                                                                                                                                                                                                                                                                                                                                                                                                                                                                                                                                                                                                                                                                                                                                                                                                                                                                                                                                                                                                                                                                                                                                                                                                                                                                                                                                                                                                                                                                                                                                                                                                                                                                                                                                                                                                                                                                                                                                                                                                                                                                                                                                                                                                                                                                                                                                                                                                                                                                                                                                                                                                                                                                                                                                                                                                                                                                                                                                                                                                                                                                                                                                                                                                                                                          344\n",
              "                                                                                                                                                                                                                                                                                                                                                                                                                                                                                                                                                                                                                                                                                                                                                                                                                                                                                                                                                                                                                                                                                                                                                                                                                                                                                                                                                                                                                                                                                                                                                                                                                                                                                                                                                                                                                                                                                                                                                                                                                                                                                                                                                                                                                                                                                                                                                                                                                                                                                                                                                                                                                                                                                                                                                                                                                                                                                                                                                                                                                                                                                                                                                                                                                                                                                                                                                                                                                                                                                                                                                                                                                                                                                                                                                                                                                                                                                                                                                                                                                                                                                                                                                                                                                                                                                                                                                                                                                                                                                                                                                                                                                                                                                                                                                                                                                                                                                                                                                                                                                                                                                 2\n",
              "Circoviridae is a family of viruses. Birds and  mammals serve as natural hosts. There are currently 94 species in this family, divided among 2 genera. Diseases associated with this family include: PCV-2: postweaning multisystemic wasting syndrome; CAV: chicken infectious anemia.\\n\\n\\n== Structure ==\\nViruses in the family Circoviridae are non-enveloped, with icosahedral and round geometries, and T=1 symmetry. The diameter is around 20 nm. Genomes are circular and non-segmented, around 3.8kb in length. The capsid consists of 12 pentagonal trumpet shaped pentamers. There are two main open reading frames arranged in opposite directions that encode the replication (Rep) and capsid (Cap) proteins. Alternative start codons are common in the avian species.\\n\\n\\n== Life cycle ==\\nViral replication is nuclear. Entry into the host cell is achieved by penetration into the host cell. Replication follows the ssDNA rolling circle model. DNA templated transcription, with some alternative splicing mechanism is the method of transcription. The virus exits the host cell by nuclear egress, and  nuclear pore export. A stem loop structure with a conserved nonanucleotide motif is located at the 5' intergenic region of circovirus genomes and is thought to initiate rolling-cycle replication.\\nBirds and  mammals serve as the natural host. Transmission routes are fecal-oral.\\n\\n\\n== Taxonomy ==\\nThe family Circoviridae contains two genera—Circovirus and Cyclovirus.\\n\\nGenus Circovirus: type species: Porcine circovirus 1\\nGenus Cyclovirus : type species Human associated cyclovirus 8\\n\\n\\n== Clinical ==\\nA cyclovirus—cyclovirus-Vietnam—has been isolated from the cerebrospinal fluid of 25 Vietnamese patients with CNS infections of unknown aetiology. The same virus has been isolated from the faeces of healthy children and also from pigs and chickens. This suggests an orofaecal route of transmission with a possible animal reservoir.\\n\\n\\n== See also ==\\nAnimal viruses\\n\\n\\n== References ==\\n\\n\\n== External links ==\\nICTV Online Report; Circoviridae\\nICTVdB Entry for Circoviridae\\nViralzone: Circoviridae                                                                                                                                                                                                                                                                                                                                                                                                                                                                                                                                                                                                                                                                                                                                                                                                                                                                                                                                                                                                                                                                                                                                                                                                                                                                                                                                                                                                                                                                                                                                                                                                                                                                                                                                                                                                                                                                                                                                                                                                                                                                                                                                                                                                                                                                                                                                                                                                                                                                                                                                                                                                                                                                                                                                                                                                                                                                                    1\n",
              "Entomobirnavirus is a genus of viruses, in the family Birnaviridae. The fly Drosophila melanogaster is the natural host. There are currently only two species in this genus, including the type species Drosophila X virus.\\n\\n\\n== Taxonomy ==\\nGroup: dsRNA\\n\\n\\n== Structure ==\\nViruses in the genus Entomobirnavirus are non-enveloped, with icosahedral and  Single-shelled geometries, and T=13 symmetry. The diameter is around 70 nm. Genomes are linear and segmented, around 15.3.2-3.5kb in length. The genome codes for 5 proteins.\\n\\n\\n== Life cycle ==\\nViral replication is cytoplasmic. Entry into the host cell is achieved by penetration into the host cell. Replication follows the double-stranded RNA virus replication model. Double-stranded rna virus transcription is the method of transcription. Drosophila melanogaster serve as the natural host.\\n\\n\\n== References ==\\n\\n\\n== External links ==\\nICTV Report: Birnaviridae\\nViralzone: Entomobirnavirus                                                                                                                                                                                                                                                                                                                                                                                                                                                                                                                                                                                                                                                                                                                                                                                                                                                                                                                                                                                                                                                                                                                                                                                                                                                                                                                                                                                                                                                                                                                                                                                                                                                                                                                                                                                                                                                                                                                                                                                                                                                                                                                                                                                                                                                                                                                                                                                                                                                                                                                                                                                                                                                                                                                                                                                                                                                                                                                                                                                                                                                                                                                                                                                                                                                                                                                                                                                                                                                                                                                                                                                                                                                                                                                                                                                                                                                                                                                                                                                                                                                                                        1\n",
              "Mardivirus is a genus of viruses in the order Herpesvirales, in the family Herpesviridae, in the subfamily Alphaherpesvirinae. Chickens, turkeys, and quail serve as natural hosts. There are currently five species in this genus including the type species Gallid herpesvirus 2. Diseases associated with this genus include: Marek's disease, which causes asymmetric paralysis of one or more limbs, neurological symptoms, and development of multiple lymphomas that manifest as solid tumors. Gallid herpesvirus 2 (also known as Marek's disease virus) is the only one of these viruses known to be pathogenic and due to the antigenic similarity between the three viruses the other two have been used to vaccinate against Marek's disease. These viruses have double stranded DNA genomes with no RNA intermediate.\\n\\n\\n== Species ==\\nThe genus consists of the following six species:\\n\\nAnatid alphaherpesvirus 1\\nColumbid alphaherpesvirus 1\\nGallid alphaherpesvirus 2\\nGallid alphaherpesvirus 3\\nMeleagrid alphaherpesvirus 1\\nSpheniscid alphaherpesvirus 1\\n\\n\\n== Structure ==\\nViruses in Mardivirus are enveloped, with icosahedral, spherical to pleomorphic, and round geometries, and T=16 symmetry. The diameter is around 120-200 nm. Genomes are linear and non-segmented, around 175kb in length.\\n\\n\\n== Life cycle ==\\nViral replication is nuclear, and is lysogenic. Entry into the host cell is achieved by attachment of the viral gB, gC, gD and gH proteins to host receptors, which mediates endocytosis. Replication follows the dsDNA bidirectional replication model. DNA-templated transcription, with some alternative splicing mechanism is the method of transcription. The virus exits the host cell by nuclear egress, and budding.\\nChickens, turkeys, and quail serve as the natural host.\\n\\n\\n== Replication ==\\nThe stages of replication are similar to other viruses in Alphaherpesvirinae, but there are a few differences. After the virus has entered the cell the nucleocapsids make their way to a nuclear pore where the virus genome is released and translocates into the nucleus. The virus genome replicates and is packaged up within the nucleus, this new nucleocapsid then buds from the inner nuclear membrane and so gains its primary envelope. The nucleocapsid is now in the perinuclear space in the endoplasmic reticulum, from here the nucleocapsid buds from the outer nuclear membrane and by an unknown mechanism loses its primary envelope leaving the nucleocapsid naked in the cytoplasm. The nucleocapsids finally gain their secondary envelopes by budding into cytoplasmic vesicles within the cell.\\n\\n\\n== References ==\\n\\n\\n== External links ==\\nViralzone: Mardivirus\\nICTV\\nVirus Pathogen Database and Analysis Resource (ViPR): Herpesviridae                                                                                                                                                                                                                                                                                                                                                                                                                                                                                                                                                                                                                                                                                                                                                                                                                                                                                                                                                                                                                                                                                                                                                                                                                                                                                                                                                                                                                                                                                                                                                                                                                                                                                                                                                                                                                                                                                                                                                                                                                                                                                                                                                                                                                            1\n",
              "                                                                                                                                                                                                                                                                                                                                                                                                                                                                                                                                                                                                                                                                                                                                                                                                                                                                                                                                                                                                                                                                                                                                                                                                                                                                                                                                                                                                                                                                                                                                                                                                                                                                                                                                                                                                                                                                                                                                                                                                                                                                                                                                                                                                                                                                                                                                                                                                                                                                                                                                                                                                                                                                                                                                                                                                                                                                                                                                                                                                                                                                                                                                                                                                                                                                                                                                                                                                                                                                                                                                                                                                                                                                                                                                                                                                                                                                                                                                                                                                                                                                                                                                                                                                                                                                                                                                                                                                                                                                                                                                                                                                                                                                                                                                                                                                                                                                                                                                                                                                                                                                              ... \n",
              "The Alfalfa mosaic virus RNA 1 5′ UTR stem-loop represents a putative stem-loop structure found in the 5′ UTR in RNA 1 of alfalfa mosaic virus. RNA 1 is responsible for encoding the viral replicase protein P1. This family is required for negative strand RNA synthesis in the alfalfa mosaic virus and may also be involved in positive strand RNA synthesis.\\n\\n\\n== See also ==\\nAlfalfa mosaic virus coat protein binding (CPB) RNA\\n\\n\\n== References ==\\n\\n\\n== External links ==\\n\\nPage for Alfalfa mosaic virus RNA 1 5′ UTR stem-loop at Rfam                                                                                                                                                                                                                                                                                                                                                                                                                                                                                                                                                                                                                                                                                                                                                                                                                                                                                                                                                                                                                                                                                                                                                                                                                                                                                                                                                                                                                                                                                                                                                                                                                                                                                                                                                                                                                                                                                                                                                                                                                                                                                                                                                                                                                                                                                                                                                                                                                                                                                                                                                                                                                                                                                                                                                                                                                                                                                                                                                                                                                                                                                                                                                                                                                                                                                                                                                                                                                                                                                                                                                                                                                                                                                                                                                                                                                                                                                                                                                                                                                                                                                                                                                                                                                                                                                                                                                                                                                                                                                                                      1\n",
              "A cotyledon (; \"seed leaf\" from Latin cotyledon, from Greek: κοτυληδών kotylēdōn, gen.: κοτυληδόνος kotylēdonos, from κοτύλη kotýlē \"cup, bowl\") is a significant part of the embryo within the seed of a plant, and is defined as \"the embryonic leaf in seed-bearing plants, one or more of which are the first to appear from a germinating seed.\" The number of cotyledons present is one characteristic used by botanists to classify the flowering plants (angiosperms). Species with one cotyledon are called monocotyledonous (\"monocots\"). Plants with two embryonic leaves are termed dicotyledonous (\"dicots\").\\nIn the case of dicot seedlings whose cotyledons are photosynthetic, the cotyledons are functionally similar to leaves. However, true leaves and cotyledons are developmentally distinct. Cotyledons are formed during embryogenesis, along with the root and shoot meristems, and are therefore present in the seed prior to germination. True leaves, however, are formed post-embryonically (i.e. after germination) from the shoot apical meristem, which is responsible for generating subsequent aerial portions of the plant.\\nThe cotyledon of grasses and many other monocotyledons is a highly modified leaf composed of a scutellum and a coleoptile. The scutellum is a tissue within the seed that is specialized to absorb stored food from the adjacent endosperm. The coleoptile is a protective cap that covers the plumule (precursor to the stem and leaves of the plant).\\nGymnosperm seedlings also have cotyledons, and these are often variable in number (multicotyledonous), with from 2 to 24 cotyledons forming a whorl at the top of the hypocotyl (the embryonic stem) surrounding the plumule. Within each species, there is often still some variation in cotyledon numbers, e.g. Monterey pine (Pinus radiata) seedlings have 5–9, and Jeffrey pine (Pinus jeffreyi) 7–13 (Mirov 1967), but other species are more fixed, with e.g. Mediterranean cypress always having just two cotyledons. The highest number reported is for big-cone pinyon (Pinus maximartinezii), with 24 (Farjon & Styles 1997).\\nThe cotyledons may be ephemeral, lasting only days after emergence, or persistent, enduring at least a year on the plant. The cotyledons contain (or in the case of gymnosperms and monocotyledons, have access to) the stored food reserves of the seed. As these reserves are used up, the cotyledons may turn green and begin photosynthesis, or may wither as the first true leaves take over food production for the seedling.\\n\\n\\n== Epigeal versus hypogeal development ==\\n\\nCotyledons may be either epigeal, expanding on the germination of the seed, throwing off the seed shell, rising above the ground, and perhaps becoming photosynthetic; or hypogeal, not expanding, remaining below ground and not becoming photosynthetic. The latter is typically the case where the cotyledons act as a storage organ, as in many nuts and acorns.\\nHypogeal plants have (on average) significantly larger seeds than epigeal ones. They are also capable of surviving if the seedling is clipped off, as meristem buds remain underground (with epigeal plants, the meristem is clipped off if the seedling is grazed). The tradeoff is whether the plant should produce a large number of small seeds, or a smaller number of seeds which are more likely to survive.The ultimate development of the epigeal habit is represented by a few plants, mostly in the family Gesneriaceae in which the cotyledon persists for a lifetime.  Such a plant is Streptocarpus wendlandii of South Africa in which one cotyledon grows to be up to 75 centimeters (2.5 feet) in length and up to 61 cm (two feet) in width (the largest cotyledon of any dicot, and exceeded only by Lodoicea). Adventitious flower clusters form along the midrib of the cotyledon. The second cotyledon is much smaller and ephemeral.\\nRelated plants may show a mixture of hypogeal and epigeal development, even within the same plant family. Groups which contain both hypogeal and epigeal species include, for example, the Southern Hemisphere conifer family Araucariaceae, the pea family, Fabaceae, and the genus Lilium (see Lily seed germination types).  The frequently garden grown common bean, Phaseolus vulgaris, is epigeal, while the closely related runner bean, Phaseolus coccineus, is hypogeal.\\n\\n\\n== History ==\\nThe term cotyledon was coined by Marcello Malpighi (1628–1694). John Ray was the first botanist to recognize that some plants have two and others only one, and eventually the first to recognize the immense importance of this fact to systematics, in Methodus plantarum (1682).Theophrastus (3rd or 4th century BC) and Albertus Magnus (13th century) may also have recognized the distinction between the dicotyledons and monocotyledons.\\n\\n\\n== Notes ==\\n\\n\\n== References ==\\n\\n\\n== Bibliography ==\\n\\n\\n== External links ==\\nTiscali.reference - Cotyledon      1\n",
              "The anteroventral periventricular nucleus (AVPV) is a small cluster of cells located in the preoptic area of hypothalamus of the brain that is abundant in nuclear hormone receptors in a sexually dimorphic manner, strongly implicated, in rat models, as being neonatally imprinted and subsequently controlling sex-typical physiology and behaviors. This nucleus or cluster of cells is typically of bigger size in females than males, contrary to the sexually dimorphic nucleus (SDN) that is bigger in males.In rats and mice, the AVPV plus the periventricular nucleus make up the rostral periventricular region of the third ventricle (RP3V). This area is full of kisspeptin-expressing neurons and is involved in regulating GnRH neurons, and is responsible for the LH surge in female mice.\\n\\n\\n== References ==                                                                                                                                                                                                                                                                                                                                                                                                                                                                                                                                                                                                                                                                                                                                                                                                                                                                                                                                                                                                                                                                                                                                                                                                                                                                                                                                                                                                                                                                                                                                                                                                                                                                                                                                                                                                                                                                                                                                                                                                                                                                                                                                                                                                                                                                                                                                                                                                                                                                                                                                                                                                                                                                                                                                                                                                                                                                                                                                                                                                                                                                                                                                                                                                                                                                                                                                                                                                                                                                                                                                                                                                                                                                                                                                                                                                                                                                                                                                                                                                                                                                                                                                                                                                                                            1\n",
              "Nonstructural protein 3 (NS3), also known as p-70, is a viral nonstructural protein that is 70 kDa cleavage product of the hepatitis C virus polyprotein. It acts as a serine protease. C-terminal two thirds of the protein also acts as helicase and nucleoside triphosphatase. First (N-terminal) 180 aminoacids of NS3 has additional role as cofactor domains for NS2 protein.\\n\\n\\n== See also ==\\nBoceprevir, sovaprevir, paritaprevir and telaprevir - drugs targeting this protein\\n\\n\\n== References ==\\n\\n\\n== External links ==\\nhttp://www.uniprot.org/uniprot/Q91RS4                                                                                                                                                                                                                                                                                                                                                                                                                                                                                                                                                                                                                                                                                                                                                                                                                                                                                                                                                                                                                                                                                                                                                                                                                                                                                                                                                                                                                                                                                                                                                                                                                                                                                                                                                                                                                                                                                                                                                                                                                                                                                                                                                                                                                                                                                                                                                                                                                                                                                                                                                                                                                                                                                                                                                                                                                                                                                                                                                                                                                                                                                                                                                                                                                                                                                                                                                                                                                                                                                                                                                                                                                                                                                                                                                                                                                                                                                                                                                                                                                                                                                                                                                                                                                                                                                                                                                                                                                                                                                               1\n",
              "For many animals, particularly domesticated ones, there are specific names for males, females, young, and groups.\\nThe best-known source of many English words used for collective groupings of animals is The Book of Saint Albans, an essay on hunting published in 1486 and attributed to Juliana Berners. Most terms used here may be found in common dictionaries and general information web sites.\\n\\n\\n== Generic terms ==\\nThe terms in this table apply to many or all taxa in a particular biological family, class, or clade.\\n\\n\\n== Terms by species or taxon ==\\n\\n\\n== Usage of collective nouns ==\\nMerriam-Webster writes that most terms of venery fell out of use in the 16th century, including a \"murder\" for crows. It goes on to say that some of the terms in The Book of Saint Albans were \"rather fanciful\", explaining that the book extended collective nouns to people of specific professions, such as a \"poverty\" of pipers. It concludes that for lexicographers, many of these don't satisfy criteria for entry by being \"used consistently in running prose\" without meriting explanation. Some terms that were listed as commonly used were \"herd\", \"flock\", \"school\", and \"swarm\".Writing for Audubon, Nicholas Lund says that many such terms are not used in actuality. When he interviewed scientists who specialize in studying specific animals, they had not heard of these terms, such as a \"bask\" of crocodiles or \"wisdom\" of wombats, being applied in their fields. Lund noted that the common plural nouns for animals were \"flock\" for birds and \"herd\" for cows, conceding that for certain animals in small groups, there was currency in usage such as a \"pod\" of whales or \"gaggle\" of geese.\\n\\n\\n== See also ==\\nAnimal epithet\\nLists of animals\\nList of animal sounds\\nwikt:Appendix:Animals, a similar list on English Wiktionary\\n\\n\\n== Notes ==\\n\\n\\n== References ==\\n\\n\\n== Further reading ==\\nPeter Gray, \"The encyclopedia of the biological sciences\", 1970\\nLipton, James (1993) [1968]. An Exaltation of Larks (Ultimate ed.). Penguin. ISBN 978-0-14-017096-2.                                                                                                                                                                                                                                                                                                                                                                                                                                                                                                                                                                                                                                                                                                                                                                                                                                                                                                                                                                                                                                                                                                                                                                                                                                                                                                                                                                                                                                                                                                                                                                                                                                                                                                                                                                                                                                                                                                                                                                                                                                                                                                                                                                                                                                                                                                                                                                                                                                                                                                                                                                                                                                                                                                                                                                                                                                                                                                                                           1\n",
              "Name: Content, Length: 4250, dtype: int64"
            ]
          },
          "metadata": {
            "tags": []
          },
          "execution_count": 23
        }
      ]
    },
    {
      "cell_type": "code",
      "metadata": {
        "id": "3Qgl29Um07H1"
      },
      "source": [
        ""
      ],
      "execution_count": null,
      "outputs": []
    },
    {
      "cell_type": "code",
      "metadata": {
        "id": "PZ21pfQvgtNA"
      },
      "source": [
        "from transformers import BertTokenizer\n",
        "\n",
        "# Load BERT tokenizer\n",
        "print('Loading BERT tokenizer')\n",
        "tokenizer = BertTokenizer.from_pretrained('bert-base-uncased', do_lower_case=True)"
      ],
      "execution_count": null,
      "outputs": []
    },
    {
      "cell_type": "code",
      "metadata": {
        "id": "FTUSIIZAhcVT"
      },
      "source": [
        "# Make sure it is tokenizing correctly:\n",
        "\n",
        "# Print original articles\n",
        "print(' Original: ', docs[0])\n",
        "\n",
        "# Print a doc split into tokens\n",
        "print('Tokenized: ', tokenizer.tokenize(docs[0]))\n",
        "\n",
        "# Print docs as mapped to ids\n",
        "print('Token IDs: ', tokenizer.convert_tokens_to_ids(tokenizer.tokenize(docs[0])))"
      ],
      "execution_count": null,
      "outputs": []
    },
    {
      "cell_type": "code",
      "metadata": {
        "id": "b9mSOV7GhvdA"
      },
      "source": [
        "max_len = 0\n",
        "\n",
        "for d in doc:\n",
        "\n",
        "    # Tokenize text and add `[CLS]` and `[SEP]` tokens\n",
        "    input_ids = tokenizer.encode(d, add_special_tokens=True)\n",
        "\n",
        "    # Update max length\n",
        "    max_len = max(max_len, len(input_ids))\n",
        "\n",
        "print('Max sentence length: ', max_len)"
      ],
      "execution_count": null,
      "outputs": []
    },
    {
      "cell_type": "code",
      "metadata": {
        "id": "pgtsq-3s0jyF"
      },
      "source": [
        "# Finishing tokenizing all docs and map tokens to thier word IDs\n",
        "input_ids = []\n",
        "attention_masks = []\n",
        "\n",
        "for d in docs:\n",
        "\n",
        "    encoded_dict = tokenizer.encode_plus(\n",
        "                        d,                      # Docs to encode.\n",
        "                        truncation=True,\n",
        "                        add_special_tokens = True, # Add '[CLS]' and '[SEP]'\n",
        "                        max_length = 256,           # Pad & truncate all docs\n",
        "                        pad_to_max_length = True,\n",
        "                        return_attention_mask = True,   # Attention masks\n",
        "                        return_tensors = 'pt',     # Return pytorch tensors.\n",
        "                   )\n",
        "    \n",
        "    input_ids.append(encoded_dict['input_ids'])\n",
        "    \n",
        "    attention_masks.append(encoded_dict['attention_mask'])\n",
        "\n",
        "# Convert the lists into tensors.\n",
        "input_ids = torch.cat(input_ids, dim=0)\n",
        "attention_masks = torch.cat(attention_masks, dim=0)\n",
        "\n",
        "\n",
        "labels = torch.tensor(labels)\n",
        "\n",
        "# Print sentence 0, now as a list of IDs.\n",
        "print('Original: ', docs[0])\n",
        "print('Token IDs:', input_ids[0])\n",
        "print('Reverse:', tokenizer.convert_ids_to_tokens(input_ids[0]))"
      ],
      "execution_count": null,
      "outputs": []
    },
    {
      "cell_type": "code",
      "metadata": {
        "id": "gVofTi9U01pb"
      },
      "source": [
        "# Split up training & testing/validation\n",
        "\n",
        "from torch.utils.data import TensorDataset, random_split\n",
        "\n",
        "dataset = TensorDataset(input_ids, attention_masks, labels)\n",
        "\n",
        "# 90:10 split\n",
        "\n",
        "# Number of samples to include per set\n",
        "train_size = int(0.9 * len(dataset))\n",
        "val_size = len(dataset) - train_size\n",
        "\n",
        "#"
      ],
      "execution_count": null,
      "outputs": []
    },
    {
      "cell_type": "code",
      "metadata": {
        "id": "ceVT2Jmoph4x"
      },
      "source": [
        "## Ignore this cell for now\n",
        "# Trying out example BERT\n",
        "\n",
        "# Single training/test example for simple sequence classification\n",
        "class InputExample(object):\n",
        "\n",
        "    def __init__(self, guid, text_a, text_b=None, label=None):\n",
        "        \"\"\"Constructs a InputExample.\n",
        "\n",
        "        Args:\n",
        "            guid: Unique id for the example.\n",
        "            text_a: string. The untokenized text of the first sequence. For single\n",
        "            sequence tasks, only this sequence must be specified.\n",
        "            text_b: (Optional) string. The untokenized text of the second sequence.\n",
        "            Only must be specified for sequence pair tasks.\n",
        "            label: (Optional) string. The label of the example. This should be\n",
        "            specified for train and dev examples, but not for test examples.\n",
        "        \"\"\"\n",
        "        self.guid = guid\n",
        "        self.text_a = text_a\n",
        "        self.text_b = text_b\n",
        "        self.label = label\n",
        "\n",
        "\n",
        "class InputFeatures(object):\n",
        "    \"\"\"Single set of features of data.\"\"\"\n",
        "\n",
        "    def __init__(self, input_ids, input_mask, segment_ids, label_id):\n",
        "        self.input_ids = input_ids\n",
        "        self.input_mask = input_mask\n",
        "        self.segment_ids = segment_ids\n",
        "        self.label_id = label_id"
      ],
      "execution_count": null,
      "outputs": []
    }
  ]
}