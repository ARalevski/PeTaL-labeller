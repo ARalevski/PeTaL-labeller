{
 "cells": [
  {
   "cell_type": "code",
   "execution_count": 2,
   "metadata": {},
   "outputs": [],
   "source": [
    "import os\n",
    "import pandas as pd\n",
    "import wikipedia"
   ]
  },
  {
   "cell_type": "code",
   "execution_count": 3,
   "metadata": {},
   "outputs": [],
   "source": [
    "df = pd.read_csv('Downloads/Biological-Strategies-Export-2020-October-01-1849 (1).csv')"
   ]
  },
  {
   "cell_type": "code",
   "execution_count": 4,
   "metadata": {},
   "outputs": [],
   "source": [
    "df = df[['id', 'Title', 'Living Systems', 'Sources_source_link', 'Functions']]\n",
    "df = df[df['Functions'].notnull( )]\n",
    "\n",
    "#rows that having a living system\n",
    "df = df[df['Living Systems'].notnull()]"
   ]
  },
  {
   "cell_type": "code",
   "execution_count": 5,
   "metadata": {},
   "outputs": [
    {
     "data": {
      "text/html": [
       "<div>\n",
       "<style scoped>\n",
       "    .dataframe tbody tr th:only-of-type {\n",
       "        vertical-align: middle;\n",
       "    }\n",
       "\n",
       "    .dataframe tbody tr th {\n",
       "        vertical-align: top;\n",
       "    }\n",
       "\n",
       "    .dataframe thead th {\n",
       "        text-align: right;\n",
       "    }\n",
       "</style>\n",
       "<table border=\"1\" class=\"dataframe\">\n",
       "  <thead>\n",
       "    <tr style=\"text-align: right;\">\n",
       "      <th></th>\n",
       "      <th>id</th>\n",
       "      <th>Title</th>\n",
       "      <th>Living Systems</th>\n",
       "      <th>Sources_source_link</th>\n",
       "      <th>Functions</th>\n",
       "    </tr>\n",
       "  </thead>\n",
       "  <tbody>\n",
       "    <tr>\n",
       "      <th>0</th>\n",
       "      <td>542</td>\n",
       "      <td>Plumage releases air to propel body out of water</td>\n",
       "      <td>Aptenodytes forsteri</td>\n",
       "      <td>http://www.int-res.com/articles/theme/m430p171...</td>\n",
       "      <td>Modify speed|Move in/on liquids</td>\n",
       "    </tr>\n",
       "    <tr>\n",
       "      <th>1</th>\n",
       "      <td>1286</td>\n",
       "      <td>Swim bladder helps maintain buoyancy</td>\n",
       "      <td>Actinopterygii</td>\n",
       "      <td>http://www.amazon.com/Comparative-Biomechanics...</td>\n",
       "      <td>Modify buoyancy</td>\n",
       "    </tr>\n",
       "    <tr>\n",
       "      <th>3</th>\n",
       "      <td>1648</td>\n",
       "      <td>Eyes squirt blood</td>\n",
       "      <td>Phrynosoma</td>\n",
       "      <td>http://www.amazon.com/Hidden-Powers-Animals-Un...</td>\n",
       "      <td>Expel liquids|Expel solids|Protect from animals</td>\n",
       "    </tr>\n",
       "    <tr>\n",
       "      <th>4</th>\n",
       "      <td>1938</td>\n",
       "      <td>Buckling valve sucks in prey</td>\n",
       "      <td>Lentibulariaceae</td>\n",
       "      <td>http://www.amazon.com/Private-Life-Plants-Davi...</td>\n",
       "      <td>Capture, absorb, or filter organisms</td>\n",
       "    </tr>\n",
       "    <tr>\n",
       "      <th>10</th>\n",
       "      <td>2014</td>\n",
       "      <td>Structure distributes stress</td>\n",
       "      <td>Pinus sylvestris</td>\n",
       "      <td>http://dx.doi.org/10.1049/ji-1.1945.0103,http:...</td>\n",
       "      <td>Manage compression|Manage shear|Manage tension</td>\n",
       "    </tr>\n",
       "    <tr>\n",
       "      <th>...</th>\n",
       "      <td>...</td>\n",
       "      <td>...</td>\n",
       "      <td>...</td>\n",
       "      <td>...</td>\n",
       "      <td>...</td>\n",
       "    </tr>\n",
       "    <tr>\n",
       "      <th>1719</th>\n",
       "      <td>93283</td>\n",
       "      <td>Interaction with adults leads to faster nest b...</td>\n",
       "      <td>Taeniopygia guttata</td>\n",
       "      <td>https://academic.oup.com/beheco/article/31/4/8...</td>\n",
       "      <td>Physically assemble structure|Self-replicate</td>\n",
       "    </tr>\n",
       "    <tr>\n",
       "      <th>1720</th>\n",
       "      <td>93287</td>\n",
       "      <td>Chemicals in oregano act as fungicide</td>\n",
       "      <td>Origanum vulgare</td>\n",
       "      <td>https://sci-hub.st/10.1111/1750-3841.12700,htt...</td>\n",
       "      <td>Chemically break down organic compounds|Distri...</td>\n",
       "    </tr>\n",
       "    <tr>\n",
       "      <th>1721</th>\n",
       "      <td>93338</td>\n",
       "      <td>Brain acts as both teacher and student</td>\n",
       "      <td>Taeniopygia guttata</td>\n",
       "      <td>https://elifesciences.org/articles/20944,https...</td>\n",
       "      <td>Encode/Decode|Learn|Differentiate signal from ...</td>\n",
       "    </tr>\n",
       "    <tr>\n",
       "      <th>1723</th>\n",
       "      <td>93385</td>\n",
       "      <td>Leaf pores draw water through plants</td>\n",
       "      <td>Quercus</td>\n",
       "      <td>http://www.amazon.com/Work-Nature-Diversity-Li...</td>\n",
       "      <td>Regulate hydrological flows|Regulate water sto...</td>\n",
       "    </tr>\n",
       "    <tr>\n",
       "      <th>1724</th>\n",
       "      <td>93416</td>\n",
       "      <td>Birds build responsively</td>\n",
       "      <td>Taeniopygia guttata, zebra finch</td>\n",
       "      <td>https://sci-hub.st/10.1098/rspb.2013.3225,http...</td>\n",
       "      <td>Physically assemble structure|Adapt behaviors|...</td>\n",
       "    </tr>\n",
       "  </tbody>\n",
       "</table>\n",
       "<p>548 rows × 5 columns</p>\n",
       "</div>"
      ],
      "text/plain": [
       "         id                                              Title  \\\n",
       "0       542   Plumage releases air to propel body out of water   \n",
       "1      1286               Swim bladder helps maintain buoyancy   \n",
       "3      1648                                  Eyes squirt blood   \n",
       "4      1938                       Buckling valve sucks in prey   \n",
       "10     2014                       Structure distributes stress   \n",
       "...     ...                                                ...   \n",
       "1719  93283  Interaction with adults leads to faster nest b...   \n",
       "1720  93287              Chemicals in oregano act as fungicide   \n",
       "1721  93338             Brain acts as both teacher and student   \n",
       "1723  93385               Leaf pores draw water through plants   \n",
       "1724  93416                           Birds build responsively   \n",
       "\n",
       "                        Living Systems  \\\n",
       "0                 Aptenodytes forsteri   \n",
       "1                       Actinopterygii   \n",
       "3                           Phrynosoma   \n",
       "4                     Lentibulariaceae   \n",
       "10                    Pinus sylvestris   \n",
       "...                                ...   \n",
       "1719               Taeniopygia guttata   \n",
       "1720                  Origanum vulgare   \n",
       "1721               Taeniopygia guttata   \n",
       "1723                           Quercus   \n",
       "1724  Taeniopygia guttata, zebra finch   \n",
       "\n",
       "                                    Sources_source_link  \\\n",
       "0     http://www.int-res.com/articles/theme/m430p171...   \n",
       "1     http://www.amazon.com/Comparative-Biomechanics...   \n",
       "3     http://www.amazon.com/Hidden-Powers-Animals-Un...   \n",
       "4     http://www.amazon.com/Private-Life-Plants-Davi...   \n",
       "10    http://dx.doi.org/10.1049/ji-1.1945.0103,http:...   \n",
       "...                                                 ...   \n",
       "1719  https://academic.oup.com/beheco/article/31/4/8...   \n",
       "1720  https://sci-hub.st/10.1111/1750-3841.12700,htt...   \n",
       "1721  https://elifesciences.org/articles/20944,https...   \n",
       "1723  http://www.amazon.com/Work-Nature-Diversity-Li...   \n",
       "1724  https://sci-hub.st/10.1098/rspb.2013.3225,http...   \n",
       "\n",
       "                                              Functions  \n",
       "0                       Modify speed|Move in/on liquids  \n",
       "1                                       Modify buoyancy  \n",
       "3       Expel liquids|Expel solids|Protect from animals  \n",
       "4                  Capture, absorb, or filter organisms  \n",
       "10       Manage compression|Manage shear|Manage tension  \n",
       "...                                                 ...  \n",
       "1719       Physically assemble structure|Self-replicate  \n",
       "1720  Chemically break down organic compounds|Distri...  \n",
       "1721  Encode/Decode|Learn|Differentiate signal from ...  \n",
       "1723  Regulate hydrological flows|Regulate water sto...  \n",
       "1724  Physically assemble structure|Adapt behaviors|...  \n",
       "\n",
       "[548 rows x 5 columns]"
      ]
     },
     "execution_count": 5,
     "metadata": {},
     "output_type": "execute_result"
    }
   ],
   "source": [
    "df['Living Systems'] = df.apply(lambda x: x['Living Systems'].split('|')[0], axis=1)\n",
    "df"
   ]
  },
  {
   "cell_type": "code",
   "execution_count": 6,
   "metadata": {},
   "outputs": [],
   "source": [
    "s = df['Living Systems'].str.len().sort_values(ascending=False).index\n",
    "#df.reindex(s)['Living Systems'].values"
   ]
  },
  {
   "cell_type": "markdown",
   "metadata": {},
   "source": [
    "## Wikipedia"
   ]
  },
  {
   "cell_type": "code",
   "execution_count": 7,
   "metadata": {},
   "outputs": [],
   "source": [
    "def wikipedia_scraper(row):\n",
    "    query = row['Living Systems']\n",
    "    try:\n",
    "        content = wikipedia.page(query).content\n",
    "    except:\n",
    "        content = 'no content'\n",
    "    return content"
   ]
  },
  {
   "cell_type": "code",
   "execution_count": null,
   "metadata": {},
   "outputs": [
    {
     "name": "stderr",
     "output_type": "stream",
     "text": [
      "c:\\users\\jrqia\\appdata\\local\\programs\\python\\python38-32\\lib\\site-packages\\wikipedia\\wikipedia.py:389: GuessedAtParserWarning: No parser was explicitly specified, so I'm using the best available HTML parser for this system (\"html.parser\"). This usually isn't a problem, but if you run this code on another system, or in a different virtual environment, it may use a different parser and behave differently.\n",
      "\n",
      "The code that caused this warning is on line 389 of the file c:\\users\\jrqia\\appdata\\local\\programs\\python\\python38-32\\lib\\site-packages\\wikipedia\\wikipedia.py. To get rid of this warning, pass the additional argument 'features=\"html.parser\"' to the BeautifulSoup constructor.\n",
      "\n",
      "  lis = BeautifulSoup(html).find_all('li')\n"
     ]
    }
   ],
   "source": [
    "df['Wikipedia'] = df.apply(wikipedia_scraper, axis=1)"
   ]
  },
  {
   "cell_type": "code",
   "execution_count": null,
   "metadata": {},
   "outputs": [],
   "source": [
    "df['single_label'] = df.apply(lambda x: x['Functions'].split('|')[0], axis=1)\n",
    "df.to_csv('single_label.csv')"
   ]
  },
  {
   "cell_type": "code",
   "execution_count": 1,
   "metadata": {},
   "outputs": [
    {
     "ename": "NameError",
     "evalue": "name 'df' is not defined",
     "output_type": "error",
     "traceback": [
      "\u001b[1;31m---------------------------------------------------------------------------\u001b[0m",
      "\u001b[1;31mNameError\u001b[0m                                 Traceback (most recent call last)",
      "\u001b[1;32m<ipython-input-1-f6ac8e0f92d5>\u001b[0m in \u001b[0;36m<module>\u001b[1;34m\u001b[0m\n\u001b[1;32m----> 1\u001b[1;33m \u001b[0mtop_5\u001b[0m \u001b[1;33m=\u001b[0m \u001b[0mdf\u001b[0m\u001b[1;33m[\u001b[0m\u001b[1;34m'single_label'\u001b[0m\u001b[1;33m]\u001b[0m\u001b[1;33m.\u001b[0m\u001b[0mvalue_counts\u001b[0m\u001b[1;33m(\u001b[0m\u001b[1;33m)\u001b[0m\u001b[1;33m.\u001b[0m\u001b[0mindex\u001b[0m\u001b[1;33m[\u001b[0m\u001b[1;33m:\u001b[0m\u001b[1;36m5\u001b[0m\u001b[1;33m]\u001b[0m\u001b[1;33m\u001b[0m\u001b[1;33m\u001b[0m\u001b[0m\n\u001b[0m\u001b[0;32m      2\u001b[0m \u001b[0mdf\u001b[0m\u001b[1;33m[\u001b[0m\u001b[0mdf\u001b[0m\u001b[1;33m[\u001b[0m\u001b[1;34m'Functions'\u001b[0m\u001b[1;33m]\u001b[0m\u001b[1;33m.\u001b[0m\u001b[0misin\u001b[0m\u001b[1;33m(\u001b[0m\u001b[0mtop_5\u001b[0m\u001b[1;33m)\u001b[0m\u001b[1;33m]\u001b[0m\u001b[1;33m\u001b[0m\u001b[1;33m\u001b[0m\u001b[0m\n",
      "\u001b[1;31mNameError\u001b[0m: name 'df' is not defined"
     ]
    }
   ],
   "source": [
    "top_5 = df['single_label'].value_counts().index[:5]\n",
    "df[df['Functions'].isin(top_5)]"
   ]
  },
  {
   "cell_type": "code",
   "execution_count": 118,
   "metadata": {},
   "outputs": [
    {
     "data": {
      "text/plain": [
       "86"
      ]
     },
     "execution_count": 118,
     "metadata": {},
     "output_type": "execute_result"
    }
   ],
   "source": [
    "len(df['single_label'].unique())"
   ]
  },
  {
   "cell_type": "code",
   "execution_count": 86,
   "metadata": {},
   "outputs": [],
   "source": [
    "os.chdir('C:/Usevalue_countsia/Downloads')\n",
    "df.to_csv('ask_nature_living_systems.csv')"
   ]
  },
  {
   "cell_type": "markdown",
   "metadata": {},
   "source": [
    "## Highwire"
   ]
  },
  {
   "cell_type": "code",
   "execution_count": 36,
   "metadata": {},
   "outputs": [],
   "source": [
    "#Highwire Articles\n",
    "import xml.etree.ElementTree as ET\n",
    "tree = ET.parse('Downloads/zu1491/000_M46-000.xml')\n",
    "root = tree.getroot()"
   ]
  },
  {
   "cell_type": "code",
   "execution_count": 37,
   "metadata": {},
   "outputs": [
    {
     "data": {
      "text/plain": [
       "'article'"
      ]
     },
     "execution_count": 37,
     "metadata": {},
     "output_type": "execute_result"
    }
   ],
   "source": [
    "root.tag"
   ]
  },
  {
   "cell_type": "code",
   "execution_count": 43,
   "metadata": {},
   "outputs": [],
   "source": [
    "import glob\n",
    "for file in glob.glob('*.py'):\n",
    "    print(file)"
   ]
  },
  {
   "cell_type": "code",
   "execution_count": 79,
   "metadata": {},
   "outputs": [
    {
     "data": {
      "text/plain": [
       "'C:\\\\Users\\\\jrqia\\\\Downloads\\\\zu1491'"
      ]
     },
     "execution_count": 79,
     "metadata": {},
     "output_type": "execute_result"
    }
   ],
   "source": [
    "os.getcwd()"
   ]
  },
  {
   "cell_type": "markdown",
   "metadata": {},
   "source": [
    "## AskNature Second Link"
   ]
  },
  {
   "cell_type": "code",
   "execution_count": 59,
   "metadata": {},
   "outputs": [
    {
     "data": {
      "text/html": [
       "<div>\n",
       "<style scoped>\n",
       "    .dataframe tbody tr th:only-of-type {\n",
       "        vertical-align: middle;\n",
       "    }\n",
       "\n",
       "    .dataframe tbody tr th {\n",
       "        vertical-align: top;\n",
       "    }\n",
       "\n",
       "    .dataframe thead th {\n",
       "        text-align: right;\n",
       "    }\n",
       "</style>\n",
       "<table border=\"1\" class=\"dataframe\">\n",
       "  <thead>\n",
       "    <tr style=\"text-align: right;\">\n",
       "      <th></th>\n",
       "      <th>id</th>\n",
       "      <th>Title</th>\n",
       "      <th>Living Systems</th>\n",
       "      <th>Sources_source_link</th>\n",
       "      <th>Functions</th>\n",
       "      <th>Wikipedia</th>\n",
       "    </tr>\n",
       "  </thead>\n",
       "  <tbody>\n",
       "    <tr>\n",
       "      <th>13</th>\n",
       "      <td>2324</td>\n",
       "      <td>Beak design absorbs high-energy impacts</td>\n",
       "      <td>Ramphastos toco</td>\n",
       "      <td>http://dx.doi.org/10.1016/j.actamat.2005.04.04...</td>\n",
       "      <td>Manage impact</td>\n",
       "      <td>The toco toucan (Ramphastos toco), also known ...</td>\n",
       "    </tr>\n",
       "    <tr>\n",
       "      <th>17</th>\n",
       "      <td>2362</td>\n",
       "      <td>Saliva regulates digestion</td>\n",
       "      <td>Heloderma suspectum</td>\n",
       "      <td>http://www.jbc.org/content/267/11/7402.abstract</td>\n",
       "      <td>Maintain homeostasis|Regulate cellular processes</td>\n",
       "      <td>The Gila monster (Heloderma suspectum,  HEE-lə...</td>\n",
       "    </tr>\n",
       "    <tr>\n",
       "      <th>21</th>\n",
       "      <td>2367</td>\n",
       "      <td>'Bombs' distract predators</td>\n",
       "      <td>Swima bombiviridis</td>\n",
       "      <td>http://dx.doi.org/10.1126/science.1172488</td>\n",
       "      <td>Transform radiant energy (light)|Send light si...</td>\n",
       "      <td>Swima bombiviridis is a worm species that live...</td>\n",
       "    </tr>\n",
       "    <tr>\n",
       "      <th>36</th>\n",
       "      <td>2393</td>\n",
       "      <td>Organ generates electricity</td>\n",
       "      <td>Electrophorus electricus</td>\n",
       "      <td>https://epub.uni-regensburg.de/2108/</td>\n",
       "      <td>Modify electric charge|Transform electrical en...</td>\n",
       "      <td>The electric eel (Electrophorus electricus, ot...</td>\n",
       "    </tr>\n",
       "    <tr>\n",
       "      <th>38</th>\n",
       "      <td>2400</td>\n",
       "      <td>Wings generate lift</td>\n",
       "      <td>Apis mellifera</td>\n",
       "      <td>http://biomimetic.pbworks.com/f/Short-amplitud...</td>\n",
       "      <td>Move in/through gases</td>\n",
       "      <td>The western honey bee or European honey bee (A...</td>\n",
       "    </tr>\n",
       "    <tr>\n",
       "      <th>...</th>\n",
       "      <td>...</td>\n",
       "      <td>...</td>\n",
       "      <td>...</td>\n",
       "      <td>...</td>\n",
       "      <td>...</td>\n",
       "      <td>...</td>\n",
       "    </tr>\n",
       "    <tr>\n",
       "      <th>1717</th>\n",
       "      <td>93260</td>\n",
       "      <td>Pheromones turn nematodes into pest-killing ma...</td>\n",
       "      <td>Nematoda</td>\n",
       "      <td>https://biblio.ugent.be/publication/1269676/fi...</td>\n",
       "      <td>Capture, absorb, or filter organisms|Cooperate...</td>\n",
       "      <td>The nematodes (UK:  NEM-ə-tohdz, US:  NEEM- Gr...</td>\n",
       "    </tr>\n",
       "    <tr>\n",
       "      <th>1719</th>\n",
       "      <td>93283</td>\n",
       "      <td>Interaction with adults leads to faster nest b...</td>\n",
       "      <td>Taeniopygia guttata</td>\n",
       "      <td>https://academic.oup.com/beheco/article/31/4/8...</td>\n",
       "      <td>Physically assemble structure|Self-replicate</td>\n",
       "      <td>The zebra finch (Taeniopygia guttata) is the m...</td>\n",
       "    </tr>\n",
       "    <tr>\n",
       "      <th>1720</th>\n",
       "      <td>93287</td>\n",
       "      <td>Chemicals in oregano act as fungicide</td>\n",
       "      <td>Origanum vulgare</td>\n",
       "      <td>https://sci-hub.st/10.1111/1750-3841.12700,htt...</td>\n",
       "      <td>Chemically break down organic compounds|Distri...</td>\n",
       "      <td>Oregano (US: , UK: ; Origanum vulgare) is a fl...</td>\n",
       "    </tr>\n",
       "    <tr>\n",
       "      <th>1721</th>\n",
       "      <td>93338</td>\n",
       "      <td>Brain acts as both teacher and student</td>\n",
       "      <td>Taeniopygia guttata</td>\n",
       "      <td>https://elifesciences.org/articles/20944,https...</td>\n",
       "      <td>Encode/Decode|Learn|Differentiate signal from ...</td>\n",
       "      <td>The zebra finch (Taeniopygia guttata) is the m...</td>\n",
       "    </tr>\n",
       "    <tr>\n",
       "      <th>1724</th>\n",
       "      <td>93416</td>\n",
       "      <td>Birds build responsively</td>\n",
       "      <td>Taeniopygia guttata, zebra finch</td>\n",
       "      <td>https://sci-hub.st/10.1098/rspb.2013.3225,http...</td>\n",
       "      <td>Physically assemble structure|Adapt behaviors|...</td>\n",
       "      <td>The zebra finch (Taeniopygia guttata) is the m...</td>\n",
       "    </tr>\n",
       "  </tbody>\n",
       "</table>\n",
       "<p>346 rows × 6 columns</p>\n",
       "</div>"
      ],
      "text/plain": [
       "         id                                              Title  \\\n",
       "13     2324            Beak design absorbs high-energy impacts   \n",
       "17     2362                         Saliva regulates digestion   \n",
       "21     2367                         'Bombs' distract predators   \n",
       "36     2393                        Organ generates electricity   \n",
       "38     2400                                Wings generate lift   \n",
       "...     ...                                                ...   \n",
       "1717  93260  Pheromones turn nematodes into pest-killing ma...   \n",
       "1719  93283  Interaction with adults leads to faster nest b...   \n",
       "1720  93287              Chemicals in oregano act as fungicide   \n",
       "1721  93338             Brain acts as both teacher and student   \n",
       "1724  93416                           Birds build responsively   \n",
       "\n",
       "                        Living Systems  \\\n",
       "13                     Ramphastos toco   \n",
       "17                 Heloderma suspectum   \n",
       "21                  Swima bombiviridis   \n",
       "36            Electrophorus electricus   \n",
       "38                      Apis mellifera   \n",
       "...                                ...   \n",
       "1717                          Nematoda   \n",
       "1719               Taeniopygia guttata   \n",
       "1720                  Origanum vulgare   \n",
       "1721               Taeniopygia guttata   \n",
       "1724  Taeniopygia guttata, zebra finch   \n",
       "\n",
       "                                    Sources_source_link  \\\n",
       "13    http://dx.doi.org/10.1016/j.actamat.2005.04.04...   \n",
       "17      http://www.jbc.org/content/267/11/7402.abstract   \n",
       "21            http://dx.doi.org/10.1126/science.1172488   \n",
       "36                 https://epub.uni-regensburg.de/2108/   \n",
       "38    http://biomimetic.pbworks.com/f/Short-amplitud...   \n",
       "...                                                 ...   \n",
       "1717  https://biblio.ugent.be/publication/1269676/fi...   \n",
       "1719  https://academic.oup.com/beheco/article/31/4/8...   \n",
       "1720  https://sci-hub.st/10.1111/1750-3841.12700,htt...   \n",
       "1721  https://elifesciences.org/articles/20944,https...   \n",
       "1724  https://sci-hub.st/10.1098/rspb.2013.3225,http...   \n",
       "\n",
       "                                              Functions  \\\n",
       "13                                        Manage impact   \n",
       "17     Maintain homeostasis|Regulate cellular processes   \n",
       "21    Transform radiant energy (light)|Send light si...   \n",
       "36    Modify electric charge|Transform electrical en...   \n",
       "38                                Move in/through gases   \n",
       "...                                                 ...   \n",
       "1717  Capture, absorb, or filter organisms|Cooperate...   \n",
       "1719       Physically assemble structure|Self-replicate   \n",
       "1720  Chemically break down organic compounds|Distri...   \n",
       "1721  Encode/Decode|Learn|Differentiate signal from ...   \n",
       "1724  Physically assemble structure|Adapt behaviors|...   \n",
       "\n",
       "                                              Wikipedia  \n",
       "13    The toco toucan (Ramphastos toco), also known ...  \n",
       "17    The Gila monster (Heloderma suspectum,  HEE-lə...  \n",
       "21    Swima bombiviridis is a worm species that live...  \n",
       "36    The electric eel (Electrophorus electricus, ot...  \n",
       "38    The western honey bee or European honey bee (A...  \n",
       "...                                                 ...  \n",
       "1717  The nematodes (UK:  NEM-ə-tohdz, US:  NEEM- Gr...  \n",
       "1719  The zebra finch (Taeniopygia guttata) is the m...  \n",
       "1720  Oregano (US: , UK: ; Origanum vulgare) is a fl...  \n",
       "1721  The zebra finch (Taeniopygia guttata) is the m...  \n",
       "1724  The zebra finch (Taeniopygia guttata) is the m...  \n",
       "\n",
       "[346 rows x 6 columns]"
      ]
     },
     "execution_count": 59,
     "metadata": {},
     "output_type": "execute_result"
    }
   ],
   "source": [
    "#rows that have links and are not books from amazon\n",
    "df = df[df['Sources_source_link'].notnull()]\n",
    "df = df[~df['Sources_source_link'].str.contains('amazon.com')]\n",
    "\n",
    "#links that end with pdf\n",
    "pdf_df = df[df['Sources_source_link'].str.endswith('.pdf')]\n",
    "\n",
    "#df without links that end with pdf\n",
    "df = df[~df['Sources_source_link'].str.endswith('.pdf')]\n",
    "df"
   ]
  },
  {
   "cell_type": "code",
   "execution_count": 58,
   "metadata": {},
   "outputs": [
    {
     "data": {
      "text/plain": [
       "array(['http://dx.doi.org/10.1016/j.actamat.2005.04.048,http://jacobsschool.ucsd.edu/news/news_releases/release.sfe?id=417',\n",
       "       'http://www.jbc.org/content/267/11/7402.abstract',\n",
       "       'http://dx.doi.org/10.1126/science.1172488',\n",
       "       'https://epub.uni-regensburg.de/2108/',\n",
       "       'http://biomimetic.pbworks.com/f/Short-amplitude+high-frequency+wing+strokes+determineAltshuler.pdf,https://www.ncbi.nlm.nih.gov/pubmed/14581590,https://www.jstor.org/stable/10.1086/678955,https://www.annualreviews.org/doi/abs/10.1146/annurev.fluid.36.050802.121940',\n",
       "       'http://dx.doi.org/10.1242/jeb.02063,http://dx.doi.org/10.1644/08-mamm-a-108.1',\n",
       "       'http://science.sciencemag.org/content/317/5844/1563.long',\n",
       "       'http://dx.doi.org/10.1038/nchembio0107-15',\n",
       "       'http://dx.doi.org/10.1242/jeb.002071',\n",
       "       'http://www.plantphysiol.org/content/136/1/2457.full,https://link.springer.com/article/10.1007/s00468-010-0417-x,https://link.springer.com/article/10.1007%2Fs00468-001-0153-3?LI=true,http://www.nrcresearchpress.com/doi/abs/10.1139/a10-014,https://books.google.com/books?id=tXP8CAAAQBAJ&lpg=PP1&dq=Contributions%20to%20the%20ecology%20of%20halophytes&pg=PR3#v=onepage&q=Contributions%20to%20the%20ecology%20of%20halophytes&f=false,https://link.springer.com/article/10.1007%2Fs00425-002-0878-2?LI=true'],\n",
       "      dtype=object)"
      ]
     },
     "execution_count": 58,
     "metadata": {},
     "output_type": "execute_result"
    }
   ],
   "source": [
    "df['Sources_source_link'].values[:10]"
   ]
  },
  {
   "cell_type": "code",
   "execution_count": null,
   "metadata": {},
   "outputs": [],
   "source": []
  },
  {
   "cell_type": "code",
   "execution_count": 76,
   "metadata": {},
   "outputs": [
    {
     "name": "stdout",
     "output_type": "stream",
     "text": [
      "http://www.doi.org/index.html\n",
      "http://www.doi.org/hb.html\n",
      "http://www.doi.org/factsheets.html\n",
      "http://www.doi.org/faq.html\n",
      "http://www.doi.org/resources.html\n",
      "http://www.doi.org/users.html\n",
      "http://www.doi.org/announce.html\n",
      "http://www.doi.org/idf-members/index.html\n",
      "/help.html\n"
     ]
    }
   ],
   "source": [
    "import urllib.request\n",
    "from bs4 import BeautifulSoup\n",
    "import requests\n",
    "\n",
    "page = requests.get('http://dx.doi.org/10.1016/j.actamat.2005.04.048,http://jacobsschool.ucsd.edu/news/news_releases/release.sfe?id=417')\n",
    "soup = BeautifulSoup(page.text, 'html.parser')\n",
    "for link in soup.findAll('a'):\n",
    "    print(link.get('href'))"
   ]
  },
  {
   "cell_type": "code",
   "execution_count": 75,
   "metadata": {},
   "outputs": [],
   "source": [
    "def link_parser(row):\n",
    "    links = row['Sources_source_link']\n",
    "    if ',' in links:\n",
    "        multiple_links = links.split(',')\n",
    "        sublink_pdfs = []\n",
    "        #print(multiple_links)\n",
    "        for sublink in multiple_links:\n",
    "            try:\n",
    "                sub_page = requests.get(sublink)\n",
    "            except:\n",
    "                return 'request error'\n",
    "            sub_soup = BeautifulSoup(sub_page.text, 'html.parser')\n",
    "            for l in sub_soup.findAll('a'):\n",
    "                if l.get('href') is not None and l.get('href').endswith('.pdf'):\n",
    "                    sublink_pdfs.append(l.get('href'))\n",
    "        return sublink_pdfs            \n",
    "    else:\n",
    "        try:\n",
    "            page = requests.get(links)\n",
    "        except:\n",
    "            return 'request error'\n",
    "        soup = BeautifulSoup(page.text, 'html.parser')\n",
    "        link_pdfs = []\n",
    "        for link in soup.findAll('a'):\n",
    "            if link.get('href') is not None and link.get('href').endswith('.pdf'):\n",
    "                link_pdfs.append(link.get('href'))\n",
    "        return link_pdfs\n",
    "df['pdf_links'] = df.apply(link_parser, axis=1)"
   ]
  },
  {
   "cell_type": "code",
   "execution_count": null,
   "metadata": {},
   "outputs": [],
   "source": []
  },
  {
   "cell_type": "code",
   "execution_count": null,
   "metadata": {},
   "outputs": [],
   "source": [
    "#some links have their content directly on the website\n",
    "#some links have paywall for full article, but has abstract on website"
   ]
  },
  {
   "cell_type": "code",
   "execution_count": null,
   "metadata": {},
   "outputs": [],
   "source": []
  },
  {
   "cell_type": "code",
   "execution_count": null,
   "metadata": {},
   "outputs": [],
   "source": [
    "#Use page URL to obtain article from 3rd party website such as: https://sci-hub.se/"
   ]
  }
 ],
 "metadata": {
  "kernelspec": {
   "display_name": "Python 3",
   "language": "python",
   "name": "python3"
  },
  "language_info": {
   "codemirror_mode": {
    "name": "ipython",
    "version": 3
   },
   "file_extension": ".py",
   "mimetype": "text/x-python",
   "name": "python",
   "nbconvert_exporter": "python",
   "pygments_lexer": "ipython3",
   "version": "3.8.5"
  }
 },
 "nbformat": 4,
 "nbformat_minor": 4
}
